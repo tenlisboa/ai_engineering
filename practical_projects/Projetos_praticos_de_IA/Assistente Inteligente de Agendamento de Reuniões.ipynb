{
 "cells": [
  {
   "cell_type": "markdown",
   "metadata": {},
   "source": [
    "Visão Geral do Projeto\n",
    "Este projeto consiste em criar um assistente que:\n",
    "\n",
    "Recebe solicitações de reuniões em linguagem natural.\n",
    "Entende restrições e preferências dos participantes.\n",
    "Verifica os calendários dos participantes.\n",
    "Agenda reuniões de forma eficiente.\n",
    "Envia convites automaticamente.\n",
    "Utilizaremos as seguintes tecnologias:\n",
    "\n",
    "Python: Linguagem de programação principal.\n",
    "LangGraph: Para criar fluxos de trabalho baseados em estados.\n",
    "LangChain: Para interação com modelos de linguagem natural (LLMs).\n",
    "Bibliotecas de Calendário e Email: Para acessar calendários e enviar emails (exemplo: caldav, smtplib)."
   ]
  },
  {
   "cell_type": "markdown",
   "metadata": {},
   "source": [
    "Parte 1: Preparação do Ambiente\n",
    "1.1. Instalação de Bibliotecas Necessárias\n",
    "Execute o seguinte comando em uma célula do Jupyter Notebook para instalar as bibliotecas necessárias:"
   ]
  },
  {
   "cell_type": "code",
   "execution_count": 2,
   "metadata": {},
   "outputs": [
    {
     "name": "stdout",
     "output_type": "stream",
     "text": [
      "Requirement already satisfied: langgraph in /home/anderson/miniconda3/envs/nl2sqlduckdb/lib/python3.13/site-packages (0.2.38)\n",
      "Requirement already satisfied: langchain-openai in /home/anderson/miniconda3/envs/nl2sqlduckdb/lib/python3.13/site-packages (0.2.2)\n",
      "Requirement already satisfied: langchain-core in /home/anderson/miniconda3/envs/nl2sqlduckdb/lib/python3.13/site-packages (0.3.12)\n",
      "Requirement already satisfied: openai in /home/anderson/miniconda3/envs/nl2sqlduckdb/lib/python3.13/site-packages (1.51.2)\n",
      "Collecting caldav\n",
      "  Downloading caldav-1.4.0-py3-none-any.whl.metadata (2.5 kB)\n",
      "Requirement already satisfied: python-dotenv in /home/anderson/miniconda3/envs/nl2sqlduckdb/lib/python3.13/site-packages (1.0.1)\n",
      "Requirement already satisfied: langgraph-checkpoint<3.0.0,>=2.0.0 in /home/anderson/miniconda3/envs/nl2sqlduckdb/lib/python3.13/site-packages (from langgraph) (2.0.1)\n",
      "Requirement already satisfied: langgraph-sdk<0.2.0,>=0.1.32 in /home/anderson/miniconda3/envs/nl2sqlduckdb/lib/python3.13/site-packages (from langgraph) (0.1.33)\n",
      "Requirement already satisfied: tiktoken<1,>=0.7 in /home/anderson/miniconda3/envs/nl2sqlduckdb/lib/python3.13/site-packages (from langchain-openai) (0.8.0)\n",
      "Requirement already satisfied: PyYAML>=5.3 in /home/anderson/miniconda3/envs/nl2sqlduckdb/lib/python3.13/site-packages (from langchain-core) (6.0.2)\n",
      "Requirement already satisfied: jsonpatch<2.0,>=1.33 in /home/anderson/miniconda3/envs/nl2sqlduckdb/lib/python3.13/site-packages (from langchain-core) (1.33)\n",
      "Requirement already satisfied: langsmith<0.2.0,>=0.1.125 in /home/anderson/miniconda3/envs/nl2sqlduckdb/lib/python3.13/site-packages (from langchain-core) (0.1.135)\n",
      "Requirement already satisfied: packaging<25,>=23.2 in /home/anderson/miniconda3/envs/nl2sqlduckdb/lib/python3.13/site-packages (from langchain-core) (24.1)\n",
      "Requirement already satisfied: pydantic<3.0.0,>=2.7.4 in /home/anderson/miniconda3/envs/nl2sqlduckdb/lib/python3.13/site-packages (from langchain-core) (2.9.2)\n",
      "Requirement already satisfied: tenacity!=8.4.0,<10.0.0,>=8.1.0 in /home/anderson/miniconda3/envs/nl2sqlduckdb/lib/python3.13/site-packages (from langchain-core) (8.5.0)\n",
      "Requirement already satisfied: typing-extensions>=4.7 in /home/anderson/miniconda3/envs/nl2sqlduckdb/lib/python3.13/site-packages (from langchain-core) (4.12.2)\n",
      "Requirement already satisfied: anyio<5,>=3.5.0 in /home/anderson/miniconda3/envs/nl2sqlduckdb/lib/python3.13/site-packages (from openai) (4.6.2.post1)\n",
      "Requirement already satisfied: distro<2,>=1.7.0 in /home/anderson/miniconda3/envs/nl2sqlduckdb/lib/python3.13/site-packages (from openai) (1.9.0)\n",
      "Requirement already satisfied: httpx<1,>=0.23.0 in /home/anderson/miniconda3/envs/nl2sqlduckdb/lib/python3.13/site-packages (from openai) (0.27.2)\n",
      "Requirement already satisfied: jiter<1,>=0.4.0 in /home/anderson/miniconda3/envs/nl2sqlduckdb/lib/python3.13/site-packages (from openai) (0.6.1)\n",
      "Requirement already satisfied: sniffio in /home/anderson/miniconda3/envs/nl2sqlduckdb/lib/python3.13/site-packages (from openai) (1.3.1)\n",
      "Requirement already satisfied: tqdm>4 in /home/anderson/miniconda3/envs/nl2sqlduckdb/lib/python3.13/site-packages (from openai) (4.66.5)\n",
      "Collecting vobject (from caldav)\n",
      "  Downloading vobject-0.9.8-py2.py3-none-any.whl.metadata (1.8 kB)\n",
      "Collecting lxml (from caldav)\n",
      "  Downloading lxml-5.3.0-cp313-cp313-manylinux_2_28_x86_64.whl.metadata (3.8 kB)\n",
      "Requirement already satisfied: requests in /home/anderson/miniconda3/envs/nl2sqlduckdb/lib/python3.13/site-packages (from caldav) (2.32.3)\n",
      "Collecting recurring-ical-events>=2.0.0 (from caldav)\n",
      "  Downloading recurring_ical_events-3.3.3-py3-none-any.whl.metadata (35 kB)\n",
      "Collecting icalendar (from caldav)\n",
      "  Downloading icalendar-6.0.1-py3-none-any.whl.metadata (10 kB)\n",
      "Requirement already satisfied: idna>=2.8 in /home/anderson/miniconda3/envs/nl2sqlduckdb/lib/python3.13/site-packages (from anyio<5,>=3.5.0->openai) (3.10)\n",
      "Requirement already satisfied: certifi in /home/anderson/miniconda3/envs/nl2sqlduckdb/lib/python3.13/site-packages (from httpx<1,>=0.23.0->openai) (2024.8.30)\n",
      "Requirement already satisfied: httpcore==1.* in /home/anderson/miniconda3/envs/nl2sqlduckdb/lib/python3.13/site-packages (from httpx<1,>=0.23.0->openai) (1.0.6)\n",
      "Requirement already satisfied: h11<0.15,>=0.13 in /home/anderson/miniconda3/envs/nl2sqlduckdb/lib/python3.13/site-packages (from httpcore==1.*->httpx<1,>=0.23.0->openai) (0.14.0)\n",
      "Requirement already satisfied: jsonpointer>=1.9 in /home/anderson/miniconda3/envs/nl2sqlduckdb/lib/python3.13/site-packages (from jsonpatch<2.0,>=1.33->langchain-core) (3.0.0)\n",
      "Requirement already satisfied: msgpack<2.0.0,>=1.1.0 in /home/anderson/miniconda3/envs/nl2sqlduckdb/lib/python3.13/site-packages (from langgraph-checkpoint<3.0.0,>=2.0.0->langgraph) (1.1.0)\n",
      "Requirement already satisfied: httpx-sse>=0.4.0 in /home/anderson/miniconda3/envs/nl2sqlduckdb/lib/python3.13/site-packages (from langgraph-sdk<0.2.0,>=0.1.32->langgraph) (0.4.0)\n",
      "Requirement already satisfied: orjson>=3.10.1 in /home/anderson/miniconda3/envs/nl2sqlduckdb/lib/python3.13/site-packages (from langgraph-sdk<0.2.0,>=0.1.32->langgraph) (3.10.7)\n",
      "Requirement already satisfied: requests-toolbelt<2.0.0,>=1.0.0 in /home/anderson/miniconda3/envs/nl2sqlduckdb/lib/python3.13/site-packages (from langsmith<0.2.0,>=0.1.125->langchain-core) (1.0.0)\n",
      "Requirement already satisfied: annotated-types>=0.6.0 in /home/anderson/miniconda3/envs/nl2sqlduckdb/lib/python3.13/site-packages (from pydantic<3.0.0,>=2.7.4->langchain-core) (0.7.0)\n",
      "Requirement already satisfied: pydantic-core==2.23.4 in /home/anderson/miniconda3/envs/nl2sqlduckdb/lib/python3.13/site-packages (from pydantic<3.0.0,>=2.7.4->langchain-core) (2.23.4)\n",
      "Requirement already satisfied: python-dateutil<3.0.0,>=2.8.1 in /home/anderson/miniconda3/envs/nl2sqlduckdb/lib/python3.13/site-packages (from recurring-ical-events>=2.0.0->caldav) (2.9.0)\n",
      "Requirement already satisfied: tzdata in /home/anderson/miniconda3/envs/nl2sqlduckdb/lib/python3.13/site-packages (from recurring-ical-events>=2.0.0->caldav) (2024.2)\n",
      "Collecting x-wr-timezone==1.* (from recurring-ical-events>=2.0.0->caldav)\n",
      "  Downloading x_wr_timezone-1.0.1-py3-none-any.whl.metadata (9.4 kB)\n",
      "Requirement already satisfied: charset-normalizer<4,>=2 in /home/anderson/miniconda3/envs/nl2sqlduckdb/lib/python3.13/site-packages (from requests->caldav) (3.4.0)\n",
      "Requirement already satisfied: urllib3<3,>=1.21.1 in /home/anderson/miniconda3/envs/nl2sqlduckdb/lib/python3.13/site-packages (from requests->caldav) (2.2.3)\n",
      "Requirement already satisfied: regex>=2022.1.18 in /home/anderson/miniconda3/envs/nl2sqlduckdb/lib/python3.13/site-packages (from tiktoken<1,>=0.7->langchain-openai) (2024.9.11)\n",
      "Requirement already satisfied: pytz in /home/anderson/miniconda3/envs/nl2sqlduckdb/lib/python3.13/site-packages (from vobject->caldav) (2024.2)\n",
      "Requirement already satisfied: six in /home/anderson/miniconda3/envs/nl2sqlduckdb/lib/python3.13/site-packages (from vobject->caldav) (1.16.0)\n",
      "Downloading caldav-1.4.0-py3-none-any.whl (72 kB)\n",
      "Downloading recurring_ical_events-3.3.3-py3-none-any.whl (28 kB)\n",
      "Downloading x_wr_timezone-1.0.1-py3-none-any.whl (10 kB)\n",
      "Downloading icalendar-6.0.1-py3-none-any.whl (131 kB)\n",
      "Downloading lxml-5.3.0-cp313-cp313-manylinux_2_28_x86_64.whl (4.9 MB)\n",
      "\u001b[2K   \u001b[38;2;114;156;31m━━━━━━━━━━━━━━━━━━━━━━━━━━━━━━━━━━━━━━━━\u001b[0m \u001b[32m4.9/4.9 MB\u001b[0m \u001b[31m16.4 MB/s\u001b[0m eta \u001b[36m0:00:00\u001b[0m31m17.6 MB/s\u001b[0m eta \u001b[36m0:00:01\u001b[0m\n",
      "\u001b[?25hDownloading vobject-0.9.8-py2.py3-none-any.whl (47 kB)\n",
      "Installing collected packages: lxml, vobject, icalendar, x-wr-timezone, recurring-ical-events, caldav\n",
      "Successfully installed caldav-1.4.0 icalendar-6.0.1 lxml-5.3.0 recurring-ical-events-3.3.3 vobject-0.9.8 x-wr-timezone-1.0.1\n"
     ]
    }
   ],
   "source": [
    "!pip install langgraph langchain-openai langchain-core openai caldav python-dotenv\n"
   ]
  },
  {
   "cell_type": "code",
   "execution_count": 3,
   "metadata": {},
   "outputs": [],
   "source": [
    "# Importações necessárias\n",
    "import os\n",
    "import re\n",
    "import json\n",
    "import datetime\n",
    "from typing import TypedDict, List, Dict\n",
    "from langgraph.graph import StateGraph, START, END\n",
    "from langchain_openai.chat_models import ChatOpenAI\n",
    "from langchain_core.prompts import ChatPromptTemplate\n",
    "from dotenv import load_dotenv\n",
    "\n",
    "# Carregar variáveis de ambiente\n",
    "load_dotenv()\n",
    "os.environ[\"OPENAI_API_KEY\"] = os.getenv('OPENAI_API_KEY')\n",
    "\n",
    "# Inicializar o modelo de linguagem \n",
    "llm = ChatOpenAI(model_name=\"gpt-4o-mini\", temperature=0)\n"
   ]
  },
  {
   "cell_type": "markdown",
   "metadata": {},
   "source": [
    "Notas:\n",
    "\n",
    "caldav: Biblioteca para acessar calendários via protocolo CalDAV.\n",
    "python-dotenv: Para carregar variáveis de ambiente de um arquivo .env.\n",
    "langgraph, langchain-openai, langchain-core, openai: Bibliotecas para interação com modelos de linguagem e construção do fluxo de trabalho."
   ]
  },
  {
   "cell_type": "markdown",
   "metadata": {},
   "source": [
    "Parte 2: Definição das Estruturas de Dados e Estado\n",
    "2.1. Definição das Estruturas de Dados"
   ]
  },
  {
   "cell_type": "code",
   "execution_count": 4,
   "metadata": {},
   "outputs": [],
   "source": [
    "# Estruturas de dados para participantes e reuniões\n",
    "class Participant(TypedDict):\n",
    "    name: str\n",
    "    email: str\n",
    "    calendar: List[Dict[str, any]]  # Lista de eventos no calendário\n",
    "\n",
    "class MeetingRequest(TypedDict):\n",
    "    requester: str\n",
    "    attendees: List[str]\n",
    "    preferred_times: List[str]\n",
    "    duration: int  # em minutos\n",
    "    subject: str\n",
    "    constraints: Dict[str, any]\n",
    "\n",
    "class ScheduledMeeting(TypedDict):\n",
    "    subject: str\n",
    "    time: datetime.datetime\n",
    "    duration: int\n",
    "    attendees: List[str]\n",
    "    organizer: str\n"
   ]
  },
  {
   "cell_type": "markdown",
   "metadata": {},
   "source": [
    "2.2. Definição do Estado do Fluxo de Trabalho\n",
    "\n"
   ]
  },
  {
   "cell_type": "code",
   "execution_count": 5,
   "metadata": {},
   "outputs": [],
   "source": [
    "# Definição do estado\n",
    "class State(TypedDict):\n",
    "    meeting_request: MeetingRequest\n",
    "    participants: Dict[str, Participant]\n",
    "    scheduled_meeting: ScheduledMeeting\n",
    "    errors: List[str]\n"
   ]
  },
  {
   "cell_type": "markdown",
   "metadata": {},
   "source": [
    "Parte 3: Implementação das Funções de Fluxo de Trabalho\n",
    "3.1. Função para Processar a Solicitação de Reunião"
   ]
  },
  {
   "cell_type": "code",
   "execution_count": 6,
   "metadata": {},
   "outputs": [],
   "source": [
    "def parse_meeting_request(state: State) -> State:\n",
    "    \"\"\"\n",
    "    Analisa a solicitação de reunião em linguagem natural e extrai informações relevantes.\n",
    "    \"\"\"\n",
    "    meeting_request_text = state['meeting_request']['raw_text']\n",
    "    \n",
    "    prompt = ChatPromptTemplate.from_template(\n",
    "        \"\"\"\n",
    "Você é um assistente que extrai informações de solicitações de reuniões.\n",
    "A partir do texto abaixo, extraia:\n",
    "- Solicitante (nome)\n",
    "- Lista de participantes (nomes)\n",
    "- Horários preferenciais (lista de datas e horários)\n",
    "- Duração da reunião em minutos\n",
    "- Assunto da reunião\n",
    "- Restrições adicionais ou preferências\n",
    "\n",
    "Retorne as informações em formato JSON, sem texto adicional.\n",
    "\n",
    "Exemplo de formato:\n",
    "{{\n",
    "  \"requester\": \"Nome do Solicitante\",\n",
    "  \"attendees\": [\"Participante 1\", \"Participante 2\"],\n",
    "  \"preferred_times\": [\"2023-10-01 14:00\", \"2023-10-02 10:00\"],\n",
    "  \"duration\": 60,\n",
    "  \"subject\": \"Assunto da Reunião\",\n",
    "  \"constraints\": {{}}\n",
    "}}\n",
    "\n",
    "Texto da solicitação:\n",
    "{meeting_request_text}\n",
    "        \"\"\"\n",
    "    )\n",
    "    response = llm.invoke(prompt.format(meeting_request_text=meeting_request_text))\n",
    "    try:\n",
    "        meeting_info = json.loads(response.content)\n",
    "        state['meeting_request'].update(meeting_info)\n",
    "    except json.JSONDecodeError as e:\n",
    "        state['errors'].append(f\"Erro ao analisar a solicitação: {e}\")\n",
    "    return state\n"
   ]
  },
  {
   "cell_type": "markdown",
   "metadata": {},
   "source": [
    "3.2. Função para Verificar Disponibilidade dos Participantes\n",
    "\n"
   ]
  },
  {
   "cell_type": "code",
   "execution_count": 7,
   "metadata": {},
   "outputs": [],
   "source": [
    "def check_availability(state: State) -> State:\n",
    "    \"\"\"\n",
    "    Verifica a disponibilidade dos participantes nos horários preferenciais.\n",
    "    \"\"\"\n",
    "    available_times = []\n",
    "    for time_str in state['meeting_request']['preferred_times']:\n",
    "        time_obj = datetime.datetime.strptime(time_str, \"%Y-%m-%d %H:%M\")\n",
    "        duration = datetime.timedelta(minutes=state['meeting_request']['duration'])\n",
    "        end_time = time_obj + duration\n",
    "        \n",
    "        # Verificar disponibilidade de todos os participantes\n",
    "        all_available = True\n",
    "        for attendee in state['meeting_request']['attendees']:\n",
    "            calendar = state['participants'][attendee]['calendar']\n",
    "            for event in calendar:\n",
    "                event_start = event['start_time']\n",
    "                event_end = event['end_time']\n",
    "                # Se houver conflito, marcar como indisponível\n",
    "                if (time_obj < event_end) and (end_time > event_start):\n",
    "                    all_available = False\n",
    "                    break\n",
    "            if not all_available:\n",
    "                break\n",
    "        if all_available:\n",
    "            available_times.append(time_obj)\n",
    "    \n",
    "    if available_times:\n",
    "        # Agendar no primeiro horário disponível\n",
    "        state['scheduled_meeting'] = {\n",
    "            \"subject\": state['meeting_request']['subject'],\n",
    "            \"time\": available_times[0],\n",
    "            \"duration\": state['meeting_request']['duration'],\n",
    "            \"attendees\": state['meeting_request']['attendees'],\n",
    "            \"organizer\": state['meeting_request']['requester']\n",
    "        }\n",
    "    else:\n",
    "        state['errors'].append(\"Não foi possível encontrar um horário disponível.\")\n",
    "    return state\n"
   ]
  },
  {
   "cell_type": "markdown",
   "metadata": {},
   "source": [
    "3.3. Função para Enviar Convites"
   ]
  },
  {
   "cell_type": "code",
   "execution_count": 8,
   "metadata": {},
   "outputs": [],
   "source": [
    "def send_invitations(state: State) -> State:\n",
    "    \"\"\"\n",
    "    Envia convites para os participantes.\n",
    "    \"\"\"\n",
    "    if 'scheduled_meeting' not in state:\n",
    "        state['errors'].append(\"Nenhuma reunião agendada para enviar convites.\")\n",
    "        return state\n",
    "    \n",
    "    meeting = state['scheduled_meeting']\n",
    "    for attendee in meeting['attendees']:\n",
    "        email = state['participants'][attendee]['email']\n",
    "        # Aqui você implementaria o envio de email real\n",
    "        print(f\"Enviando convite para {attendee} ({email}) para a reunião '{meeting['subject']}' em {meeting['time']}.\")\n",
    "    return state\n"
   ]
  },
  {
   "cell_type": "markdown",
   "metadata": {},
   "source": [
    "Parte 4: Configuração do Fluxo de Trabalho com LangGraph\n",
    "4.1. Construção do Grafo de Estados"
   ]
  },
  {
   "cell_type": "code",
   "execution_count": 9,
   "metadata": {},
   "outputs": [],
   "source": [
    "# Inicializar o grafo de estado\n",
    "workflow = StateGraph(State)\n",
    "\n",
    "# Adicionar nós\n",
    "workflow.add_node(\"parse_meeting_request\", parse_meeting_request)\n",
    "workflow.add_node(\"check_availability\", check_availability)\n",
    "workflow.add_node(\"send_invitations\", send_invitations)\n",
    "\n",
    "# Definir as arestas\n",
    "workflow.add_edge(START, \"parse_meeting_request\")\n",
    "workflow.add_edge(\"parse_meeting_request\", \"check_availability\")\n",
    "workflow.add_edge(\"check_availability\", \"send_invitations\")\n",
    "workflow.add_edge(\"send_invitations\", END)\n",
    "\n",
    "# Definir o ponto de entrada\n",
    "workflow.set_entry_point(\"parse_meeting_request\")\n",
    "\n",
    "# Compilar o grafo\n",
    "app = workflow.compile()\n"
   ]
  },
  {
   "cell_type": "markdown",
   "metadata": {},
   "source": [
    "4.2. Função Principal para Executar o Fluxo de Trabalho\n",
    "\n"
   ]
  },
  {
   "cell_type": "code",
   "execution_count": 10,
   "metadata": {},
   "outputs": [],
   "source": [
    "def schedule_meeting(meeting_request_text: str, participants: Dict[str, Participant]):\n",
    "    \"\"\"\n",
    "    Processa a solicitação de reunião e agenda se possível.\n",
    "    \n",
    "    Args:\n",
    "        meeting_request_text (str): Texto da solicitação em linguagem natural.\n",
    "        participants (Dict[str, Participant]): Informações dos participantes.\n",
    "    \n",
    "    Returns:\n",
    "        State: Estado final após o processamento.\n",
    "    \"\"\"\n",
    "    initial_state = State(\n",
    "        meeting_request={\"raw_text\": meeting_request_text},\n",
    "        participants=participants,\n",
    "        scheduled_meeting={},\n",
    "        errors=[]\n",
    "    )\n",
    "    final_state = app.invoke(initial_state)\n",
    "    return final_state\n"
   ]
  },
  {
   "cell_type": "markdown",
   "metadata": {},
   "source": [
    "Parte 5: Exemplo de Uso\n",
    "\n",
    "5.1. Dados de Exemplo dos Participantes"
   ]
  },
  {
   "cell_type": "code",
   "execution_count": 11,
   "metadata": {},
   "outputs": [],
   "source": [
    "# Dados de exemplo dos participantes\n",
    "participants = {\n",
    "    \"Alice\": {\n",
    "        \"name\": \"Alice\",\n",
    "        \"email\": \"alice@example.com\",\n",
    "        \"calendar\": [\n",
    "            {\"start_time\": datetime.datetime(2023, 10, 1, 9, 0), \"end_time\": datetime.datetime(2023, 10, 1, 10, 0)},\n",
    "            {\"start_time\": datetime.datetime(2023, 10, 1, 14, 0), \"end_time\": datetime.datetime(2023, 10, 1, 15, 0)},\n",
    "        ]\n",
    "    },\n",
    "    \"Bob\": {\n",
    "        \"name\": \"Bob\",\n",
    "        \"email\": \"bob@example.com\",\n",
    "        \"calendar\": [\n",
    "            {\"start_time\": datetime.datetime(2023, 10, 1, 11, 0), \"end_time\": datetime.datetime(2023, 10, 1, 12, 0)},\n",
    "            {\"start_time\": datetime.datetime(2023, 10, 1, 16, 0), \"end_time\": datetime.datetime(2023, 10, 1, 17, 0)},\n",
    "        ]\n",
    "    },\n",
    "    \"Carlos\": {\n",
    "        \"name\": \"Carlos\",\n",
    "        \"email\": \"carlos@example.com\",\n",
    "        \"calendar\": [\n",
    "            {\"start_time\": datetime.datetime(2023, 10, 1, 13, 0), \"end_time\": datetime.datetime(2023, 10, 1, 14, 0)},\n",
    "            {\"start_time\": datetime.datetime(2023, 10, 1, 15, 0), \"end_time\": datetime.datetime(2023, 10, 1, 16, 0)},\n",
    "        ]\n",
    "    },\n",
    "}\n"
   ]
  },
  {
   "cell_type": "markdown",
   "metadata": {},
   "source": [
    "5.2. Solicitação de Reunião em Linguagem Natural\n",
    "\n"
   ]
  },
  {
   "cell_type": "code",
   "execution_count": 12,
   "metadata": {},
   "outputs": [],
   "source": [
    "# Solicitação de reunião em linguagem natural\n",
    "meeting_request_text = \"\"\"\n",
    "Olá,\n",
    "\n",
    "Gostaria de agendar uma reunião sobre o projeto X. Seria ideal se pudéssemos nos reunir amanhã às 10h ou às 15h. A reunião deve durar cerca de 60 minutos.\n",
    "\n",
    "Participantes: Alice, Bob e Carlos.\n",
    "\n",
    "Atenciosamente,\n",
    "Maria\n",
    "\"\"\"\n"
   ]
  },
  {
   "cell_type": "markdown",
   "metadata": {},
   "source": [
    "5.3. Execução do Fluxo de Trabalho\n"
   ]
  },
  {
   "cell_type": "code",
   "execution_count": 14,
   "metadata": {},
   "outputs": [
    {
     "name": "stdout",
     "output_type": "stream",
     "text": [
      "Enviando convite para Alice (alice@example.com) para a reunião 'Projeto X' em 2023-10-01 10:00:00.\n",
      "Enviando convite para Bob (bob@example.com) para a reunião 'Projeto X' em 2023-10-01 10:00:00.\n",
      "Enviando convite para Carlos (carlos@example.com) para a reunião 'Projeto X' em 2023-10-01 10:00:00.\n"
     ]
    }
   ],
   "source": [
    "# Executar o agendamento\n",
    "final_state = schedule_meeting(meeting_request_text, participants)\n"
   ]
  },
  {
   "cell_type": "markdown",
   "metadata": {},
   "source": [
    "5.4. Verificar o Resultado"
   ]
  },
  {
   "cell_type": "code",
   "execution_count": 15,
   "metadata": {},
   "outputs": [
    {
     "name": "stdout",
     "output_type": "stream",
     "text": [
      "Reunião agendada com sucesso!\n",
      "Assunto: Projeto X\n",
      "Horário: 2023-10-01 10:00:00\n",
      "Participantes: Alice, Bob, Carlos\n"
     ]
    }
   ],
   "source": [
    "# Verificar se houve erros\n",
    "if final_state['errors']:\n",
    "    print(\"Erros encontrados:\")\n",
    "    for error in final_state['errors']:\n",
    "        print(f\"- {error}\")\n",
    "else:\n",
    "    meeting = final_state['scheduled_meeting']\n",
    "    print(f\"Reunião agendada com sucesso!\\nAssunto: {meeting['subject']}\\nHorário: {meeting['time']}\\nParticipantes: {', '.join(meeting['attendees'])}\")\n"
   ]
  },
  {
   "cell_type": "markdown",
   "metadata": {},
   "source": [
    "Notas Finais\n",
    "Interação com Calendários Reais: Para tornar o script funcional em um ambiente real, você precisaria integrar com APIs de calendário (como Google Calendar API) e implementar autenticação adequada.\n",
    "\n",
    "Envio de Emails Reais: Para enviar emails, você pode usar a biblioteca smtplib do Python e configurar um servidor SMTP.\n",
    "\n",
    "Melhorias Possíveis:\n",
    "\n",
    "Adicionar tratamento de fusos horários.\n",
    "Implementar lógica para encontrar horários alternativos se nenhum dos preferidos estiver disponível.\n",
    "Salvar os eventos nos calendários dos participantes."
   ]
  }
 ],
 "metadata": {
  "kernelspec": {
   "display_name": "nl2sqlduckdb",
   "language": "python",
   "name": "python3"
  },
  "language_info": {
   "codemirror_mode": {
    "name": "ipython",
    "version": 3
   },
   "file_extension": ".py",
   "mimetype": "text/x-python",
   "name": "python",
   "nbconvert_exporter": "python",
   "pygments_lexer": "ipython3",
   "version": "3.13.0"
  }
 },
 "nbformat": 4,
 "nbformat_minor": 2
}
