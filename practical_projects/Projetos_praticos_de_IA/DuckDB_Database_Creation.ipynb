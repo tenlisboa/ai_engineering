{
 "cells": [
  {
   "cell_type": "markdown",
   "metadata": {},
   "source": [
    "# Conhece algum banco de dados tão poderoso e fácila de usar quanto esse? Veja a facilidade abaixo de se criar um banco com DuckDB! "
   ]
  },
  {
   "cell_type": "code",
   "execution_count": 1,
   "metadata": {},
   "outputs": [
    {
     "name": "stdout",
     "output_type": "stream",
     "text": [
      "The database 'clientes_novo.duckdb' already exists.\n",
      "\n",
      "Contents of the 'clientes' table:\n",
      "(1, 'Ana', 'Silva', 'ana.silva@email.com', 'Produto A', 'anual', 'São Paulo', 'SP', Decimal('1200.00'))\n",
      "(2, 'Bruno', 'Oliveira', 'bruno.oliveira@email.com', 'Produto B', 'mensal', 'Rio de Janeiro', 'RJ', Decimal('100.00'))\n",
      "(3, 'Carlos', 'Pereira', 'carlos.pereira@email.com', 'Produto C', 'mensal', 'Belo Horizonte', 'MG', Decimal('100.00'))\n",
      "(4, 'Daniela', 'Costa', 'daniela.costa@email.com', 'Produto A', 'anual', 'Curitiba', 'PR', Decimal('1200.00'))\n",
      "(5, 'Eduardo', 'Lima', 'eduardo.lima@email.com', 'Produto B', 'mensal', 'Salvador', 'BA', Decimal('100.00'))\n",
      "(6, 'Fernanda', 'Santos', 'fernanda.santos@email.com', 'Produto C', 'anual', 'Porto Alegre', 'RS', Decimal('1200.00'))\n",
      "(7, 'Gabriel', 'Rodrigues', 'gabriel.rodrigues@email.com', 'Produto A', 'mensal', 'Recife', 'PE', Decimal('100.00'))\n",
      "(8, 'Helena', 'Ferreira', 'helena.ferreira@email.com', 'Produto B', 'anual', 'Fortaleza', 'CE', Decimal('1200.00'))\n"
     ]
    }
   ],
   "source": [
    "import os\n",
    "import duckdb\n",
    "\n",
    "# Define the database name\n",
    "db_name = \"clientes_novo.duckdb\"\n",
    "\n",
    "# Check if the database already exists\n",
    "if os.path.exists(db_name):\n",
    "    print(f\"The database '{db_name}' already exists.\")\n",
    "else:\n",
    "    # Create a new connection (this will create the database if it doesn't exist)\n",
    "    conn = duckdb.connect(db_name)\n",
    "\n",
    "    # Create the 'clientes' table\n",
    "    conn.execute('''\n",
    "    CREATE TABLE clientes (\n",
    "        cliente_id INTEGER PRIMARY KEY,\n",
    "        nome TEXT NOT NULL,\n",
    "        sobrenome TEXT NOT NULL,\n",
    "        email TEXT NOT NULL,\n",
    "        produto TEXT NOT NULL,\n",
    "        plano TEXT NOT NULL,\n",
    "        valor_pago DECIMAL(10, 2) NOT NULL\n",
    "    )\n",
    "    ''')\n",
    "\n",
    "    # Insert sample data\n",
    "    clientes = [\n",
    "        (1, 'Ana', 'Silva', 'ana.silva@email.com', 'Produto A', 'Anual', 10000.00),\n",
    "        (2, 'Bruno', 'Oliveira', 'bruno.oliveira@email.com', 'Produto B', 'Mensal', 900.00),\n",
    "        (3, 'Carlos', 'Pereira', 'carlos.pereira@email.com', 'Produto C', 'Mensal', 900.00),\n",
    "        (4, 'Daniela', 'Costa', 'daniela.costa@email.com', 'Produto D', 'Anual', 10000.00),\n",
    "        (5, 'Eduardo', 'Lima', 'eduardo.lima@email.com', 'Produto E', 'Mensal', 900.00),\n",
    "        (6, 'Paulo', 'Andrade', 'paulo.andrade@email.com', 'Produto D', 'Mensal', 900.00),\n",
    "        (7, 'Fernanda', 'Costa', 'fernanda.costa@email.com', 'Produto E', 'Anual', 10000.00),\n",
    "        (8, 'Lucas', 'Alves', 'lucas.alves@email.com', 'Produto F', 'Mensal', 900.00)\n",
    "    ]\n",
    "\n",
    "    # Insert the data into the table\n",
    "    conn.executemany('''\n",
    "    INSERT INTO clientes (cliente_id, nome, sobrenome, email, produto, plano, valor_pago)\n",
    "    VALUES (?, ?, ?, ?, ?, ?, ?)\n",
    "    ''', clientes)\n",
    "\n",
    "    # Commit the changes and close the connection\n",
    "    conn.commit()\n",
    "    conn.close()\n",
    "\n",
    "    print(f\"Database '{db_name}' created successfully with sample data.\")\n",
    "\n",
    "# Verify the contents of the database\n",
    "conn = duckdb.connect(db_name)\n",
    "result = conn.execute(\"SELECT * FROM clientes\").fetchall()\n",
    "print(\"\\nContents of the 'clientes' table:\")\n",
    "for row in result:\n",
    "    print(row)\n",
    "conn.close()"
   ]
  }
 ],
 "metadata": {
  "kernelspec": {
   "display_name": "nl2sqlduckdb",
   "language": "python",
   "name": "python3"
  },
  "language_info": {
   "codemirror_mode": {
    "name": "ipython",
    "version": 3
   },
   "file_extension": ".py",
   "mimetype": "text/x-python",
   "name": "python",
   "nbconvert_exporter": "python",
   "pygments_lexer": "ipython3",
   "version": "3.13.0"
  }
 },
 "nbformat": 4,
 "nbformat_minor": 2
}
