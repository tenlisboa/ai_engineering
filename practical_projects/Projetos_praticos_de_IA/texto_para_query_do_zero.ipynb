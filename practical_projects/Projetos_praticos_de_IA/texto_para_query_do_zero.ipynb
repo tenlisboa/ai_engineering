{
 "cells": [
  {
   "cell_type": "markdown",
   "metadata": {},
   "source": [
    "# NL2SQL com LangGraph!"
   ]
  },
  {
   "cell_type": "markdown",
   "metadata": {},
   "source": [
    "Olá! Vamos trabalhar juntos para criar um banco de dados sobre produtos, seus preços e a quantidade vendida por filial. Depois, adaptaremos o código fornecido para usar o LangGraph com esse novo banco de dados. Vamos fazer tudo passo a passo e em português brasileiro.\n",
    "\n",
    "1. Criar o Banco de Dados\n",
    "Primeiro, vamos criar um banco de dados SQLite chamado vendas.db. Usaremos o módulo sqlite3 para isso.\n",
    "\n",
    "Passo 1.1: Importar o módulo sqlite3 e conectar ao banco de dados"
   ]
  },
  {
   "cell_type": "code",
   "execution_count": 245,
   "metadata": {},
   "outputs": [],
   "source": [
    "import sqlite3\n",
    "\n",
    "# Conecta ao banco de dados (será criado se não existir)\n",
    "conn = sqlite3.connect('vendas.db')\n",
    "cursor = conn.cursor()\n"
   ]
  },
  {
   "cell_type": "markdown",
   "metadata": {},
   "source": [
    "Passo 1.2: Criar as tabelas\n",
    "\n",
    "Vamos criar três tabelas: produtos, filiais e vendas."
   ]
  },
  {
   "cell_type": "code",
   "execution_count": 246,
   "metadata": {},
   "outputs": [],
   "source": [
    "# Cria a tabela 'produtos' se ela não existir\n",
    "cursor.execute('''\n",
    "CREATE TABLE IF NOT EXISTS produtos (\n",
    "    produto_id INTEGER PRIMARY KEY,\n",
    "    nome TEXT NOT NULL,\n",
    "    preco REAL NOT NULL\n",
    ")\n",
    "''')\n",
    "\n",
    "# Cria a tabela 'filiais' se ela não existir\n",
    "cursor.execute('''\n",
    "CREATE TABLE IF NOT EXISTS filiais (\n",
    "    filial_id INTEGER PRIMARY KEY,\n",
    "    nome TEXT NOT NULL,\n",
    "    localizacao TEXT NOT NULL\n",
    ")\n",
    "''')\n",
    "\n",
    "# Cria a tabela 'vendas' se ela não existir\n",
    "cursor.execute('''\n",
    "CREATE TABLE IF NOT EXISTS vendas (\n",
    "    venda_id INTEGER PRIMARY KEY,\n",
    "    produto_id INTEGER,\n",
    "    filial_id INTEGER,\n",
    "    quantidade_vendida INTEGER NOT NULL,\n",
    "    data_venda DATE NOT NULL,\n",
    "    FOREIGN KEY (produto_id) REFERENCES produtos (produto_id),\n",
    "    FOREIGN KEY (filial_id) REFERENCES filiais (filial_id)\n",
    ")\n",
    "''')\n",
    "\n",
    "# Confirma as alterações\n",
    "conn.commit()"
   ]
  },
  {
   "cell_type": "markdown",
   "metadata": {},
   "source": [
    "Passo 1.3: Inserir dados nas tabelas\n",
    "\n",
    "Agora, vamos inserir alguns dados de exemplo em nossas tabelas."
   ]
  },
  {
   "cell_type": "code",
   "execution_count": 247,
   "metadata": {},
   "outputs": [
    {
     "name": "stdout",
     "output_type": "stream",
     "text": [
      "Dados inseridos ou ignorados se já existentes.\n"
     ]
    }
   ],
   "source": [
    "# Inserir dados na tabela 'produtos'\n",
    "produtos = [\n",
    "    (1, 'Notebook', 3500.00),\n",
    "    (2, 'Smartphone', 2000.00),\n",
    "    (3, 'Tablet', 1500.00),\n",
    "    (4, 'Monitor', 800.00),\n",
    "    (5, 'Teclado', 150.00)\n",
    "]\n",
    "\n",
    "cursor.executemany('INSERT OR IGNORE INTO produtos VALUES (?, ?, ?)', produtos)\n",
    "\n",
    "# Inserir dados na tabela 'filiais'\n",
    "filiais = [\n",
    "    (1, 'Filial Centro', 'São Paulo'),\n",
    "    (2, 'Filial Norte', 'Rio de Janeiro'),\n",
    "    (3, 'Filial Sul', 'Porto Alegre')\n",
    "]\n",
    "\n",
    "cursor.executemany('INSERT OR IGNORE INTO filiais VALUES (?, ?, ?)', filiais)\n",
    "\n",
    "# Inserir dados na tabela 'vendas'\n",
    "vendas = [\n",
    "    (1, 1, 1, 10, '2023-01-15'),\n",
    "    (2, 2, 1, 5, '2023-01-16'),\n",
    "    (3, 3, 2, 7, '2023-01-17'),\n",
    "    (4, 1, 2, 3, '2023-01-18'),\n",
    "    (5, 4, 3, 4, '2023-01-19'),\n",
    "    (6, 5, 3, 20, '2023-01-20'),\n",
    "    (7, 2, 1, 6, '2023-01-21'),\n",
    "    (8, 3, 2, 8, '2023-01-22'),\n",
    "    (9, 4, 3, 2, '2023-01-23'),\n",
    "    (10, 5, 1, 15, '2023-01-24')\n",
    "]\n",
    "\n",
    "cursor.executemany('INSERT OR IGNORE INTO vendas VALUES (?, ?, ?, ?, ?)', vendas)\n",
    "\n",
    "# Confirma as alterações\n",
    "conn.commit()\n",
    "\n",
    "# Aviso sobre dados existentes\n",
    "print(\"Dados inseridos ou ignorados se já existentes.\")"
   ]
  },
  {
   "cell_type": "markdown",
   "metadata": {},
   "source": [
    "Passo 1.4: Verificar os dados inseridos\n",
    "\n",
    "Vamos verificar se os dados foram inseridos corretamente."
   ]
  },
  {
   "cell_type": "code",
   "execution_count": 248,
   "metadata": {},
   "outputs": [
    {
     "name": "stdout",
     "output_type": "stream",
     "text": [
      "Produtos:\n",
      "(1, 'Notebook', 3500.0)\n",
      "(2, 'Smartphone', 2000.0)\n",
      "(3, 'Tablet', 1500.0)\n",
      "(4, 'Monitor', 800.0)\n",
      "(5, 'Teclado', 150.0)\n",
      "\n",
      "Filiais:\n",
      "(1, 'Filial Centro', 'São Paulo')\n",
      "(2, 'Filial Norte', 'Rio de Janeiro')\n",
      "(3, 'Filial Sul', 'Porto Alegre')\n",
      "\n",
      "Vendas:\n",
      "(1, 1, 1, 10, '2023-01-15')\n",
      "(2, 2, 1, 5, '2023-01-16')\n",
      "(3, 3, 2, 7, '2023-01-17')\n",
      "(4, 1, 2, 3, '2023-01-18')\n",
      "(5, 4, 3, 4, '2023-01-19')\n",
      "(6, 5, 3, 20, '2023-01-20')\n",
      "(7, 2, 1, 6, '2023-01-21')\n",
      "(8, 3, 2, 8, '2023-01-22')\n",
      "(9, 4, 3, 2, '2023-01-23')\n",
      "(10, 5, 1, 15, '2023-01-24')\n"
     ]
    }
   ],
   "source": [
    "# Consultar todos os produtos\n",
    "cursor.execute('SELECT * FROM produtos')\n",
    "produtos = cursor.fetchall()\n",
    "print('Produtos:')\n",
    "for produto in produtos:\n",
    "    print(produto)\n",
    "\n",
    "# Consultar todas as filiais\n",
    "cursor.execute('SELECT * FROM filiais')\n",
    "filiais = cursor.fetchall()\n",
    "print('\\nFiliais:')\n",
    "for filial in filiais:\n",
    "    print(filial)\n",
    "\n",
    "# Consultar todas as vendas\n",
    "cursor.execute('SELECT * FROM vendas')\n",
    "vendas = cursor.fetchall()\n",
    "print('\\nVendas:')\n",
    "for venda in vendas:\n",
    "    print(venda)\n"
   ]
  },
  {
   "cell_type": "markdown",
   "metadata": {},
   "source": [
    "Passo 1.5: Fechar a conexão\n",
    "\n",
    "Após verificar os dados, podemos fechar a conexão com o banco de dados."
   ]
  },
  {
   "cell_type": "code",
   "execution_count": 249,
   "metadata": {},
   "outputs": [],
   "source": [
    "# Fecha a conexão com o banco de dados\n",
    "conn.close()\n"
   ]
  },
  {
   "cell_type": "markdown",
   "metadata": {},
   "source": [
    "Passo 2.1: Aplicando LangGraph \n",
    "\n",
    "\n",
    "Instalar as bibliotecas necessárias\n",
    "\n",
    "Certifique-se de que as bibliotecas langchain e langgraph estejam instaladas. Se não estiverem, instale-as usando:"
   ]
  },
  {
   "cell_type": "code",
   "execution_count": 250,
   "metadata": {},
   "outputs": [],
   "source": [
    "#!pip install langchain langgraph\n",
    "#!pip install langgraph==0.2.1\n",
    "\n",
    "#!pip install langchain-community langchain-core langgraph openai\n"
   ]
  },
  {
   "cell_type": "markdown",
   "metadata": {},
   "source": [
    "Passo 2.2: Importar as bibliotecas"
   ]
  },
  {
   "cell_type": "code",
   "execution_count": 251,
   "metadata": {},
   "outputs": [],
   "source": [
    "import warnings\n",
    "warnings.filterwarnings('ignore')\n",
    "\n",
    "import json\n",
    "import os\n",
    "from langchain.chat_models import ChatOpenAI\n",
    "from langgraph.graph import StateGraph, END\n",
    "from langchain.schema import SystemMessage, HumanMessage\n",
    "from typing import TypedDict, List\n"
   ]
  },
  {
   "cell_type": "markdown",
   "metadata": {},
   "source": [
    "Passo 2.3: Configurar o modelo de linguagem"
   ]
  },
  {
   "cell_type": "code",
   "execution_count": 252,
   "metadata": {},
   "outputs": [],
   "source": [
    "os.environ['OPENAI_API_KEY'] = ''\n",
    "model = ChatOpenAI(model_name=\"gpt-4o-mini\", temperature=0)\n"
   ]
  },
  {
   "cell_type": "markdown",
   "metadata": {},
   "source": [
    "Passo 2.4: Definir o estado do agente"
   ]
  },
  {
   "cell_type": "code",
   "execution_count": 253,
   "metadata": {},
   "outputs": [],
   "source": [
    "class AgentState(TypedDict):\n",
    "    question: str\n",
    "    table_schemas: str\n",
    "    database: str\n",
    "    sql: str\n",
    "    reflect: List[str]\n",
    "    accepted: bool\n",
    "    revision: int\n",
    "    max_revision: int\n"
   ]
  },
  {
   "cell_type": "markdown",
   "metadata": {},
   "source": [
    "Passo 2.5: Obter o esquema do banco de dados\n",
    "\n",
    "Vamos criar uma função para obter o esquema do nosso banco de dados."
   ]
  },
  {
   "cell_type": "code",
   "execution_count": 254,
   "metadata": {},
   "outputs": [
    {
     "name": "stdout",
     "output_type": "stream",
     "text": [
      "Table: produtos\n",
      "Columns:\n",
      " - produto_id (INTEGER)\n",
      " - nome (TEXT)\n",
      " - preco (REAL)\n",
      "\n",
      "Table: filiais\n",
      "Columns:\n",
      " - filial_id (INTEGER)\n",
      " - nome (TEXT)\n",
      " - localizacao (TEXT)\n",
      "\n",
      "Table: vendas\n",
      "Columns:\n",
      " - venda_id (INTEGER)\n",
      " - produto_id (INTEGER)\n",
      " - filial_id (INTEGER)\n",
      " - quantidade_vendida (INTEGER)\n",
      " - data_venda (DATE)\n",
      "\n",
      "\n"
     ]
    }
   ],
   "source": [
    "def get_database_schema(db_path):\n",
    "    conn = sqlite3.connect(db_path)\n",
    "    cursor = conn.cursor()\n",
    "    cursor.execute(\"SELECT name FROM sqlite_master WHERE type='table';\")\n",
    "    tables = cursor.fetchall()\n",
    "    schema = ''\n",
    "    for table_name in tables:\n",
    "        table_name = table_name[0]\n",
    "        cursor.execute(f\"PRAGMA table_info({table_name});\")\n",
    "        columns = cursor.fetchall()\n",
    "        schema += f\"Table: {table_name}\\n\"\n",
    "        schema += \"Columns:\\n\"\n",
    "        for column in columns:\n",
    "            schema += f\" - {column[1]} ({column[2]})\\n\"\n",
    "        schema += '\\n'\n",
    "    conn.close()\n",
    "    return schema\n",
    "\n",
    "# Obter o esquema do banco de dados\n",
    "db_schema = get_database_schema('vendas.db')\n",
    "print(db_schema)\n"
   ]
  },
  {
   "cell_type": "markdown",
   "metadata": {},
   "source": [
    "Passo 2.6: Definir as funções dos agentes\n",
    "\n",
    "Função do Search Engineer\n",
    "\n",
    "Como estamos trabalhando com um banco de dados fixo, podemos simplificar esta função."
   ]
  },
  {
   "cell_type": "markdown",
   "metadata": {},
   "source": []
  },
  {
   "cell_type": "code",
   "execution_count": 255,
   "metadata": {},
   "outputs": [],
   "source": [
    "def search_engineer_node(state: AgentState):\n",
    "    # Fornecemos o esquema do banco de dados diretamente\n",
    "    state['table_schemas'] = db_schema\n",
    "    state['database'] = 'vendas.db'\n",
    "    return {\"table_schemas\": state['table_schemas'], \"database\": state['database']}\n"
   ]
  },
  {
   "cell_type": "code",
   "execution_count": 256,
   "metadata": {},
   "outputs": [],
   "source": [
    "def senior_sql_writer_node(state: AgentState):\n",
    "    role_prompt = \"\"\"\n",
    "Você é um especialista em SQL. Sua tarefa é escrever **apenas** a consulta SQL que responda à pergunta do usuário. A consulta deve:\n",
    "\n",
    "- Usar a sintaxe SQL padrão em inglês.\n",
    "- Utilizar os nomes das tabelas e colunas conforme definidos no esquema do banco de dados.\n",
    "- Não incluir comentários, explicações ou qualquer texto adicional.\n",
    "- Não utilizar formatação de código ou markdown.\n",
    "- Retornar apenas a consulta SQL válida.\n",
    "\"\"\"\n",
    "    instruction = f\"Esquema do banco de dados:\\n{state['table_schemas']}\\n\"\n",
    "    if len(state['reflect']) > 0:\n",
    "        instruction += f\"Considere os seguintes feedbacks:\\n{chr(10).join(state['reflect'])}\\n\"\n",
    "    instruction += f\"Escreva a consulta SQL que responda à seguinte pergunta: {state['question']}\\n\"\n",
    "    messages = [\n",
    "        SystemMessage(content=role_prompt), \n",
    "        HumanMessage(content=instruction)\n",
    "    ]\n",
    "    response = model.invoke(messages)\n",
    "    return {\"sql\": response.content.strip(), \"revision\": state['revision'] + 1}\n"
   ]
  },
  {
   "cell_type": "code",
   "execution_count": 257,
   "metadata": {},
   "outputs": [],
   "source": [
    "\n",
    "#Função do QA Engineer\n",
    "def senior_qa_engineer_node(state: AgentState):\n",
    "    role_prompt = \"\"\"\n",
    "Você é um engenheiro de QA especializado em SQL. Sua tarefa é verificar se a consulta SQL fornecida responde corretamente à pergunta do usuário.\n",
    "\"\"\"\n",
    "    instruction = f\"Com base no seguinte esquema de banco de dados:\\n{state['table_schemas']}\\n\"\n",
    "    instruction += f\"E na seguinte consulta SQL:\\n{state['sql']}\\n\"\n",
    "    instruction += f\"Verifique se a consulta SQL pode completar a tarefa: {state['question']}\\n\"\n",
    "    instruction += \"Responda 'ACEITO' se estiver correta ou 'REJEITADO' se não estiver.\\n\"\n",
    "    messages = [\n",
    "        SystemMessage(content=role_prompt), \n",
    "        HumanMessage(content=instruction)\n",
    "    ]\n",
    "    response = model(messages)\n",
    "    return {\"accepted\": 'ACEITO' in response.content.upper()}\n"
   ]
  },
  {
   "cell_type": "code",
   "execution_count": 258,
   "metadata": {},
   "outputs": [],
   "source": [
    "#Função do Chief DBA\n",
    "def chief_dba_node(state: AgentState):\n",
    "    role_prompt = \"\"\"\n",
    "Você é um DBA experiente. Sua tarefa é fornecer feedback detalhado para melhorar a consulta SQL fornecida.\n",
    "\"\"\"\n",
    "    instruction = f\"Com base no seguinte esquema de banco de dados:\\n{state['table_schemas']}\\n\"\n",
    "    instruction += f\"E na seguinte consulta SQL:\\n{state['sql']}\\n\"\n",
    "    instruction += f\"Por favor, forneça recomendações úteis e detalhadas para ajudar a melhorar a consulta SQL para a tarefa: {state['question']}\\n\"\n",
    "    messages = [\n",
    "        SystemMessage(content=role_prompt), \n",
    "        HumanMessage(content=instruction)\n",
    "    ]\n",
    "    response = model(messages)\n",
    "    return {\"reflect\": [response.content]}\n"
   ]
  },
  {
   "cell_type": "markdown",
   "metadata": {},
   "source": [
    "Passo 2.7: Construir o grafo"
   ]
  },
  {
   "cell_type": "code",
   "execution_count": 259,
   "metadata": {},
   "outputs": [],
   "source": [
    "builder = StateGraph(AgentState)\n",
    "\n",
    "# Adicionar nós\n",
    "builder.add_node(\"search_engineer\", search_engineer_node)\n",
    "builder.add_node(\"sql_writer\", senior_sql_writer_node)\n",
    "builder.add_node(\"qa_engineer\", senior_qa_engineer_node)\n",
    "builder.add_node(\"chief_dba\", chief_dba_node)\n",
    "\n",
    "# Adicionar arestas\n",
    "builder.add_edge(\"search_engineer\", \"sql_writer\")\n",
    "builder.add_edge(\"sql_writer\", \"qa_engineer\")\n",
    "builder.add_edge(\"chief_dba\", \"sql_writer\")\n",
    "\n",
    "# Adicionar arestas condicionais\n",
    "builder.add_conditional_edges(\n",
    "    \"qa_engineer\", \n",
    "    lambda state: END if state['accepted'] or state['revision'] >= state['max_revision'] else \"reflect\", \n",
    "    {END: END, \"reflect\": \"chief_dba\"}\n",
    ")\n",
    "\n",
    "# Definir ponto de entrada\n",
    "builder.set_entry_point(\"search_engineer\")\n",
    "\n",
    "# Compilar o grafo\n",
    "graph = builder.compile()\n"
   ]
  },
  {
   "cell_type": "markdown",
   "metadata": {},
   "source": [
    "2.7.1. Importar e Configurar o Checkpointer"
   ]
  },
  {
   "cell_type": "code",
   "execution_count": 260,
   "metadata": {},
   "outputs": [],
   "source": [
    "from langgraph.checkpoint.memory import MemorySaver\n",
    "\n",
    "# Configurar o checkpointer usando MemorySaver\n",
    "memory = MemorySaver()\n"
   ]
  },
  {
   "cell_type": "markdown",
   "metadata": {},
   "source": [
    "2.7.2. Compilar o Grafo com o Checkpointer"
   ]
  },
  {
   "cell_type": "code",
   "execution_count": 261,
   "metadata": {},
   "outputs": [],
   "source": [
    "# Compilar o grafo com o checkpointer\n",
    "graph = builder.compile(checkpointer=memory)\n"
   ]
  },
  {
   "cell_type": "markdown",
   "metadata": {},
   "source": [
    "2.8 Executar o Grafo"
   ]
  },
  {
   "cell_type": "code",
   "execution_count": 262,
   "metadata": {},
   "outputs": [],
   "source": [
    "# Definir a pergunta\n",
    "question = \"Qual produto teve a maior quantidade vendida na Filial Norte?\"\n",
    "\n",
    "# Inicializar o estado\n",
    "initial_state = {\n",
    "    'question': question,\n",
    "    'table_schemas': '',  # Será preenchido pelo 'search_engineer_node'\n",
    "    'database': '',       # Será preenchido pelo 'search_engineer_node'\n",
    "    'sql': '',\n",
    "    'reflect': [],\n",
    "    'accepted': False,\n",
    "    'revision': 0,\n",
    "    'max_revision': 2\n",
    "}\n",
    "\n",
    "# Executar o grafo\n",
    "thread = {\"configurable\": {\"thread_id\": \"1\"}}\n",
    "for s in graph.stream(initial_state, thread):\n",
    "    pass  # O processamento é feito internamente\n",
    "\n",
    "# Obter o estado final\n",
    "state = graph.get_state(thread)\n"
   ]
  },
  {
   "cell_type": "code",
   "execution_count": 263,
   "metadata": {},
   "outputs": [
    {
     "name": "stdout",
     "output_type": "stream",
     "text": [
      "Banco de dados: vendas.db\n",
      "Consulta SQL:\n",
      " SELECT p.nome\n",
      "FROM produtos p\n",
      "JOIN vendas v ON p.produto_id = v.produto_id\n",
      "JOIN filiais f ON v.filial_id = f.filial_id\n",
      "WHERE f.nome = 'Filial Norte'\n",
      "GROUP BY p.nome\n",
      "ORDER BY SUM(v.quantidade_vendida) DESC\n",
      "LIMIT 1\n"
     ]
    }
   ],
   "source": [
    "print('Banco de dados:', state.values['database'])\n",
    "print('Consulta SQL:\\n', state.values['sql'])\n"
   ]
  },
  {
   "cell_type": "code",
   "execution_count": 265,
   "metadata": {},
   "outputs": [],
   "source": [
    "import re\n",
    "\n",
    "def extract_sql(query_text):\n",
    "    # Remove trechos de texto antes e depois da consulta SQL\n",
    "    # Procura por conteúdo entre ```sql e ```\n",
    "    match = re.search(r'```sql\\s*(.*?)\\s*```', query_text, re.DOTALL | re.IGNORECASE)\n",
    "    if match:\n",
    "        return match.group(1).strip()\n",
    "    else:\n",
    "        # Se não encontrar, tenta extrair a partir de \"SELECT\"\n",
    "        match = re.search(r'(SELECT .*?);', query_text, re.DOTALL | re.IGNORECASE)\n",
    "        if match:\n",
    "            return match.group(1).strip() + ';'\n",
    "        else:\n",
    "            # Caso não consiga extrair, retorna o texto original\n",
    "            return query_text.strip()\n"
   ]
  },
  {
   "cell_type": "code",
   "execution_count": 266,
   "metadata": {},
   "outputs": [
    {
     "name": "stdout",
     "output_type": "stream",
     "text": [
      "Consulta SQL Extraída:\n",
      " SELECT p.nome\n",
      "FROM produtos p\n",
      "JOIN vendas v ON p.produto_id = v.produto_id\n",
      "JOIN filiais f ON v.filial_id = f.filial_id\n",
      "WHERE f.nome = 'Filial Norte'\n",
      "GROUP BY p.nome\n",
      "ORDER BY SUM(v.quantidade_vendida) DESC\n",
      "LIMIT 1\n",
      "Erro ao executar a consulta SQL: Cannot operate on a closed database.\n"
     ]
    }
   ],
   "source": [
    "# Extrair a consulta SQL limpa\n",
    "clean_sql = extract_sql(state.values['sql'])\n",
    "print('Consulta SQL Extraída:\\n', clean_sql)\n",
    "\n",
    "# Executar a consulta SQL\n",
    "try:\n",
    "    cursor.execute(clean_sql)\n",
    "    results = cursor.fetchall()\n",
    "    print('\\nResultados da consulta:')\n",
    "    for result in results:\n",
    "        print(result)\n",
    "except Exception as e:\n",
    "    print('Erro ao executar a consulta SQL:', e)\n"
   ]
  },
  {
   "cell_type": "code",
   "execution_count": 267,
   "metadata": {},
   "outputs": [
    {
     "name": "stdout",
     "output_type": "stream",
     "text": [
      "\n",
      " Resultados da consulta:\n",
      "('Tablet',)\n"
     ]
    }
   ],
   "source": [
    "import sqlite3\n",
    "\n",
    "# Conectar ao banco de dados\n",
    "conn = sqlite3.connect(state.values['database'])\n",
    "cursor = conn.cursor()\n",
    "\n",
    "# Executar a consulta SQL\n",
    "try:\n",
    "    cursor.execute(state.values['sql'])\n",
    "    results = cursor.fetchall()\n",
    "    print('\\n Resultados da consulta:')\n",
    "    for result in results:\n",
    "        print(result)\n",
    "except Exception as e:\n",
    "    print('Erro ao executar a consulta SQL:', e)\n",
    "\n",
    "# Fechar a conexão\n",
    "conn.close()\n"
   ]
  },
  {
   "cell_type": "code",
   "execution_count": 268,
   "metadata": {},
   "outputs": [],
   "source": [
    "# Definir a pergunta\n",
    "question = \"Qual produto teve a maior quantidade vendida na Filial Sul?\"\n",
    "\n",
    "# Inicializar o estado\n",
    "initial_state = {\n",
    "    'question': question,\n",
    "    'table_schemas': '',  # Será preenchido pelo 'search_engineer_node'\n",
    "    'database': '',       # Será preenchido pelo 'search_engineer_node'\n",
    "    'sql': '',\n",
    "    'reflect': [],\n",
    "    'accepted': False,\n",
    "    'revision': 0,\n",
    "    'max_revision': 2\n",
    "}\n",
    "\n",
    "# Executar o grafo\n",
    "thread = {\"configurable\": {\"thread_id\": \"1\"}}\n",
    "for s in graph.stream(initial_state, thread):\n",
    "    pass  # O processamento é feito internamente\n",
    "\n",
    "# Obter o estado final\n",
    "state = graph.get_state(thread)\n"
   ]
  },
  {
   "cell_type": "code",
   "execution_count": 269,
   "metadata": {},
   "outputs": [
    {
     "name": "stdout",
     "output_type": "stream",
     "text": [
      "Consulta SQL Extraída:\n",
      " SELECT p.nome\n",
      "FROM produtos p\n",
      "JOIN vendas v ON p.produto_id = v.produto_id\n",
      "JOIN filiais f ON v.filial_id = f.filial_id\n",
      "WHERE f.nome = 'Filial Sul'\n",
      "GROUP BY p.nome\n",
      "ORDER BY SUM(v.quantidade_vendida) DESC\n",
      "LIMIT 1\n",
      "Erro ao executar a consulta SQL: Cannot operate on a closed database.\n"
     ]
    }
   ],
   "source": [
    "# Extrair a consulta SQL limpa\n",
    "clean_sql = extract_sql(state.values['sql'])\n",
    "print('Consulta SQL Extraída:\\n', clean_sql)\n",
    "\n",
    "# Executar a consulta SQL\n",
    "try:\n",
    "    cursor.execute(clean_sql)\n",
    "    results = cursor.fetchall()\n",
    "    print('\\nResultados da consulta:')\n",
    "    for result in results:\n",
    "        print(result)\n",
    "except Exception as e:\n",
    "    print('Erro ao executar a consulta SQL:', e)\n"
   ]
  },
  {
   "cell_type": "code",
   "execution_count": 270,
   "metadata": {},
   "outputs": [
    {
     "name": "stdout",
     "output_type": "stream",
     "text": [
      "\n",
      " Resultados da consulta:\n",
      "('Teclado',)\n"
     ]
    }
   ],
   "source": [
    "import sqlite3\n",
    "\n",
    "# Conectar ao banco de dados\n",
    "conn = sqlite3.connect(state.values['database'])\n",
    "cursor = conn.cursor()\n",
    "\n",
    "# Executar a consulta SQL\n",
    "try:\n",
    "    cursor.execute(state.values['sql'])\n",
    "    results = cursor.fetchall()\n",
    "    print('\\n Resultados da consulta:')\n",
    "    for result in results:\n",
    "        print(result)\n",
    "except Exception as e:\n",
    "    print('Erro ao executar a consulta SQL:', e)\n",
    "\n",
    "# Fechar a conexão\n",
    "conn.close()"
   ]
  },
  {
   "cell_type": "code",
   "execution_count": 272,
   "metadata": {},
   "outputs": [],
   "source": [
    "# Definir a pergunta\n",
    "question = \"Qual produto tem o maior preço entre todos as Filiais?\"\n",
    "\n",
    "# Inicializar o estado\n",
    "initial_state = {\n",
    "    'question': question,\n",
    "    'table_schemas': '',  # Será preenchido pelo 'search_engineer_node'\n",
    "    'database': '',       # Será preenchido pelo 'search_engineer_node'\n",
    "    'sql': '',\n",
    "    'reflect': [],\n",
    "    'accepted': False,\n",
    "    'revision': 0,\n",
    "    'max_revision': 2\n",
    "}\n",
    "\n",
    "# Executar o grafo\n",
    "thread = {\"configurable\": {\"thread_id\": \"1\"}}\n",
    "for s in graph.stream(initial_state, thread):\n",
    "    pass  # O processamento é feito internamente\n",
    "\n",
    "# Obter o estado final\n",
    "state = graph.get_state(thread)\n"
   ]
  },
  {
   "cell_type": "code",
   "execution_count": 273,
   "metadata": {},
   "outputs": [
    {
     "name": "stdout",
     "output_type": "stream",
     "text": [
      "Consulta SQL Extraída:\n",
      " SELECT nome FROM produtos WHERE preco = (SELECT MAX(preco) FROM produtos)\n",
      "Erro ao executar a consulta SQL: Cannot operate on a closed database.\n"
     ]
    }
   ],
   "source": [
    "# Extrair a consulta SQL limpa\n",
    "clean_sql = extract_sql(state.values['sql'])\n",
    "print('Consulta SQL Extraída:\\n', clean_sql)\n",
    "\n",
    "# Executar a consulta SQL\n",
    "try:\n",
    "    cursor.execute(clean_sql)\n",
    "    results = cursor.fetchall()\n",
    "    print('\\nResultados da consulta:')\n",
    "    for result in results:\n",
    "        print(result)\n",
    "except Exception as e:\n",
    "    print('Erro ao executar a consulta SQL:', e)\n"
   ]
  },
  {
   "cell_type": "code",
   "execution_count": 274,
   "metadata": {},
   "outputs": [
    {
     "name": "stdout",
     "output_type": "stream",
     "text": [
      "\n",
      " Resultados da consulta:\n",
      "('Notebook',)\n"
     ]
    }
   ],
   "source": [
    "import sqlite3\n",
    "\n",
    "# Conectar ao banco de dados\n",
    "conn = sqlite3.connect(state.values['database'])\n",
    "cursor = conn.cursor()\n",
    "\n",
    "# Executar a consulta SQL\n",
    "try:\n",
    "    cursor.execute(state.values['sql'])\n",
    "    results = cursor.fetchall()\n",
    "    print('\\n Resultados da consulta:')\n",
    "    for result in results:\n",
    "        print(result)\n",
    "except Exception as e:\n",
    "    print('Erro ao executar a consulta SQL:', e)\n",
    "\n",
    "# Fechar a conexão\n",
    "conn.close()"
   ]
  },
  {
   "cell_type": "markdown",
   "metadata": {},
   "source": [
    "Aqui está o texto formatado em Markdown de forma organizada e bonita:\n",
    "\n",
    "# LangGraph: Lembrando Conceitos Fundamentais\n",
    "\n",
    "\n",
    "\n",
    "## O Text2sql ou NL2sql abaixo com LangGraph é um exemplo clássico de fluxos de execução, como a transformação de perguntas em linguagem natural para SQL (NL2SQL). Cada \"nó\" do grafo representa uma etapa do fluxo, e as \"arestas\" entre esses nós representam a transição de um estado para outro, de acordo com condições definidas.\n",
    "\n",
    "## Funções e Componentes do LangGraph no Código\n",
    "\n",
    "### 1. StateGraph\n",
    "\n",
    "- **Descrição**: Coração do LangGraph, permite definir um gráfico de estados que controla o fluxo de execução entre diferentes nós.\n",
    "- **Função no código**: Estrutura o processo de transformação de uma pergunta em linguagem natural para SQL.\n",
    "- **Uso em outros contextos**: Chatbots complexos, agentes de IA multitarefa, sistemas de recomendação.\n",
    "\n",
    "### 2. add_node\n",
    "\n",
    "- **Descrição**: Adiciona \"nós\" ao gráfico, representando funções ou tarefas específicas no fluxo.\n",
    "- **Função no código**: Representa agentes no pipeline de geração de SQL (ex: search_engineer_node, senior_sql_writer_node).\n",
    "- **Uso em outros contextos**: Modelagem de pipelines de tomada de decisão em chatbots ou sistemas de processamento.\n",
    "\n",
    "### 3. add_edge\n",
    "\n",
    "- **Descrição**: Define a conexão entre dois nós, determinando o fluxo de execução.\n",
    "- **Função no código**: Conecta nós em uma sequência lógica (ex: search_engineer ao sql_writer).\n",
    "- **Uso em outros contextos**: Controle de fluxo em sistemas de automação empresarial ou pipelines de machine learning.\n",
    "\n",
    "### 4. add_conditional_edges\n",
    "\n",
    "- **Descrição**: Adiciona arestas condicionais ao gráfico, permitindo diferentes caminhos de execução.\n",
    "- **Função no código**: Verifica a aceitação da consulta SQL pelo agente de QA, redirecionando o fluxo se necessário.\n",
    "- **Uso em outros contextos**: Sistemas de decisão complexos, como diagnósticos médicos automáticos ou controle de qualidade.\n",
    "\n",
    "### 5. compile\n",
    "\n",
    "- **Descrição**: Transforma o gráfico de estado em um sistema funcional, pronto para execução.\n",
    "- **Função no código**: Prepara o grafo para execução, integrando o checkpointer.\n",
    "- **Uso em outros contextos**: Construção de gráficos de tarefas em sistemas de atendimento automatizado.\n",
    "\n",
    "### 6. MemorySaver\n",
    "\n",
    "- **Descrição**: Tipo de checkpointer usado para persistir o estado durante a execução do grafo.\n",
    "- **Função no código**: Armazena o estado do grafo entre execuções.\n",
    "- **Uso em outros contextos**: Sistemas interativos ou contínuos, como jogos ou assistentes virtuais.\n",
    "\n",
    "### 7. get_state e stream\n",
    "\n",
    "- **Descrição**: Recuperam o estado atual de execução e processam o gráfico de forma contínua.\n",
    "- **Função no código**: Executam o fluxo definido e obtêm o estado final após a execução.\n",
    "- **Uso em outros contextos**: Sistemas de recomendação em tempo real, agentes autônomos, sistemas de workflow.\n",
    "\n",
    "## Casos de Uso Adicionais do LangGraph\n",
    "\n",
    "1. **Chatbots Complexos**: Estruturação de chatbots com múltiplas interações e respostas personalizadas.\n",
    "2. **Sistemas de Automação Empresarial**: Criação de fluxos de trabalho complexos com múltiplas etapas de aprovação.\n",
    "3. **Pipelines de Machine Learning**: Controle de fluxo entre diferentes fases do pipeline (pré-processamento, treinamento, validação).\n",
    "4. **Sistemas de Diagnóstico**: Verificação de sintomas, históricos médicos e resultados de exames em diagnósticos médicos.\n",
    "\n",
    "## Conclusão\n",
    "\n",
    "O LangGraph permite criar fluxos de execução complexos e interativos, modelando processos com clareza e flexibilidade. Sua modularidade facilita o desenvolvimento de sistemas escaláveis e compreensíveis, tornando-o uma ferramenta poderosa para estruturar fluxos de decisão e automação com IA em diversos domínios."
   ]
  },
  {
   "cell_type": "markdown",
   "metadata": {},
   "source": []
  }
 ],
 "metadata": {
  "kernelspec": {
   "display_name": "text2sql",
   "language": "python",
   "name": "python3"
  },
  "language_info": {
   "codemirror_mode": {
    "name": "ipython",
    "version": 3
   },
   "file_extension": ".py",
   "mimetype": "text/x-python",
   "name": "python",
   "nbconvert_exporter": "python",
   "pygments_lexer": "ipython3",
   "version": "3.13.0"
  }
 },
 "nbformat": 4,
 "nbformat_minor": 2
}
