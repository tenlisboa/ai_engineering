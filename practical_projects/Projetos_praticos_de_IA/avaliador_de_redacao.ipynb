{
 "cells": [
  {
   "cell_type": "markdown",
   "metadata": {},
   "source": [
    "# Sistema de Avaliação de Redações usando LangGraph\n",
    "\n",
    "## Visão Geral\n",
    "Este notebook apresenta um sistema automatizado de avaliação de redações implementado usando LangGraph e um modelo LLM. O sistema avalia redações com base em quatro critérios principais: relevância, gramática, estrutura e profundidade de análise.\n",
    "\n",
    "## Motivação\n",
    "Sistemas automatizados de avaliação de redações podem agilizar significativamente o processo de avaliação em ambientes educacionais, fornecendo avaliações consistentes e objetivas. Esta implementação visa demonstrar como modelos de linguagem grandes e fluxos de trabalho baseados em grafos podem ser combinados para criar um sistema sofisticado de avaliação.\n",
    "\n",
    "## Componentes Principais\n",
    "1. Grafo de Estado: Define o fluxo de trabalho do processo de avaliação\n",
    "2. Modelo LLM: Fornece a compreensão e análise de linguagem subjacente\n",
    "3. Funções de Avaliação: Funções separadas para cada critério de avaliação\n",
    "4. Lógica Condicional: Determina o fluxo do processo de avaliação com base em pontuações intermediárias\n",
    "\n",
    "## Método\n",
    "O sistema segue uma abordagem passo a passo para avaliar redações:\n",
    "\n",
    "1. Relevância do Conteúdo: Avalia quão bem a redação aborda o tema proposto\n",
    "2. Verificação Gramatical: Avalia o uso da linguagem e a correção gramatical da redação\n",
    "3. Análise da Estrutura: Examina a organização e o fluxo de ideias na redação\n",
    "4. Profundidade de Análise: Mede o nível de pensamento crítico e insight apresentado\n",
    "\n",
    "Cada etapa é executada condicionalmente com base nas pontuações das etapas anteriores, permitindo o término antecipado de redações de baixa qualidade. A pontuação final é uma média ponderada de todas as pontuações dos componentes individuais.\n",
    "\n",
    "## Conclusão\n",
    "Este notebook demonstra uma abordagem flexível e extensível para a avaliação automatizada de redações. Ao aproveitar o poder dos grandes modelos de linguagem e um fluxo de trabalho baseado em grafos, oferece uma avaliação nuançada de redações que considera múltiplos aspectos da qualidade da escrita. Este sistema pode ser refinado e adaptado para vários contextos educacionais, potencialmente melhorando a eficiência e consistência das avaliações de redações.\n"
   ]
  },
  {
   "cell_type": "markdown",
   "metadata": {},
   "source": [
    "## Instalações e configurações\n",
    "\n",
    "## Essa célula importa as bibliotecas necessárias e configura a chave da API da OpenAI."
   ]
  },
  {
   "cell_type": "code",
   "execution_count": 32,
   "metadata": {},
   "outputs": [
    {
     "name": "stdout",
     "output_type": "stream",
     "text": [
      "Requirement already satisfied: langgraph in /home/anderson/miniconda3/envs/scoras_academy/lib/python3.12/site-packages (0.2.23)\n",
      "Requirement already satisfied: langchain-core<0.4,>=0.2.39 in /home/anderson/miniconda3/envs/scoras_academy/lib/python3.12/site-packages (from langgraph) (0.3.5)\n",
      "Requirement already satisfied: langgraph-checkpoint<2.0.0,>=1.0.2 in /home/anderson/miniconda3/envs/scoras_academy/lib/python3.12/site-packages (from langgraph) (1.0.10)\n",
      "Requirement already satisfied: PyYAML>=5.3 in /home/anderson/miniconda3/envs/scoras_academy/lib/python3.12/site-packages (from langchain-core<0.4,>=0.2.39->langgraph) (6.0.2)\n",
      "Requirement already satisfied: jsonpatch<2.0,>=1.33 in /home/anderson/miniconda3/envs/scoras_academy/lib/python3.12/site-packages (from langchain-core<0.4,>=0.2.39->langgraph) (1.33)\n",
      "Requirement already satisfied: langsmith<0.2.0,>=0.1.125 in /home/anderson/miniconda3/envs/scoras_academy/lib/python3.12/site-packages (from langchain-core<0.4,>=0.2.39->langgraph) (0.1.125)\n",
      "Requirement already satisfied: packaging<25,>=23.2 in /home/anderson/miniconda3/envs/scoras_academy/lib/python3.12/site-packages (from langchain-core<0.4,>=0.2.39->langgraph) (24.1)\n",
      "Requirement already satisfied: pydantic<3.0.0,>=2.7.4 in /home/anderson/miniconda3/envs/scoras_academy/lib/python3.12/site-packages (from langchain-core<0.4,>=0.2.39->langgraph) (2.9.1)\n",
      "Requirement already satisfied: tenacity!=8.4.0,<9.0.0,>=8.1.0 in /home/anderson/miniconda3/envs/scoras_academy/lib/python3.12/site-packages (from langchain-core<0.4,>=0.2.39->langgraph) (8.5.0)\n",
      "Requirement already satisfied: typing-extensions>=4.7 in /home/anderson/miniconda3/envs/scoras_academy/lib/python3.12/site-packages (from langchain-core<0.4,>=0.2.39->langgraph) (4.12.2)\n",
      "Requirement already satisfied: msgpack<2.0.0,>=1.1.0 in /home/anderson/miniconda3/envs/scoras_academy/lib/python3.12/site-packages (from langgraph-checkpoint<2.0.0,>=1.0.2->langgraph) (1.1.0)\n",
      "Requirement already satisfied: jsonpointer>=1.9 in /home/anderson/miniconda3/envs/scoras_academy/lib/python3.12/site-packages (from jsonpatch<2.0,>=1.33->langchain-core<0.4,>=0.2.39->langgraph) (3.0.0)\n",
      "Requirement already satisfied: httpx<1,>=0.23.0 in /home/anderson/miniconda3/envs/scoras_academy/lib/python3.12/site-packages (from langsmith<0.2.0,>=0.1.125->langchain-core<0.4,>=0.2.39->langgraph) (0.27.2)\n",
      "Requirement already satisfied: orjson<4.0.0,>=3.9.14 in /home/anderson/miniconda3/envs/scoras_academy/lib/python3.12/site-packages (from langsmith<0.2.0,>=0.1.125->langchain-core<0.4,>=0.2.39->langgraph) (3.10.7)\n",
      "Requirement already satisfied: requests<3,>=2 in /home/anderson/miniconda3/envs/scoras_academy/lib/python3.12/site-packages (from langsmith<0.2.0,>=0.1.125->langchain-core<0.4,>=0.2.39->langgraph) (2.32.3)\n",
      "Requirement already satisfied: annotated-types>=0.6.0 in /home/anderson/miniconda3/envs/scoras_academy/lib/python3.12/site-packages (from pydantic<3.0.0,>=2.7.4->langchain-core<0.4,>=0.2.39->langgraph) (0.7.0)\n",
      "Requirement already satisfied: pydantic-core==2.23.3 in /home/anderson/miniconda3/envs/scoras_academy/lib/python3.12/site-packages (from pydantic<3.0.0,>=2.7.4->langchain-core<0.4,>=0.2.39->langgraph) (2.23.3)\n",
      "Requirement already satisfied: anyio in /home/anderson/miniconda3/envs/scoras_academy/lib/python3.12/site-packages (from httpx<1,>=0.23.0->langsmith<0.2.0,>=0.1.125->langchain-core<0.4,>=0.2.39->langgraph) (4.4.0)\n",
      "Requirement already satisfied: certifi in /home/anderson/miniconda3/envs/scoras_academy/lib/python3.12/site-packages (from httpx<1,>=0.23.0->langsmith<0.2.0,>=0.1.125->langchain-core<0.4,>=0.2.39->langgraph) (2024.8.30)\n",
      "Requirement already satisfied: httpcore==1.* in /home/anderson/miniconda3/envs/scoras_academy/lib/python3.12/site-packages (from httpx<1,>=0.23.0->langsmith<0.2.0,>=0.1.125->langchain-core<0.4,>=0.2.39->langgraph) (1.0.5)\n",
      "Requirement already satisfied: idna in /home/anderson/miniconda3/envs/scoras_academy/lib/python3.12/site-packages (from httpx<1,>=0.23.0->langsmith<0.2.0,>=0.1.125->langchain-core<0.4,>=0.2.39->langgraph) (3.10)\n",
      "Requirement already satisfied: sniffio in /home/anderson/miniconda3/envs/scoras_academy/lib/python3.12/site-packages (from httpx<1,>=0.23.0->langsmith<0.2.0,>=0.1.125->langchain-core<0.4,>=0.2.39->langgraph) (1.3.1)\n",
      "Requirement already satisfied: h11<0.15,>=0.13 in /home/anderson/miniconda3/envs/scoras_academy/lib/python3.12/site-packages (from httpcore==1.*->httpx<1,>=0.23.0->langsmith<0.2.0,>=0.1.125->langchain-core<0.4,>=0.2.39->langgraph) (0.14.0)\n",
      "Requirement already satisfied: charset-normalizer<4,>=2 in /home/anderson/miniconda3/envs/scoras_academy/lib/python3.12/site-packages (from requests<3,>=2->langsmith<0.2.0,>=0.1.125->langchain-core<0.4,>=0.2.39->langgraph) (3.3.2)\n",
      "Requirement already satisfied: urllib3<3,>=1.21.1 in /home/anderson/miniconda3/envs/scoras_academy/lib/python3.12/site-packages (from requests<3,>=2->langsmith<0.2.0,>=0.1.125->langchain-core<0.4,>=0.2.39->langgraph) (2.2.3)\n"
     ]
    }
   ],
   "source": [
    "!pip install langgraph\n",
    "from typing import TypedDict\n",
    "from langgraph.graph import StateGraph, END\n",
    "from langchain_openai import ChatOpenAI\n",
    "from langchain_core.prompts import ChatPromptTemplate\n",
    "import os\n",
    "from dotenv import load_dotenv\n",
    "import re\n",
    "\n",
    "\n",
    "# Carrega as variáveis de ambiente e configura a chave da API da OpenAI\n",
    "load_dotenv()\n",
    "os.environ[\"OPENAI_API_KEY\"] = os.getenv('OPENAI_API_KEY')"
   ]
  },
  {
   "cell_type": "markdown",
   "metadata": {},
   "source": [
    "## Definição do estado\n",
    "\n",
    "Esta célula define a classe State, que representa o estado do processo de avaliação."
   ]
  },
  {
   "cell_type": "code",
   "execution_count": 34,
   "metadata": {},
   "outputs": [],
   "source": [
    "class State(TypedDict):\n",
    "    \"\"\" Representa o estado do processo de avaliação da redação \"\"\"\n",
    "    essay: str\n",
    "    relevance_score: float\n",
    "    grammar_score: float\n",
    "    structure_score: float\n",
    "    depth_score: float\n",
    "    final_score: float"
   ]
  },
  {
   "cell_type": "markdown",
   "metadata": {},
   "source": [
    "## Inicialização do modelo de linguagem\n",
    "\n",
    "Essa célula inicializa o modelo ChatOpenAI."
   ]
  },
  {
   "cell_type": "code",
   "execution_count": 35,
   "metadata": {},
   "outputs": [],
   "source": [
    "# Inicializa o modelo ChatOpenAI\n",
    "llm = ChatOpenAI(model=\"gpt-4o-mini\")"
   ]
  },
  {
   "cell_type": "markdown",
   "metadata": {},
   "source": [
    "## Grading Functions\n",
    "\n",
    "This cell defines the functions used in the grading process, including score extraction and individual grading components."
   ]
  },
  {
   "cell_type": "code",
   "execution_count": 37,
   "metadata": {},
   "outputs": [],
   "source": [
    "def extract_score(content: str) -> float:\n",
    "    \"\"\"Extrai a pontuação numérica da resposta do LLM.\"\"\"\n",
    "    match = re.search(r'Pontuação:\\s*(\\d+(\\.\\d+)?)', content)\n",
    "    if match:\n",
    "        return float(match.group(1))\n",
    "    raise ValueError(f\"Não foi possível extrair a pontuação de: {content}\")\n",
    "\n",
    "def check_relevance(state: State) -> State:\n",
    "    \"\"\"Verifica a relevância da redação.\"\"\"\n",
    "    prompt = ChatPromptTemplate.from_template(\n",
    "        \"Analise a relevância da seguinte redação em relação ao tema dado, prezando pela excelência da Língua Portuguesa. \"\n",
    "        \"Forneça uma pontuação de relevância entre 0 e 1. \"\n",
    "        \"Sua resposta deve começar com 'Pontuação: ' seguida da pontuação numérica, \"\n",
    "        \"depois forneça sua explicação.\\n\\nRedação: {essay}\"\n",
    "    )\n",
    "    result = llm.invoke(prompt.format(essay=state[\"essay\"]))\n",
    "    try:\n",
    "        state[\"relevance_score\"] = extract_score(result.content)\n",
    "    except ValueError as e:\n",
    "        print(f\"Erro em check_relevance: {e}\")\n",
    "        state[\"relevance_score\"] = 0.0\n",
    "    return state\n",
    "\n",
    "def check_grammar(state: State) -> State:\n",
    "    \"\"\"Verifica a gramática da redação.\"\"\"\n",
    "    prompt = ChatPromptTemplate.from_template(\n",
    "        \"Analise a gramática da Língua Portuguesa na seguinte redação. \"\n",
    "        \"Forneça uma pontuação de gramática entre 0 e 1. \"\n",
    "        \"Sua resposta deve começar com 'Pontuação: ' seguida da pontuação numérica, \"\n",
    "        \"depois forneça sua explicação.\\n\\nRedação: {essay}\"\n",
    "    )\n",
    "    result = llm.invoke(prompt.format(essay=state[\"essay\"]))\n",
    "    try:\n",
    "        state[\"grammar_score\"] = extract_score(result.content)\n",
    "    except ValueError as e:\n",
    "        print(f\"Erro em check_grammar: {e}\")\n",
    "        state[\"grammar_score\"] = 0.0\n",
    "    return state\n",
    "\n",
    "def analyze_structure(state: State) -> State:\n",
    "    \"\"\"Analisa a estrutura da redação.\"\"\"\n",
    "    prompt = ChatPromptTemplate.from_template(\n",
    "        \"Analise a estrutura de acordo com a normal culta da Língua Portuguesa na seguinte redação. \"\n",
    "        \"Forneça uma pontuação de estrutura entre 0 e 1. \"\n",
    "        \"Sua resposta deve começar com 'Pontuação: ' seguida da pontuação numérica, \"\n",
    "        \"depois forneça sua explicação.\\n\\nRedação: {essay}\"\n",
    "    )\n",
    "    result = llm.invoke(prompt.format(essay=state[\"essay\"]))\n",
    "    try:\n",
    "        state[\"structure_score\"] = extract_score(result.content)\n",
    "    except ValueError as e:\n",
    "        print(f\"Erro em analyze_structure: {e}\")\n",
    "        state[\"structure_score\"] = 0.0\n",
    "    return state\n",
    "\n",
    "def evaluate_depth(state: State) -> State:\n",
    "    \"\"\"Avalia a profundidade de análise na redação.\"\"\"\n",
    "    prompt = ChatPromptTemplate.from_template(\n",
    "        \"Avalie a profundidade de análise na seguinte redação. \"\n",
    "        \"Forneça uma pontuação de profundidade entre 0 e 1. \"\n",
    "        \"Sua resposta deve começar com 'Pontuação: ' seguida da pontuação numérica, \"\n",
    "        \"depois forneça sua explicação.\\n\\nRedação: {essay}\"\n",
    "    )\n",
    "    result = llm.invoke(prompt.format(essay=state[\"essay\"]))\n",
    "    try:\n",
    "        state[\"depth_score\"] = extract_score(result.content)\n",
    "    except ValueError as e:\n",
    "        print(f\"Erro em evaluate_depth: {e}\")\n",
    "        state[\"depth_score\"] = 0.0\n",
    "    return state\n",
    "\n",
    "def calculate_final_score(state: State) -> State:\n",
    "    \"\"\"Calcula a pontuação final com base nas pontuações dos componentes individuais.\"\"\"\n",
    "    state[\"final_score\"] = (\n",
    "        state[\"relevance_score\"] * 0.3 +\n",
    "        state[\"grammar_score\"] * 0.2 +\n",
    "        state[\"structure_score\"] * 0.2 +\n",
    "        state[\"depth_score\"] * 0.3\n",
    "    )\n",
    "    return state"
   ]
  },
  {
   "cell_type": "markdown",
   "metadata": {},
   "source": [
    "## Definição do fluxo de trabalho\n",
    "\n",
    "Essa célula define o fluxo de trabalho de avaliação usando StateGraph."
   ]
  },
  {
   "cell_type": "code",
   "execution_count": 38,
   "metadata": {},
   "outputs": [],
   "source": [
    "# Inicializa o StateGraph\n",
    "workflow = StateGraph(State)\n",
    "\n",
    "# Adiciona nós ao grafo\n",
    "workflow.add_node(\"check_relevance\", check_relevance)\n",
    "workflow.add_node(\"check_grammar\", check_grammar)\n",
    "workflow.add_node(\"analyze_structure\", analyze_structure)\n",
    "workflow.add_node(\"evaluate_depth\", evaluate_depth)\n",
    "workflow.add_node(\"calculate_final_score\", calculate_final_score)\n",
    "\n",
    "# Define e adiciona arestas condicionais\n",
    "workflow.add_conditional_edges(\n",
    "    \"check_relevance\",\n",
    "    lambda x: \"check_grammar\" if x[\"relevance_score\"] > 0.5 else \"calculate_final_score\"\n",
    ")\n",
    "workflow.add_conditional_edges(\n",
    "    \"check_grammar\",\n",
    "    lambda x: \"analyze_structure\" if x[\"grammar_score\"] > 0.6 else \"calculate_final_score\"\n",
    ")\n",
    "workflow.add_conditional_edges(\n",
    "    \"analyze_structure\",\n",
    "    lambda x: \"evaluate_depth\" if x[\"structure_score\"] > 0.7 else \"calculate_final_score\"\n",
    ")\n",
    "workflow.add_conditional_edges(\n",
    "    \"evaluate_depth\",\n",
    "    lambda x: \"calculate_final_score\"\n",
    ")\n",
    "\n",
    "# Define o ponto de entrada\n",
    "workflow.set_entry_point(\"check_relevance\")\n",
    "\n",
    "# Define o ponto de saída\n",
    "workflow.add_edge(\"calculate_final_score\", END)\n",
    "\n",
    "\n",
    "# Compila o grafo\n",
    "app = workflow.compile()"
   ]
  },
  {
   "cell_type": "markdown",
   "metadata": {},
   "source": [
    "## Função de avaliação de redação\n",
    "\n",
    "Essa célula define a função principal para avaliar uma redação usando o fluxo de trabalho definido."
   ]
  },
  {
   "cell_type": "code",
   "execution_count": 39,
   "metadata": {},
   "outputs": [],
   "source": [
    "def grade_essay(essay: str) -> dict:\n",
    "    \"\"\"Avalia a redação fornecida usando o fluxo de trabalho definido.\"\"\"\n",
    "    initial_state = State(\n",
    "        essay=essay,\n",
    "        relevance_score=0.0,\n",
    "        grammar_score=0.0,\n",
    "        structure_score=0.0,\n",
    "        depth_score=0.0,\n",
    "        final_score=0.0\n",
    "    )\n",
    "    result = app.invoke(initial_state)\n",
    "    return result"
   ]
  },
  {
   "cell_type": "markdown",
   "metadata": {},
   "source": [
    "## Redação de exemplo\n",
    "\n",
    "Essa é uma redação de exemplo para testar o sistema de avaliação."
   ]
  },
  {
   "cell_type": "code",
   "execution_count": 40,
   "metadata": {},
   "outputs": [],
   "source": [
    "sample_essay = \"\"\"\n",
    "O Impacto dos Agentes de Inteligência Artificial e Fluxos de Trabalho Agentes com Multi-ferramentas na Sociedade Moderna\n",
    "\n",
    "\n",
    "A Inteligência Artificial (IA) tem experimentado avanços significativos nas últimas décadas, e uma de suas manifestações mais revolucionárias é o desenvolvimento de agentes de IA e fluxos de trabalho agentes com multi-ferramentas. Estes agentes autônomos, capazes de aprender, adaptar-se e tomar decisões independentes, estão transformando a maneira como interagimos com a tecnologia e influenciando diversos setores da sociedade. Este ensaio explora os efeitos profundos desses agentes na sociedade moderna, discutindo seus benefícios, aplicações práticas e os desafios que apresentam.\n",
    "\n",
    "No campo da saúde, os agentes de IA estão desempenhando um papel crucial na melhoria dos cuidados aos pacientes e na eficiência operacional das instituições médicas. Sistemas avançados como o DeepMind Health, do Google, utilizam agentes de IA para analisar imagens médicas, detectando sinais precoces de doenças como câncer e retinopatia diabética com precisão impressionante. Além disso, agentes com multi-ferramentas podem integrar dados de diferentes fontes, como registros eletrônicos de saúde, resultados de exames laboratoriais e informações genômicas, para oferecer diagnósticos mais precisos e planos de tratamento personalizados.\n",
    "\n",
    "Durante a pandemia de COVID-19, agentes de IA foram empregados para modelar a propagação do vírus, prever surtos e otimizar a distribuição de recursos médicos. Esses agentes ajudaram governos e instituições de saúde a tomar decisões informadas sobre medidas de contenção e alocação de vacinas, demonstrando o potencial dos fluxos de trabalho agentes em situações de crise.\n",
    "\n",
    "No setor financeiro, os agentes de IA estão redefinindo a análise de risco, detecção de fraude e gestão de investimentos. Robôs consultores (robo-advisors) utilizam algoritmos de IA para fornecer aconselhamento financeiro personalizado, considerando objetivos individuais, tolerância ao risco e condições de mercado. Empresas como a BlackRock e Vanguard incorporam agentes de IA em suas estratégias de investimento, permitindo decisões mais ágeis e baseadas em dados.\n",
    "\n",
    "Além disso, agentes de IA com fluxos de trabalho agentes podem interagir com múltiplas ferramentas financeiras, monitorando transações em tempo real, analisando padrões de comportamento e identificando atividades suspeitas. Isso não apenas protege os consumidores, mas também fortalece a integridade do sistema financeiro global.\n",
    "\n",
    "A indústria de transporte está passando por uma transformação significativa com a introdução de veículos autônomos e sistemas inteligentes de gerenciamento de tráfego. Agentes de IA são o cérebro por trás de carros autônomos, interpretando dados de sensores, câmeras e radares para tomar decisões de direção seguras. Empresas como Waymo, Uber e Tesla estão na vanguarda dessa tecnologia, prometendo reduzir acidentes causados por erro humano e melhorar a eficiência das viagens.\n",
    "\n",
    "Em cidades inteligentes, agentes de IA gerenciam semáforos adaptativos, sistemas de transporte público e serviços de compartilhamento de veículos. Por exemplo, em Singapura, agentes inteligentes coordenam o fluxo de tráfego em tempo real, reduzindo congestionamentos e emissões de gases poluentes.\n",
    "\n",
    "Na educação, agentes de IA estão promovendo uma revolução no ensino e aprendizado. Plataformas educacionais inteligentes utilizam agentes para adaptar currículos às necessidades individuais dos estudantes. Esses sistemas analisam o desempenho, identificam áreas de dificuldade e ajustam o conteúdo para otimizar o aprendizado.\n",
    "\n",
    "Por exemplo, o sistema Knewton utiliza agentes de IA para fornecer recomendações personalizadas de estudo, enquanto o Squirrel AI, na China, oferece tutoria adaptativa para milhões de estudantes. Esses agentes permitem que os educadores atendam às necessidades específicas de cada aluno, promovendo um aprendizado mais eficaz e inclusivo.\n",
    "\n",
    "Na indústria e manufatura, os agentes de IA estão otimizando processos de produção, manutenção preditiva e gerenciamento da cadeia de suprimentos. Robôs industriais equipados com agentes inteligentes podem adaptar-se a diferentes tarefas, aprender com erros e colaborar com trabalhadores humanos em ambientes de fábrica.\n",
    "\n",
    "A Siemens, por exemplo, implementa agentes de IA em suas fábricas para monitorar o desempenho de máquinas, prever falhas e programar manutenções antes que ocorram interrupções. Isso resulta em maior eficiência, redução de custos e melhoria na qualidade dos produtos.\n",
    "\n",
    "No setor de serviços, agentes de IA estão revolucionando o atendimento ao cliente. Chatbots e assistentes virtuais utilizam processamento de linguagem natural para interagir com clientes, resolver problemas comuns e encaminhar questões mais complexas a agentes humanos. Isso melhora a experiência do cliente e permite que as empresas atendam a um volume maior de consultas com eficiência.\n",
    "\n",
    "Empresas como a Amazon e a Apple implementam agentes de IA em seus serviços de suporte, oferecendo assistência 24 horas por dia e personalizando as interações com base no histórico do cliente.\n",
    "\n",
    "Apesar dos benefícios significativos, a adoção de agentes de IA e fluxos de trabalho agentes apresenta desafios complexos. A automação avançada ameaça substituir empregos em diversos setores, desde manufatura até serviços profissionais. Estudos do Fórum Econômico Mundial indicam que milhões de empregos podem ser afetados, exigindo políticas robustas de requalificação e educação para preparar a força de trabalho para novas oportunidades.\n",
    "\n",
    "Questões éticas também são centrais neste debate. A tomada de decisões autônomas por agentes de IA levanta preocupações sobre responsabilidade legal em casos de falhas ou decisões prejudiciais. Além disso, algoritmos podem perpetuar vieses existentes se treinados em dados não representativos, levando a discriminação em áreas como contratação, crédito e justiça criminal.\n",
    "\n",
    "A privacidade dos dados é outra área crítica. Agentes de IA dependem de grandes quantidades de dados pessoais para aprender e operar eficientemente. Garantir que esses dados sejam coletados e utilizados de maneira ética, respeitando regulamentos como a Lei Geral de Proteção de Dados (LGPD) no Brasil, é essencial para manter a confiança do público.\n",
    "\n",
    "A crescente dependência de agentes de IA também levanta preocupações sobre segurança cibernética. Sistemas autônomos podem ser vulneráveis a ataques, manipulações e falhas sistêmicas. Incidentes envolvendo veículos autônomos ou sistemas financeiros automatizados podem ter consequências significativas, destacando a necessidade de protocolos de segurança robustos.\n",
    "\n",
    "Além disso, há o risco de dependência excessiva da tecnologia, onde habilidades humanas podem ser negligenciadas ou perdidas. É importante equilibrar a adoção de agentes de IA com o desenvolvimento contínuo das capacidades humanas e o pensamento crítico.\n",
    "\n",
    "O futuro dos agentes de IA é promissor, com avanços contínuos em áreas como processamento de linguagem natural, aprendizado por reforço e redes neurais profundas. A integração de agentes de IA com tecnologias emergentes como computação quântica e Internet das Coisas (IoT) ampliará ainda mais suas capacidades.\n",
    "\n",
    "Iniciativas como o AutoGPT e o BabyAGI representam passos em direção a agentes de IA capazes de aprender e se adaptar de forma autônoma, executando tarefas complexas sem intervenção humana constante. Esses sistemas têm o potencial de revolucionar setores inteiros, mas também exigem uma consideração cuidadosa dos impactos sociais e éticos.\n",
    "\n",
    "Em conclusão, os agentes de IA e fluxos de trabalho agentes com multi-ferramentas estão remodelando a sociedade moderna, oferecendo soluções inovadoras para desafios complexos e melhorando a eficiência em diversos setores. Seus benefícios são inegáveis, desde cuidados de saúde aprimorados até transportes mais seguros e educação personalizada.\n",
    "\n",
    "No entanto, esses avanços vêm acompanhados de desafios significativos que exigem atenção cuidadosa. A sociedade deve abordar questões de emprego, ética, privacidade e segurança de dados para garantir que a integração de agentes de IA beneficie a todos de maneira equitativa.\n",
    "\n",
    "À medida que avançamos para um futuro cada vez mais interconectado e orientado pela IA, é responsabilidade coletiva de governos, empresas, educadores e cidadãos trabalhar juntos. Devemos promover uma abordagem equilibrada que valorize a inovação tecnológica ao mesmo tempo em que protege os valores humanos fundamentais, assegurando que os agentes de IA sirvam como ferramentas para o bem-estar e progresso da humanidade.\n",
    "    \"\"\""
   ]
  },
  {
   "cell_type": "markdown",
   "metadata": {},
   "source": [
    "## Avaliação da redação de exemplo\n",
    "\n",
    "Essa célula demonstra como usar o sistema de avaliação na redação de exemplo e exibir os resultados."
   ]
  },
  {
   "cell_type": "code",
   "execution_count": 41,
   "metadata": {},
   "outputs": [
    {
     "name": "stdout",
     "output_type": "stream",
     "text": [
      "Pontuação Final da Redação: 8.65/10\n",
      "\n",
      "Pontuação de Relevância: 9.50/10\n",
      "Pontuação de Gramática: 8.50/10\n",
      "Pontuação de Estrutura: 8.50/10\n",
      "Pontuação de Profundidade: 8.00/10\n"
     ]
    }
   ],
   "source": [
    "# Avalia a redação de exemplo\n",
    "result = grade_essay(sample_essay)\n",
    "\n",
    "# Converte as pontuações de 0-1 para 0-10\n",
    "final_score = result['final_score'] * 10\n",
    "relevance_score = result['relevance_score'] * 10\n",
    "grammar_score = result['grammar_score'] * 10\n",
    "structure_score = result['structure_score'] * 10\n",
    "depth_score = result['depth_score'] * 10\n",
    "\n",
    "# Exibe os resultados\n",
    "print(f\"Pontuação Final da Redação: {final_score:.2f}/10\\n\")\n",
    "print(f\"Pontuação de Relevância: {relevance_score:.2f}/10\")\n",
    "print(f\"Pontuação de Gramática: {grammar_score:.2f}/10\")\n",
    "print(f\"Pontuação de Estrutura: {structure_score:.2f}/10\")\n",
    "print(f\"Pontuação de Profundidade: {depth_score:.2f}/10\")"
   ]
  },
  {
   "cell_type": "code",
   "execution_count": null,
   "metadata": {},
   "outputs": [],
   "source": []
  }
 ],
 "metadata": {
  "kernelspec": {
   "display_name": ".venv",
   "language": "python",
   "name": "python3"
  },
  "language_info": {
   "codemirror_mode": {
    "name": "ipython",
    "version": 3
   },
   "file_extension": ".py",
   "mimetype": "text/x-python",
   "name": "python",
   "nbconvert_exporter": "python",
   "pygments_lexer": "ipython3",
   "version": "3.12.5"
  }
 },
 "nbformat": 4,
 "nbformat_minor": 2
}
