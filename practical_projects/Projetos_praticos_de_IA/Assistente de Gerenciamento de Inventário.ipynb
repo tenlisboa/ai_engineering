{
 "cells": [
  {
   "cell_type": "markdown",
   "metadata": {},
   "source": [
    "# Assistente de Gerenciamento de Inventário\" usando o LangGraph.\n",
    "##  O script irá monitorar os níveis de inventário, prever faltas de estoque usando dados históricos e tendências, e automatizar processos de reabastecimento, enviando alertas ou fazendo pedidos quando necessário.\n",
    "\n"
   ]
  },
  {
   "cell_type": "markdown",
   "metadata": {},
   "source": [
    "Parte 1: Instalação de Bibliotecas Necessárias\n",
    "Primeiramente, precisamos instalar as bibliotecas que serão utilizadas no script. Execute a célula abaixo no seu Jupyter Notebook:"
   ]
  },
  {
   "cell_type": "code",
   "execution_count": 14,
   "metadata": {},
   "outputs": [],
   "source": [
    "#!pip install duckdb pandas matplotlib seaborn langgraph langchain-openai langchain-core openai python-dotenv graphviz\n"
   ]
  },
  {
   "cell_type": "markdown",
   "metadata": {},
   "source": [
    "Parte 2: Importações e Configurações Iniciais\n",
    "\n",
    "Nesta parte, importamos as bibliotecas necessárias e configuramos o ambiente."
   ]
  },
  {
   "cell_type": "code",
   "execution_count": 30,
   "metadata": {},
   "outputs": [],
   "source": [
    "# Importações necessárias\n",
    "import os\n",
    "import duckdb  # Banco de dados embutido\n",
    "import pandas as pd  # Manipulação de dados\n",
    "import numpy as np  # Operações numéricas\n",
    "import matplotlib.pyplot as plt  # Visualizações\n",
    "import seaborn as sns  # Visualizações aprimoradas\n",
    "from typing import TypedDict, List, Dict, Any\n",
    "from langgraph.graph import StateGraph, START, END  # Para criar o fluxo de trabalho\n",
    "from langchain_openai.chat_models import ChatOpenAI  # Modelo de linguagem\n",
    "from langchain_core.prompts import ChatPromptTemplate  # Para criar prompts personalizados\n",
    "from dotenv import load_dotenv  # Para carregar variáveis de ambiente\n",
    "\n",
    "# Carregar variáveis de ambiente\n",
    "load_dotenv()\n",
    "os.environ[\"OPENAI_API_KEY\"] = os.getenv('OPENAI_API_KEY')\n",
    "\n",
    "llm = ChatOpenAI(model_name=\"gpt-4o-mini\", temperature=0)\n"
   ]
  },
  {
   "cell_type": "markdown",
   "metadata": {},
   "source": [
    "Parte 3: Criação de um Banco de Dados Fictício com DuckDB\n",
    "Vamos criar um banco de dados fictício que representa o inventário e histórico de vendas."
   ]
  },
  {
   "cell_type": "code",
   "execution_count": 31,
   "metadata": {},
   "outputs": [
    {
     "data": {
      "text/plain": [
       "<duckdb.duckdb.DuckDBPyConnection at 0x74d4bcedf0b0>"
      ]
     },
     "execution_count": 31,
     "metadata": {},
     "output_type": "execute_result"
    }
   ],
   "source": [
    "# Conectar ao banco de dados em memória\n",
    "conn = duckdb.connect(database=':memory:')\n",
    "\n",
    "# Criar dados fictícios de inventário\n",
    "inventory_data = pd.DataFrame({\n",
    "    'product_id': [f'P{str(i).zfill(3)}' for i in range(1, 21)],\n",
    "    'product_name': [f'Produto {i}' for i in range(1, 21)],\n",
    "    'current_stock': np.random.randint(0, 100, size=20),\n",
    "    'reorder_level': np.random.randint(10, 50, size=20),\n",
    "    'lead_time_days': np.random.randint(1, 15, size=20)\n",
    "})\n",
    "\n",
    "# Criar dados fictícios de vendas históricas\n",
    "date_range = pd.date_range(end=pd.Timestamp.today(), periods=180)\n",
    "sales_history = pd.DataFrame({\n",
    "    'date': np.random.choice(date_range, size=500),\n",
    "    'product_id': np.random.choice(inventory_data['product_id'], size=500),\n",
    "    'quantity_sold': np.random.randint(1, 10, size=500)\n",
    "})\n",
    "\n",
    "# Inserir os dados no DuckDB\n",
    "conn.execute(\"CREATE TABLE inventory AS SELECT * FROM inventory_data\")\n",
    "conn.execute(\"CREATE TABLE sales_history AS SELECT * FROM sales_history\")\n"
   ]
  },
  {
   "cell_type": "code",
   "execution_count": 32,
   "metadata": {},
   "outputs": [
    {
     "name": "stdout",
     "output_type": "stream",
     "text": [
      "   product_id product_name  current_stock  reorder_level  lead_time_days\n",
      "0        P001    Produto 1             27             35               9\n",
      "1        P002    Produto 2             79             40               4\n",
      "2        P003    Produto 3             78             38               1\n",
      "3        P004    Produto 4              9             38               9\n",
      "4        P005    Produto 5             43             20               2\n",
      "5        P006    Produto 6             83             41               7\n",
      "6        P007    Produto 7             77             37              12\n",
      "7        P008    Produto 8             81             49              10\n",
      "8        P009    Produto 9             31             32               3\n",
      "9        P010   Produto 10             49             33               8\n",
      "10       P011   Produto 11             18             23               8\n",
      "11       P012   Produto 12             59             44              10\n",
      "12       P013   Produto 13             43             15              12\n",
      "13       P014   Produto 14             61             28               6\n",
      "14       P015   Produto 15             26             46               1\n",
      "15       P016   Produto 16             73             44               6\n",
      "16       P017   Produto 17             42             43               2\n",
      "17       P018   Produto 18             84             16               5\n",
      "18       P019   Produto 19             13             37              14\n",
      "19       P020   Produto 20             86             48              12\n",
      "                          date product_id  quantity_sold\n",
      "0   2024-09-27 19:50:40.497461       P006              3\n",
      "1   2024-06-26 19:50:40.497461       P004              4\n",
      "2   2024-07-09 19:50:40.497461       P016              7\n",
      "3   2024-09-29 19:50:40.497461       P015              4\n",
      "4   2024-10-18 19:50:40.497461       P008              3\n",
      "..                         ...        ...            ...\n",
      "495 2024-09-07 19:50:40.497461       P009              9\n",
      "496 2024-07-21 19:50:40.497461       P008              8\n",
      "497 2024-09-12 19:50:40.497461       P008              1\n",
      "498 2024-11-06 19:50:40.497461       P017              5\n",
      "499 2024-09-10 19:50:40.497461       P014              8\n",
      "\n",
      "[500 rows x 3 columns]\n"
     ]
    }
   ],
   "source": [
    "#testando o banco de dados\n",
    "print(conn.execute(\"SELECT * FROM inventory\").df())\n",
    "print(conn.execute(\"SELECT * FROM sales_history\").df())"
   ]
  },
  {
   "cell_type": "markdown",
   "metadata": {},
   "source": [
    "Parte 4: Definição das Estruturas de Dados e Estado\n",
    "\n",
    "Definimos as estruturas de dados que serão usadas no fluxo de trabalho."
   ]
  },
  {
   "cell_type": "code",
   "execution_count": 33,
   "metadata": {},
   "outputs": [],
   "source": [
    "# Estrutura do estado\n",
    "class State(TypedDict):\n",
    "    low_stock_products: pd.DataFrame\n",
    "    demand_forecast: pd.DataFrame\n",
    "    replenishment_orders: pd.DataFrame\n",
    "    alerts: List[str]\n",
    "    errors: List[str]\n"
   ]
  },
  {
   "cell_type": "markdown",
   "metadata": {},
   "source": [
    "Parte 5: Implementação das Funções de Fluxo de Trabalho\n",
    "\n",
    "5.1. Função para Identificar Produtos com Baixo Estoque"
   ]
  },
  {
   "cell_type": "code",
   "execution_count": 34,
   "metadata": {},
   "outputs": [],
   "source": [
    "def check_inventory_levels(state: State) -> State:\n",
    "    \"\"\"\n",
    "    Verifica o nível atual de estoque e identifica produtos abaixo do nível de reabastecimento.\n",
    "    \"\"\"\n",
    "    try:\n",
    "        # Consultar o banco de dados para obter o inventário atual\n",
    "        inventory = conn.execute(\"SELECT * FROM inventory\").df()\n",
    "        \n",
    "        # Identificar produtos com estoque abaixo do nível de reabastecimento\n",
    "        low_stock = inventory[inventory['current_stock'] <= inventory['reorder_level']]\n",
    "        \n",
    "        # Atualizar o estado\n",
    "        state['low_stock_products'] = low_stock\n",
    "    except Exception as e:\n",
    "        state['errors'].append(f\"Erro ao verificar os níveis de inventário: {e}\")\n",
    "    return state\n"
   ]
  },
  {
   "cell_type": "markdown",
   "metadata": {},
   "source": [
    "5.2. Função para Prever a Demanda Futura\n",
    "\n"
   ]
  },
  {
   "cell_type": "code",
   "execution_count": 35,
   "metadata": {},
   "outputs": [],
   "source": [
    "def forecast_demand(state: State) -> State:\n",
    "    \"\"\"\n",
    "    Prevê a demanda futura com base no histórico de vendas.\n",
    "    \"\"\"\n",
    "    try:\n",
    "        # Obter produtos com baixo estoque\n",
    "        low_stock = state.get('low_stock_products')\n",
    "        \n",
    "        if low_stock is None or low_stock.empty:\n",
    "            state['errors'].append(\"Nenhum produto com baixo estoque para prever demanda.\")\n",
    "            return state\n",
    "        \n",
    "        # Obter histórico de vendas\n",
    "        sales = conn.execute(\"SELECT * FROM sales_history\").df()\n",
    "        \n",
    "        # Combinar dados\n",
    "        data = sales.merge(low_stock[['product_id']], on='product_id')\n",
    "        \n",
    "        # Prever demanda (neste exemplo simples, usaremos a média diária)\n",
    "        forecast = data.groupby('product_id').agg({\n",
    "            'quantity_sold': lambda x: x.sum() / 180  # Média diária nos últimos 180 dias\n",
    "        }).reset_index()\n",
    "        forecast.rename(columns={'quantity_sold': 'daily_average_sold'}, inplace=True)\n",
    "        \n",
    "        # Atualizar o estado\n",
    "        state['demand_forecast'] = forecast\n",
    "    except Exception as e:\n",
    "        state['errors'].append(f\"Erro ao prever a demanda: {e}\")\n",
    "    return state\n"
   ]
  },
  {
   "cell_type": "markdown",
   "metadata": {},
   "source": [
    "5.3. Função para Gerar Ordens de Reabastecimento\n"
   ]
  },
  {
   "cell_type": "code",
   "execution_count": 36,
   "metadata": {},
   "outputs": [],
   "source": [
    "def generate_replenishment_orders(state: State) -> State:\n",
    "    \"\"\"\n",
    "    Gera ordens de reabastecimento com base na previsão de demanda e tempo de entrega.\n",
    "    \"\"\"\n",
    "    try:\n",
    "        low_stock = state.get('low_stock_products')\n",
    "        forecast = state.get('demand_forecast')\n",
    "        \n",
    "        if low_stock is None or low_stock.empty or forecast is None or forecast.empty:\n",
    "            state['errors'].append(\"Dados insuficientes para gerar ordens de reabastecimento.\")\n",
    "            return state\n",
    "        \n",
    "        # Combinar dados\n",
    "        orders = low_stock.merge(forecast, on='product_id')\n",
    "        \n",
    "        # Calcular a quantidade necessária\n",
    "        orders['replenishment_quantity'] = (\n",
    "            orders['daily_average_sold'] * orders['lead_time_days']\n",
    "        ).astype(int) - orders['current_stock']\n",
    "        \n",
    "        # Filtrar pedidos com quantidade positiva\n",
    "        orders = orders[orders['replenishment_quantity'] > 0]\n",
    "        \n",
    "        # Atualizar o estado\n",
    "        state['replenishment_orders'] = orders[['product_id', 'product_name', 'replenishment_quantity']]\n",
    "    except Exception as e:\n",
    "        state['errors'].append(f\"Erro ao gerar ordens de reabastecimento: {e}\")\n",
    "    return state\n"
   ]
  },
  {
   "cell_type": "markdown",
   "metadata": {},
   "source": [
    "5.4. Função para Enviar Alertas ou Fazer Pedidos\n"
   ]
  },
  {
   "cell_type": "code",
   "execution_count": 37,
   "metadata": {},
   "outputs": [],
   "source": [
    "def send_alerts_or_place_orders(state: State) -> State:\n",
    "    \"\"\"\n",
    "    Envia alertas ou faz pedidos de reabastecimento.\n",
    "    \"\"\"\n",
    "    try:\n",
    "        orders = state.get('replenishment_orders')\n",
    "        \n",
    "        if orders is None or orders.empty:\n",
    "            state['alerts'].append(\"Nenhum produto necessita de reabastecimento imediato.\")\n",
    "            return state\n",
    "        \n",
    "        # Exemplo: Enviar um alerta para cada produto\n",
    "        for _, row in orders.iterrows():\n",
    "            alert = f\"Produto {row['product_name']} (ID: {row['product_id']}) precisa ser reabastecido. Quantidade sugerida: {row['replenishment_quantity']} unidades.\"\n",
    "            state['alerts'].append(alert)\n",
    "            # Aqui, você poderia integrar com um sistema de pedidos automático\n",
    "    except Exception as e:\n",
    "        state['errors'].append(f\"Erro ao enviar alertas ou fazer pedidos: {e}\")\n",
    "    return state\n"
   ]
  },
  {
   "cell_type": "markdown",
   "metadata": {},
   "source": [
    "Parte 6: Construção do Fluxo de Trabalho com LangGraph\n",
    "\n",
    "Vamos agora definir o fluxo de trabalho usando o LangGraph"
   ]
  },
  {
   "cell_type": "code",
   "execution_count": 38,
   "metadata": {},
   "outputs": [],
   "source": [
    "# Inicializar o grafo de estado\n",
    "workflow = StateGraph(State)\n",
    "\n",
    "# Adicionar nós\n",
    "workflow.add_node(\"check_inventory_levels\", check_inventory_levels)\n",
    "workflow.add_node(\"forecast_demand\", forecast_demand)\n",
    "workflow.add_node(\"generate_replenishment_orders\", generate_replenishment_orders)\n",
    "workflow.add_node(\"send_alerts_or_place_orders\", send_alerts_or_place_orders)\n",
    "\n",
    "# Definir as arestas\n",
    "workflow.add_edge(START, \"check_inventory_levels\")\n",
    "workflow.add_edge(\"check_inventory_levels\", \"forecast_demand\")\n",
    "workflow.add_edge(\"forecast_demand\", \"generate_replenishment_orders\")\n",
    "workflow.add_edge(\"generate_replenishment_orders\", \"send_alerts_or_place_orders\")\n",
    "workflow.add_edge(\"send_alerts_or_place_orders\", END)\n",
    "\n",
    "# Definir o ponto de entrada\n",
    "workflow.set_entry_point(\"check_inventory_levels\")\n",
    "\n",
    "# Compilar o grafo\n",
    "app = workflow.compile()\n"
   ]
  },
  {
   "cell_type": "code",
   "execution_count": 39,
   "metadata": {},
   "outputs": [
    {
     "name": "stdout",
     "output_type": "stream",
     "text": [
      "['__annotations__', '__class__', '__delattr__', '__dict__', '__dir__', '__doc__', '__eq__', '__firstlineno__', '__format__', '__ge__', '__getattribute__', '__getstate__', '__gt__', '__hash__', '__init__', '__init_subclass__', '__le__', '__lt__', '__module__', '__ne__', '__new__', '__reduce__', '__reduce_ex__', '__repr__', '__setattr__', '__sizeof__', '__static_attributes__', '__str__', '__subclasshook__', '__weakref__', '_add_schema', '_all_edges', 'add_conditional_edges', 'add_edge', 'add_node', 'branches', 'channels', 'compile', 'compiled', 'config_schema', 'edges', 'input', 'managed', 'nodes', 'output', 'schema', 'schemas', 'set_conditional_entry_point', 'set_entry_point', 'set_finish_point', 'support_multiple_edges', 'validate', 'waiting_edges']\n"
     ]
    }
   ],
   "source": [
    "print(dir(workflow))\n"
   ]
  },
  {
   "cell_type": "markdown",
   "metadata": {},
   "source": [
    "Parte 87 Função Principal para Executar o Fluxo de Trabalho\n",
    "\n",
    "Definimos uma função principal para executar o fluxo de trabalho."
   ]
  },
  {
   "cell_type": "code",
   "execution_count": 40,
   "metadata": {},
   "outputs": [],
   "source": [
    "def manage_inventory():\n",
    "    \"\"\"\n",
    "    Executa o fluxo de gerenciamento de inventário.\n",
    "    \n",
    "    Returns:\n",
    "        State: Estado final após o processamento.\n",
    "    \"\"\"\n",
    "    initial_state = State(\n",
    "        low_stock_products=None,\n",
    "        demand_forecast=None,\n",
    "        replenishment_orders=None,\n",
    "        alerts=[],\n",
    "        errors=[]\n",
    "    )\n",
    "    final_state = app.invoke(initial_state)\n",
    "    return final_state\n"
   ]
  },
  {
   "cell_type": "markdown",
   "metadata": {},
   "source": [
    "Parte 8: Executando o Script e Verificando os Resultados\n"
   ]
  },
  {
   "cell_type": "code",
   "execution_count": 41,
   "metadata": {},
   "outputs": [],
   "source": [
    "# Executar o gerenciamento de inventário\n",
    "final_state = manage_inventory()"
   ]
  },
  {
   "cell_type": "code",
   "execution_count": 42,
   "metadata": {},
   "outputs": [
    {
     "name": "stdout",
     "output_type": "stream",
     "text": [
      "Alertas:\n",
      "- Nenhum produto necessita de reabastecimento imediato.\n"
     ]
    }
   ],
   "source": [
    "# Verificar se houve erros\n",
    "if final_state['errors']:\n",
    "    print(\"Erros encontrados:\")\n",
    "    for error in final_state['errors']:\n",
    "        print(f\"- {error}\")\n",
    "else:\n",
    "    # Exibir alertas\n",
    "    if final_state['alerts']:\n",
    "        print(\"Alertas:\")\n",
    "        for alert in final_state['alerts']:\n",
    "            print(f\"- {alert}\")\n",
    "    else:\n",
    "        print(\"Nenhum alerta a ser exibido.\")\n"
   ]
  },
  {
   "cell_type": "markdown",
   "metadata": {},
   "source": [
    "# Análise do Código de Gerenciamento de Inventário com LangGraph\n",
    "\n",
    "## Conceitos Principais do LangGraph Utilizados\n",
    "\n",
    "* **StateGraph**: \n",
    "  - Classe central do LangGraph que permite criar fluxos de trabalho baseados em estado\n",
    "  - Gerencia a transição entre diferentes nós do grafo\n",
    "  - Mantém o estado consistente durante toda a execução\n",
    "\n",
    "* **State (TypedDict)**:\n",
    "  - Estrutura de dados fortemente tipada que define o estado do workflow\n",
    "  - Permite rastrear múltiplos aspectos do processo (inventário, previsões, alertas, etc.)\n",
    "\n",
    "* **Nós do Grafo**:\n",
    "  - Cada função representa um nó no grafo de workflow\n",
    "  - Os nós processam e modificam o estado de forma sequencial\n",
    "  - Retornam sempre um novo estado atualizado\n",
    "\n",
    "* **START/END**:\n",
    "  - Marcadores especiais do LangGraph que definem início e fim do workflow\n",
    "  - Permitem estruturar o fluxo de execução de forma clara\n",
    "\n",
    "## Análise do Código por Seções\n",
    "\n",
    "### 1. Configuração Inicial\n",
    "```python\n",
    "from langgraph.graph import StateGraph, START, END\n",
    "```\n",
    "- Importa componentes essenciais do LangGraph\n",
    "- Configura ambiente e dependências\n",
    "\n",
    "### 2. Estrutura de Dados\n",
    "```python\n",
    "class State(TypedDict):\n",
    "    low_stock_products: pd.DataFrame\n",
    "    demand_forecast: pd.DataFrame\n",
    "    replenishment_orders: pd.DataFrame\n",
    "    alerts: List[str]\n",
    "    errors: List[str]\n",
    "```\n",
    "- Define estrutura do estado usando TypedDict\n",
    "- Cada campo representa um aspecto específico do processo\n",
    "\n",
    "### 3. Funções de Processamento\n",
    "```python\n",
    "def check_inventory_levels(state: State) -> State:\n",
    "    # ...\n",
    "def forecast_demand(state: State) -> State:\n",
    "    # ...\n",
    "def generate_replenishment_orders(state: State) -> State:\n",
    "    # ...\n",
    "def send_alerts_or_place_orders(state: State) -> State:\n",
    "    # ...\n",
    "```\n",
    "- Cada função é um nó do grafo\n",
    "- Recebem e retornam o estado\n",
    "- Seguem padrão de imutabilidade\n",
    "\n",
    "### 4. Construção do Workflow\n",
    "```python\n",
    "workflow = StateGraph(State)\n",
    "workflow.add_node(\"check_inventory_levels\", check_inventory_levels)\n",
    "# ...\n",
    "workflow.add_edge(START, \"check_inventory_levels\")\n",
    "# ...\n",
    "app = workflow.compile()\n",
    "```\n",
    "- Cria grafo de estado\n",
    "- Define nós e arestas\n",
    "- Compila o workflow para execução\n",
    "\n",
    "## Boas Práticas Observadas\n",
    "\n",
    "* **Tratamento de Erros**:\n",
    "  - Cada função possui try/catch\n",
    "  - Erros são armazenados no estado\n",
    "  - Permite rastreamento de problemas\n",
    "\n",
    "* **Modularidade**:\n",
    "  - Funções bem definidas com responsabilidade única\n",
    "  - Facilita manutenção e testes\n",
    "\n",
    "* **Tipagem**:\n",
    "  - Uso de TypedDict para garantir consistência\n",
    "  - Facilita detecção de erros em tempo de desenvolvimento\n",
    "\n",
    "## Sugestões de Melhorias\n",
    "\n",
    "* **Paralelização**:\n",
    "  - Algumas operações poderiam ser paralelizadas\n",
    "  - LangGraph suporta execução assíncrona\n",
    "\n",
    "* **Validação de Estado**:\n",
    "  - Adicionar validadores entre transições\n",
    "  - Garantir integridade dos dados\n",
    "\n",
    "* **Logging**:\n",
    "  - Implementar sistema de logging mais robusto\n",
    "  - Facilitar debug e monitoramento\n",
    "\n",
    "* **Testes**:\n",
    "  - Adicionar testes unitários para cada nó\n",
    "  - Testar fluxo completo com diferentes cenários\n",
    "\n",
    "Este código demonstra um uso prático e bem estruturado do LangGraph para criar um workflow de gerenciamento de inventário, seguindo boas práticas de programação e aproveitando os recursos da biblioteca.\n",
    "\n",
    "Considerações Finais\n",
    "Personalização:\n",
    "\n",
    "Você pode ajustar os parâmetros de previsão de demanda para utilizar modelos estatísticos mais avançados ou integrar com bibliotecas como statsmodels ou scikit-learn.\n",
    "Integre o sistema com APIs de fornecedores para automatizar os pedidos de reabastecimento.\n",
    "Segurança e Validação:\n",
    "\n",
    "Certifique-se de validar os dados de entrada e tratar exceções adequadamente para evitar falhas no sistema.\n",
    "Escalabilidade:\n",
    "\n",
    "Para sistemas maiores, considere o uso de bancos de dados mais robustos e a implementação de processamento assíncrono."
   ]
  },
  {
   "cell_type": "markdown",
   "metadata": {},
   "source": []
  }
 ],
 "metadata": {
  "kernelspec": {
   "display_name": "nl2sqlduckdb",
   "language": "python",
   "name": "python3"
  },
  "language_info": {
   "codemirror_mode": {
    "name": "ipython",
    "version": 3
   },
   "file_extension": ".py",
   "mimetype": "text/x-python",
   "name": "python",
   "nbconvert_exporter": "python",
   "pygments_lexer": "ipython3",
   "version": "3.13.0"
  }
 },
 "nbformat": 4,
 "nbformat_minor": 2
}
