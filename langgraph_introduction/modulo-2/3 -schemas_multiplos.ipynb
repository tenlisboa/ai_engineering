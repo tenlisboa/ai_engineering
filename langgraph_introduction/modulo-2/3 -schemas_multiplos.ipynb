{
 "cells": [
  {
   "cell_type": "markdown",
   "id": "4a654ec4",
   "metadata": {},
   "source": [
    "# Múltiplos Schemas\n",
    "\n",
    "## Revisão\n",
    "\n",
    "Acabamos de cobrir schema de estado e reducers de estado.\n",
    "\n",
    "Tipicamente, todos os nós do grafo se comunicam com um único schema.\n",
    "\n",
    "Além disso, este schema único contém as chaves/canais de entrada e saída do grafo.\n",
    "\n",
    "## Objetivos\n",
    "\n",
    "Mas existem casos em que podemos querer um pouco mais de controle sobre isso:\n",
    "\n",
    "* Nós internos podem passar informações que *não são necessárias* na entrada/saída do grafo.\n",
    "\n",
    "* Também podemos querer usar diferentes schemas de entrada/saída para o grafo. A saída pode, por exemplo, conter apenas uma única chave relevante.\n",
    "\n",
    "Vamos discutir algumas maneiras de personalizar grafos com múltiplos schemas."
   ]
  },
  {
   "cell_type": "code",
   "execution_count": 44,
   "id": "4d727cc2-5a43-4eb5-9d69-82bbbcc35bd9",
   "metadata": {},
   "outputs": [],
   "source": [
    "%%capture --no-stderr\n",
    "%pip install --quiet -U langgraph"
   ]
  },
  {
   "cell_type": "markdown",
   "id": "d0061bfc",
   "metadata": {},
   "source": [
    "## Estado Privado\n",
    "\n",
    "Primeiro, vamos cobrir o caso de passar [estado privado](https://langchain-ai.github.io/langgraph/how-tos/pass_private_state/) entre nós.\n",
    "\n",
    "Isso é útil para qualquer coisa necessária como parte da lógica intermediária de funcionamento do grafo, mas que não é relevante para a entrada ou saída geral do grafo.\n",
    "\n",
    "Vamos definir um `OverallState` e um `PrivateState`.\n",
    "\n",
    "O `node_2` usa `PrivateState` como entrada, mas escreve para `OverallState`."
   ]
  },
  {
   "cell_type": "code",
   "execution_count": 45,
   "id": "10bab813",
   "metadata": {},
   "outputs": [
    {
     "data": {
      "image/jpeg": "[encoded data removed]",
      "text/plain": [
       "<IPython.core.display.Image object>"
      ]
     },
     "metadata": {},
     "output_type": "display_data"
    }
   ],
   "source": [
    "from typing_extensions import TypedDict\n",
    "from IPython.display import Image, display\n",
    "from langgraph.graph import StateGraph, START, END\n",
    "\n",
    "class EstadoGeral(TypedDict):\n",
    "    foo: int\n",
    "\n",
    "class EstadoPrivado(TypedDict):\n",
    "    baz: int\n",
    "\n",
    "def no_1(estado: EstadoGeral) -> EstadoPrivado:\n",
    "    print(\"---Nó 1---\")\n",
    "    return {\"baz\": estado['foo'] + 1}\n",
    "\n",
    "def no_2(estado: EstadoPrivado) -> EstadoGeral:\n",
    "    print(\"---Nó 2---\")\n",
    "    return {\"foo\": estado['baz'] + 1}\n",
    "\n",
    "# Construir grafo\n",
    "construtor = StateGraph(EstadoGeral)\n",
    "construtor.add_node(\"no_1\", no_1)\n",
    "construtor.add_node(\"no_2\", no_2)\n",
    "\n",
    "# Lógica\n",
    "construtor.add_edge(START, \"no_1\")\n",
    "construtor.add_edge(\"no_1\", \"no_2\")\n",
    "construtor.add_edge(\"no_2\", END)\n",
    "\n",
    "# Adicionar\n",
    "grafo = construtor.compile()\n",
    "\n",
    "# Visualizar\n",
    "display(Image(grafo.get_graph().draw_mermaid_png()))"
   ]
  },
  {
   "cell_type": "code",
   "execution_count": 46,
   "id": "3dc9cd64-4bd3-4c0a-8f8f-d58c551428e3",
   "metadata": {},
   "outputs": [
    {
     "name": "stdout",
     "output_type": "stream",
     "text": [
      "---Nó 1---\n",
      "---Nó 2---\n"
     ]
    },
    {
     "data": {
      "text/plain": [
       "{'foo': 3}"
      ]
     },
     "execution_count": 46,
     "metadata": {},
     "output_type": "execute_result"
    }
   ],
   "source": [
    "grafo.invoke({\"foo\": 1})"
   ]
  },
  {
   "cell_type": "markdown",
   "id": "50a29f37-f653-4a56-ad0a-345d7f632ea0",
   "metadata": {},
   "source": [
    "`baz` está incluído apenas no `EstadoPrivado`.\n",
    "\n",
    "O `no_2` usa `EstadoPrivado` como entrada, mas escreve para `EstadoGeral`.\n",
    "\n",
    "Assim, podemos ver que `baz` é excluído da saída do grafo porque não está no `EstadoGeral`."
   ]
  },
  {
   "cell_type": "markdown",
   "id": "75a8362f-009b-4ec2-abe5-8fb318e39966",
   "metadata": {},
   "source": [
    "## Schema de Entrada / Saída\n",
    "\n",
    "Por padrão, `StateGraph` recebe um único schema e espera-se que todos os nós se comuniquem com esse schema.\n",
    "\n",
    "No entanto, também é possível [definir schemas explícitos de entrada e saída para um grafo](https://langchain-ai.github.io/langgraph/how-tos/input_output_schema/?h=input+outp).\n",
    "\n",
    "Frequentemente, nesses casos, definimos um schema \"interno\" que contém *todas* as chaves relevantes para as operações do grafo.\n",
    "\n",
    "Mas, usamos schemas específicos de `input` e `output` para restringir a entrada e saída.\n",
    "\n",
    "Primeiro, vamos executar o grafo com um único schema."
   ]
  },
  {
   "cell_type": "code",
   "execution_count": 47,
   "id": "5323068a-907a-438c-8db5-46e5d452ad72",
   "metadata": {},
   "outputs": [
    {
     "data": {
      "image/jpeg": "[encoded data removed]",
      "text/plain": [
       "<IPython.core.display.Image object>"
      ]
     },
     "metadata": {},
     "output_type": "display_data"
    }
   ],
   "source": [
    "class EstadoGeral(TypedDict):\n",
    "    pergunta: str\n",
    "    resposta: str\n",
    "    notas: str\n",
    "\n",
    "def no_pensamento(estado: EstadoGeral):\n",
    "    return {\"resposta\": \"tchau\", \"notas\": \"... seu nome é Anderson\"}\n",
    "\n",
    "def no_resposta(estado: EstadoGeral):\n",
    "    return {\"resposta\": \"tchau Anderson\"}\n",
    "\n",
    "grafo = StateGraph(EstadoGeral)\n",
    "grafo.add_node(\"no_resposta\", no_resposta)\n",
    "grafo.add_node(\"no_pensamento\", no_pensamento)\n",
    "grafo.add_edge(START, \"no_pensamento\")\n",
    "grafo.add_edge(\"no_pensamento\", \"no_resposta\")\n",
    "grafo.add_edge(\"no_resposta\", END)\n",
    "\n",
    "grafo = grafo.compile()\n",
    "\n",
    "# Visualizar\n",
    "display(Image(grafo.get_graph().draw_mermaid_png()))"
   ]
  },
  {
   "cell_type": "markdown",
   "id": "853fc90c-bf82-4d51-b3a5-ceb0b0ae5233",
   "metadata": {},
   "source": [
    "Observe que a saída do invoke contém todas as chaves do `EstadoGeral`."
   ]
  },
  {
   "cell_type": "code",
   "execution_count": 48,
   "id": "507d35e6-f65c-4e89-b26e-a0ef7b90be83",
   "metadata": {},
   "outputs": [
    {
     "data": {
      "text/plain": [
       "{'pergunta': 'oi',\n",
       " 'resposta': 'tchau Anderson',\n",
       " 'notas': '... seu nome é Anderson'}"
      ]
     },
     "execution_count": 48,
     "metadata": {},
     "output_type": "execute_result"
    }
   ],
   "source": [
    "grafo.invoke({\"pergunta\": \"oi\"})"
   ]
  },
  {
   "cell_type": "markdown",
   "id": "e5a899c3-e1b0-48eb-9a36-8c787e378ef0",
   "metadata": {},
   "source": [
    "Agora, vamos usar um schema específico de `input` e `output`."
   ]
  },
  {
   "cell_type": "code",
   "execution_count": 49,
   "id": "682b3d10-c78a-41c2-a5ff-842e1688c95f",
   "metadata": {},
   "outputs": [
    {
     "data": {
      "image/jpeg": "[encoded data removed]",
      "text/plain": [
       "<IPython.core.display.Image object>"
      ]
     },
     "metadata": {},
     "output_type": "display_data"
    },
    {
     "name": "stdout",
     "output_type": "stream",
     "text": [
      "{'resposta': 'Aqui está sua resposta processada'}\n"
     ]
    }
   ],
   "source": [
    "from typing_extensions import TypedDict\n",
    "from IPython.display import Image, display\n",
    "from langgraph.graph import StateGraph, START, END\n",
    "\n",
    "# Definição dos schemas\n",
    "class EstadoEntrada(TypedDict):\n",
    "    pergunta: str\n",
    "\n",
    "class EstadoSaida(TypedDict):\n",
    "    resposta: str\n",
    "\n",
    "class EstadoGeral(TypedDict):\n",
    "    pergunta: str\n",
    "    resposta: str\n",
    "    notas: str\n",
    "\n",
    "# Definição dos nós do grafo\n",
    "def no_pensamento(estado: EstadoGeral):\n",
    "    return {\n",
    "        \"resposta\": \"Você fez uma pergunta\", \n",
    "        \"notas\": \"... processando informações do usuário\"\n",
    "    }\n",
    "\n",
    "def no_resposta(estado: EstadoSaida):\n",
    "    return {\n",
    "        \"resposta\": \"Aqui está sua resposta processada\"\n",
    "    }\n",
    "\n",
    "# Construção do grafo com schemas explícitos\n",
    "grafo = StateGraph(\n",
    "    EstadoGeral,    # Schema interno para processamento\n",
    "    input=EstadoEntrada,  # Schema de entrada\n",
    "    output=EstadoSaida    # Schema de saída\n",
    ")\n",
    "\n",
    "# Adicionando nós ao grafo\n",
    "grafo.add_node(\"no_resposta\", no_resposta)\n",
    "grafo.add_node(\"no_pensamento\", no_pensamento)\n",
    "\n",
    "# Definindo as conexões do grafo\n",
    "grafo.add_edge(START, \"no_pensamento\")\n",
    "grafo.add_edge(\"no_pensamento\", \"no_resposta\")\n",
    "grafo.add_edge(\"no_resposta\", END)\n",
    "\n",
    "# Compilando o grafo\n",
    "grafo = grafo.compile()\n",
    "\n",
    "# Visualizando o grafo\n",
    "display(Image(grafo.get_graph().draw_mermaid_png()))\n",
    "\n",
    "# Testando o grafo\n",
    "resultado = grafo.invoke({\"pergunta\": \"Qual é a sua pergunta?\"})\n",
    "print(resultado)  # Vai mostrar apenas a resposta, conforme definido no EstadoSaida"
   ]
  },
  {
   "cell_type": "markdown",
   "id": "f1e5ff21",
   "metadata": {},
   "source": [
    "Podemos ver que o schema de `output` restringe a saída apenas para a chave `resposta`."
   ]
  },
  {
   "cell_type": "markdown",
   "id": "923299b0",
   "metadata": {},
   "source": [
    "## Mais um exemplo: "
   ]
  },
  {
   "cell_type": "code",
   "execution_count": 50,
   "id": "47ad5262",
   "metadata": {},
   "outputs": [
    {
     "data": {
      "image/jpeg": "[encoded data removed]",
      "text/plain": [
       "<IPython.core.display.Image object>"
      ]
     },
     "metadata": {},
     "output_type": "display_data"
    },
    {
     "name": "stdout",
     "output_type": "stream",
     "text": [
      "{'resposta': 'Anderson estudou na USP - Universidade de São Paulo'}\n"
     ]
    }
   ],
   "source": [
    "class EstadoEntrada(TypedDict):\n",
    "    pergunta: str\n",
    "\n",
    "class EstadoSaida(TypedDict):\n",
    "    resposta: str\n",
    "\n",
    "class EstadoGeral(TypedDict):\n",
    "    pergunta: str\n",
    "    resposta: str\n",
    "    notas: str\n",
    "\n",
    "def no_pensamento(estado: EstadoGeral):\n",
    "    return {\n",
    "        \"resposta\": \"Você estudou na USP\", \n",
    "        \"notas\": \"... Anderson estudou na Universidade de São Paulo\"\n",
    "    }\n",
    "\n",
    "def no_resposta(estado: EstadoSaida):\n",
    "    return {\"resposta\": \"Anderson estudou na USP - Universidade de São Paulo\"}\n",
    "\n",
    "# Construção do grafo com schemas explícitos\n",
    "grafo = StateGraph(\n",
    "    EstadoGeral,    # Schema interno para processamento\n",
    "    input=EstadoEntrada,  # Schema de entrada\n",
    "    output=EstadoSaida    # Schema de saída\n",
    ")\n",
    "\n",
    "grafo.add_node(\"no_resposta\", no_resposta)\n",
    "grafo.add_node(\"no_pensamento\", no_pensamento)\n",
    "grafo.add_edge(START, \"no_pensamento\")\n",
    "grafo.add_edge(\"no_pensamento\", \"no_resposta\")\n",
    "grafo.add_edge(\"no_resposta\", END)\n",
    "\n",
    "grafo = grafo.compile()\n",
    "\n",
    "# Visualizar\n",
    "display(Image(grafo.get_graph().draw_mermaid_png()))\n",
    "\n",
    "# Testar o grafo\n",
    "resultado = grafo.invoke({\"pergunta\": \"Onde você estudou?\"})\n",
    "print(resultado)  # Vai mostrar: {'resposta': 'Anderson estudou na USP - Universidade de São Paulo'}"
   ]
  },
  {
   "cell_type": "markdown",
   "id": "ce2864aa",
   "metadata": {},
   "source": [
    "Outro exemplo: "
   ]
  },
  {
   "cell_type": "code",
   "execution_count": 51,
   "id": "afb71361",
   "metadata": {},
   "outputs": [
    {
     "data": {
      "image/jpeg": "[encoded data removed]",
      "text/plain": [
       "<IPython.core.display.Image object>"
      ]
     },
     "metadata": {},
     "output_type": "display_data"
    },
    {
     "name": "stdout",
     "output_type": "stream",
     "text": [
      "{'resposta': 'A Scoras Academy é a primeira plataforma de cursos dedicada a Agentes de IA  e Small Language Models no Brasil'}\n"
     ]
    }
   ],
   "source": [
    "class EstadoEntrada(TypedDict):\n",
    "    pergunta: str\n",
    "\n",
    "class EstadoSaida(TypedDict):\n",
    "    resposta: str\n",
    "\n",
    "class EstadoGeral(TypedDict):\n",
    "    pergunta: str\n",
    "    resposta: str\n",
    "    notas: str\n",
    "\n",
    "def no_pensamento(estado: EstadoGeral):\n",
    "    return {\n",
    "        \"resposta\": \"A Scoras Academy é pioneira\", \n",
    "        \"notas\": \"... primeira plataforma especializada em Agentes de IA e Small Language Models no Brasil\"\n",
    "    }\n",
    "\n",
    "def no_resposta(estado: EstadoSaida):\n",
    "    return {\"resposta\": \"A Scoras Academy é a primeira plataforma de cursos dedicada a Agentes de IA  e Small Language Models no Brasil\"}\n",
    "\n",
    "# Construção do grafo com schemas explícitos\n",
    "grafo = StateGraph(\n",
    "    EstadoGeral,    # Schema interno para processamento\n",
    "    input=EstadoEntrada,  # Schema de entrada\n",
    "    output=EstadoSaida    # Schema de saída\n",
    ")\n",
    "\n",
    "grafo.add_node(\"no_resposta\", no_resposta)\n",
    "grafo.add_node(\"no_pensamento\", no_pensamento)\n",
    "grafo.add_edge(START, \"no_pensamento\")\n",
    "grafo.add_edge(\"no_pensamento\", \"no_resposta\")\n",
    "grafo.add_edge(\"no_resposta\", END)\n",
    "\n",
    "grafo = grafo.compile()\n",
    "\n",
    "# Visualizar\n",
    "display(Image(grafo.get_graph().draw_mermaid_png()))\n",
    "\n",
    "# Testar o grafo\n",
    "resultado = grafo.invoke({\"pergunta\": \"Qual a Primeira Plataforma de Cursos sobre Agentes de IA no Brasil?\"})\n",
    "print(resultado)  # Vai mostrar: {'resposta': 'A Scoras Academy é a primeira plataforma de cursos dedicada a Agentes de IA no Brasil'}"
   ]
  },
  {
   "cell_type": "markdown",
   "id": "b1a41eba",
   "metadata": {},
   "source": [
    "\n",
    "\n",
    "# Conceitos Fundamentais de LangGraph: Múltiplos Schemas e Estados\n",
    "\n",
    "## 1. Schemas de Estado\n",
    "### Conceito Básico\n",
    "- Um schema define a estrutura dos dados que fluem através do grafo\n",
    "- Define as chaves e tipos de dados que podem ser usados na comunicação entre nós\n",
    "\n",
    "### Importância\n",
    "- Garante consistência nos dados\n",
    "- Facilita a detecção de erros em tempo de desenvolvimento\n",
    "- Permite validação de tipos\n",
    "- Melhora a manutenibilidade do código\n",
    "\n",
    "## 2. Estados Privados\n",
    "### O que são\n",
    "- Estados que existem apenas entre nós específicos\n",
    "- Não fazem parte da entrada/saída geral do grafo\n",
    "- Implementados através de schemas separados\n",
    "\n",
    "### Por que são úteis\n",
    "- Permitem processamento intermediário sem \"poluir\" a saída final\n",
    "- Melhoram a organização do código\n",
    "- Reduzem a complexidade da interface externa do grafo\n",
    "- Facilitam a manutenção de informações temporárias\n",
    "\n",
    "## 3. Schemas de Entrada/Saída Específicos\n",
    "### Funcionamento\n",
    "- Permite definir schemas diferentes para:\n",
    "  - Entrada do grafo\n",
    "  - Processamento interno\n",
    "  - Saída do grafo\n",
    "\n",
    "### Benefícios\n",
    "- Maior controle sobre a interface do grafo\n",
    "- Melhor encapsulamento\n",
    "- Redução de dados desnecessários na saída\n",
    "- Interface mais limpa e focada\n",
    "\n",
    "## 4. Estrutura do Grafo\n",
    "### Componentes Principais\n",
    "- Nós (nodes): Funções que processam dados\n",
    "- Arestas (edges): Conexões entre nós\n",
    "- Estados: Dados que fluem entre nós\n",
    "- START/END: Pontos de entrada e saída do grafo\n",
    "\n",
    "### Características\n",
    "- Fluxo unidirecional\n",
    "- Processamento em etapas\n",
    "- Transformação gradual dos dados\n",
    "\n",
    "## 5. Exemplo Prático\n",
    "### Caso de Uso\n",
    "```python\n",
    "class EstadoEntrada(TypedDict):\n",
    "    pergunta: str\n",
    "\n",
    "class EstadoSaida(TypedDict):\n",
    "    resposta: str\n",
    "\n",
    "class EstadoGeral(TypedDict):\n",
    "    pergunta: str\n",
    "    resposta: str\n",
    "    notas: str\n",
    "```\n",
    "- EstadoEntrada: Recebe apenas a pergunta\n",
    "- EstadoGeral: Mantém todas as informações durante o processamento\n",
    "- EstadoSaida: Retorna apenas a resposta relevante\n",
    "\n",
    "## 6. Importância para Aplicações Práticas\n",
    "### Desenvolvimento de Agentes de IA\n",
    "- Permite criar fluxos complexos de processamento\n",
    "- Facilita a modularização do código\n",
    "- Melhora a manutenibilidade\n",
    "- Permite evolução gradual do sistema\n",
    "\n",
    "### Gestão de Dados\n",
    "- Controle preciso sobre o fluxo de informações\n",
    "- Separação clara entre dados internos e externos\n",
    "- Redução de complexidade em interfaces públicas\n",
    "- Melhor organização do processamento de dados\n",
    "\n",
    "## 7. Boas Práticas\n",
    "### Recomendações\n",
    "- Usar estados privados para lógica intermediária\n",
    "- Manter schemas de entrada/saída minimalistas\n",
    "- Documentar claramente o propósito de cada schema\n",
    "- Separar claramente dados internos e externos\n",
    "\n",
    "### Benefícios a Longo Prazo\n",
    "- Código mais manutenível\n",
    "- Menor acoplamento entre componentes\n",
    "- Maior facilidade de testes\n",
    "- Melhor escalabilidade\n",
    "\n",
    "## Conclusão\n",
    "O uso adequado de múltiplos schemas e estados no LangGraph permite criar aplicações mais robustas, organizadas e escaláveis. A combinação de estados privados com schemas específicos de entrada/saída oferece um poderoso conjunto de ferramentas para desenvolvimento de aplicações complexas, especialmente no contexto de Agentes de IA e processamento de linguagem natural."
   ]
  },
  {
   "cell_type": "markdown",
   "id": "792d7d5b",
   "metadata": {},
   "source": []
  }
 ],
 "metadata": {
  "kernelspec": {
   "display_name": "Python 3 (ipykernel)",
   "language": "python",
   "name": "python3"
  },
  "language_info": {
   "codemirror_mode": {
    "name": "ipython",
    "version": 3
   },
   "file_extension": ".py",
   "mimetype": "text/x-python",
   "name": "python",
   "nbconvert_exporter": "python",
   "pygments_lexer": "ipython3",
   "version": "3.12.5"
  }
 },
 "nbformat": 4,
 "nbformat_minor": 5
}
