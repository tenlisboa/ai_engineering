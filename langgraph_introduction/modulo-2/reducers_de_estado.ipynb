{
 "cells": [
  {
   "cell_type": "markdown",
   "id": "b7020951",
   "metadata": {},
   "source": [
    "# Reducers de Estado\n",
    "\n",
    "\n",
    "Relembrando a Importância dos \"Reducers\" de Estado em LangGraph\n",
    "\n",
    "Os reducers de estado são fundamentais no LangGraph para controlar como o estado é atualizado ao longo do fluxo de execução dos nós. Em grafos onde os nós podem ser executados em paralelo ou onde há ramificações, é comum que múltiplos nós tentem atualizar a mesma chave do estado simultaneamente. Sem um mecanismo adequado para combinar essas atualizações, poderíamos enfrentar conflitos ou perda de dados.\n",
    "\n",
    "Os reducers especificam uma função de redução que define como combinar múltiplas atualizações em uma única chave de estado. Isso é especialmente importante em workflows agentivos (agentic-workflows), onde agentes autônomos podem operar simultaneamente, e suas interações e comunicações precisam ser gerenciadas de forma coerente.\n",
    "\n",
    "Como os Reducers Ajudam na Construção de Agentic-Workflows\n",
    "\n",
    "Resolução de Conflitos: Em ambientes onde múltiplos agentes estão atualizando o estado simultaneamente, os reducers garantem que essas atualizações sejam combinadas de maneira consistente, evitando conflitos.\n",
    "\n",
    "Paralelismo Seguro: Permitem que nós sejam executados em paralelo sem se preocupar com a ordem de atualização do estado, pois os reducers cuidarão de combinar os resultados apropriadamente.\n",
    "\n",
    "Flexibilidade na Manipulação de Estado: Ao permitir definir reducers personalizados, os desenvolvedores podem adaptar a lógica de combinação de estado às necessidades específicas do workflow.\n",
    "\n",
    "Gestão de Mensagens: Em workflows onde agentes trocam mensagens, reducers como add_messages facilitam a acumulação e gerenciamento dessas mensagens no estado global.\n",
    "\n",
    "\n",
    "\n",
    "## Visão Geral\n",
    "\n",
    "Abordamos algumas maneiras diferentes de definir o esquema de estado do LangGraph, incluindo `TypedDict`, `Pydantic` ou `Dataclasses`.\n",
    "\n",
    "## Objetivos\n",
    "\n",
    "Agora, vamos nos aprofundar nos reducers, que especificam como as atualizações de estado são realizadas em chaves/canais específicos no esquema de estado."
   ]
  },
  {
   "cell_type": "code",
   "execution_count": 33,
   "id": "398c5e8e-641f-4be6-b1e8-7531f86bd2e9",
   "metadata": {},
   "outputs": [],
   "source": [
    "%%capture --no-stderr\n",
    "%pip install --quiet -U langchain_core langgraph"
   ]
  },
  {
   "cell_type": "markdown",
   "id": "4d5bd534-c5be-48fe-91bc-af39ebee76b7",
   "metadata": {},
   "source": [
    "## Estado de sobrescrita padrão\n",
    "\n",
    "Vamos usar um `TypedDict` como nosso \"schema\" de estado."
   ]
  },
  {
   "cell_type": "code",
   "execution_count": 34,
   "id": "64e2438c-9353-4256-bc3c-1bb830374c0b",
   "metadata": {},
   "outputs": [
    {
     "data": {
      "image/jpeg": "[encoded data removed]",
      "text/plain": [
       "<IPython.core.display.Image object>"
      ]
     },
     "metadata": {},
     "output_type": "display_data"
    }
   ],
   "source": [
    "from typing_extensions import TypedDict\n",
    "from IPython.display import Image, display\n",
    "from langgraph.graph import StateGraph, START, END\n",
    "\n",
    "class State(TypedDict):\n",
    "    foo: int\n",
    "\n",
    "def node_1(state):\n",
    "    print(\"---Nó 1---\")\n",
    "    return {\"foo\": state['foo'] + 1}\n",
    "\n",
    "# Construindo grafo\n",
    "builder = StateGraph(State)\n",
    "builder.add_node(\"node_1\", node_1)\n",
    "\n",
    "# Lógica\n",
    "builder.add_edge(START, \"node_1\")\n",
    "builder.add_edge(\"node_1\", END)\n",
    "\n",
    "# Adicionando\n",
    "graph = builder.compile()\n",
    "\n",
    "# Visualizando\n",
    "display(Image(graph.get_graph().draw_mermaid_png()))"
   ]
  },
  {
   "cell_type": "code",
   "execution_count": 35,
   "id": "69634df1-4f02-446f-b5cf-6a83d1e15e37",
   "metadata": {},
   "outputs": [
    {
     "name": "stdout",
     "output_type": "stream",
     "text": [
      "---Nó 1---\n"
     ]
    },
    {
     "data": {
      "text/plain": [
       "{'foo': 2}"
      ]
     },
     "execution_count": 35,
     "metadata": {},
     "output_type": "execute_result"
    }
   ],
   "source": [
    "graph.invoke({\"foo\" : 1})"
   ]
  },
  {
   "cell_type": "markdown",
   "id": "775a099c-c41c-412f-8f05-e7436388ae79",
   "metadata": {},
   "source": [
    "Vamos analisar a atualização de estado, `return {\"foo\": state['foo'] + 1}`.\n",
    "\n",
    "Como discutido anteriormente, por padrão, o LangGraph não conhece a maneira \"preferencial\" de atualizar o estado.\n",
    "\n",
    "Então, ele simplesmente sobrescreverá o valor de `foo` em `node_1`:\n",
    "\n",
    "```\n",
    "return {\"foo\": state['foo'] + 1}\n",
    "```\n",
    " \n",
    "Se passarmos `{'foo': 1}` como entrada, o estado retornado pelo gráfico é `{'foo': 2}`.\n",
    "\n",
    "## Ramificação\n",
    "\n",
    "Vamos olhar para um caso onde nossos nós se ramificam."
   ]
  },
  {
   "cell_type": "code",
   "execution_count": 36,
   "id": "2b8d6ad4-2991-4325-933d-67057bc150f4",
   "metadata": {},
   "outputs": [
    {
     "data": {
      "image/jpeg": "[encoded data removed]",
      "text/plain": [
       "<IPython.core.display.Image object>"
      ]
     },
     "metadata": {},
     "output_type": "display_data"
    }
   ],
   "source": [
    "class State(TypedDict):\n",
    "    foo: int\n",
    "\n",
    "def node_1(state):\n",
    "    print(\"---Node 1---\")\n",
    "    return {\"foo\": state['foo'] + 1}\n",
    "\n",
    "def node_2(state):\n",
    "    print(\"---Node 2---\")\n",
    "    return {\"foo\": state['foo'] + 1}\n",
    "\n",
    "def node_3(state):\n",
    "    print(\"---Node 3---\")\n",
    "    return {\"foo\": state['foo'] + 1}\n",
    "\n",
    "# Construir grafo\n",
    "builder = StateGraph(State)\n",
    "builder.add_node(\"node_1\", node_1)\n",
    "builder.add_node(\"node_2\", node_2)\n",
    "builder.add_node(\"node_3\", node_3)\n",
    "\n",
    "# Logica\n",
    "builder.add_edge(START, \"node_1\")\n",
    "builder.add_edge(\"node_1\", \"node_2\")\n",
    "builder.add_edge(\"node_1\", \"node_3\")\n",
    "builder.add_edge(\"node_2\", END)\n",
    "builder.add_edge(\"node_3\", END)\n",
    "\n",
    "# Adicionar\n",
    "graph = builder.compile()\n",
    "\n",
    "# Visualizar\n",
    "display(Image(graph.get_graph().draw_mermaid_png()))"
   ]
  },
  {
   "cell_type": "code",
   "execution_count": 37,
   "id": "106729b3",
   "metadata": {},
   "outputs": [
    {
     "name": "stdout",
     "output_type": "stream",
     "text": [
      "---Node 1---\n",
      "---Node 2---\n",
      "---Node 3---\n",
      "InvalidUpdateError occurred: At key 'foo': Can receive only one value per step. Use an Annotated key to handle multiple values.\n"
     ]
    }
   ],
   "source": [
    "from langgraph.errors import InvalidUpdateError\n",
    "try:\n",
    "    graph.invoke({\"foo\" : 1})\n",
    "except InvalidUpdateError as e:\n",
    "    print(f\"InvalidUpdateError occurred: {e}\")\n"
   ]
  },
  {
   "cell_type": "markdown",
   "id": "b9717ccd-3d34-476a-8952-e6a7629ebefe",
   "metadata": {},
   "source": [
    "Vemos um problema!\n",
    "\n",
    "O Nó 1 se ramifica para os nós 2 e 3.\n",
    "\n",
    "Os Nós 2 e 3 são executados em paralelo, o que significa que eles são executados na mesma etapa do grafo.\n",
    "\n",
    "Ambos tentam sobrescrever o estado *dentro da mesma etapa*.\n",
    "\n",
    "Isso é ambíguo para o grafo! Qual estado ele deve manter?"
   ]
  },
  {
   "cell_type": "markdown",
   "id": "f1609cf7-dc47-4926-a154-77904b6cc550",
   "metadata": {},
   "source": [
    "[Reducers](https://langchain-ai.github.io/langgraph/concepts/low_level/#reducers) nos fornecem uma maneira geral de abordar esse problema.\n",
    "\n",
    "Eles especificam como realizar atualizações.\n",
    "\n",
    "Podemos usar o tipo `Annotated` para especificar uma função reducer.\n",
    "\n",
    "Por exemplo, neste caso, vamos anexar o valor retornado de cada nó em vez de sobrescrevê-los.\n",
    "\n",
    "Precisamos apenas de um reducer que possa realizar isso: `operator.add` é uma função do módulo operator embutido do Python.\n",
    "\n",
    "Quando `operator.add` é aplicado a listas, ele realiza a concatenação de listas."
   ]
  },
  {
   "cell_type": "code",
   "execution_count": 38,
   "id": "103d808c-55ec-44f2-a688-7b5e1572875a",
   "metadata": {},
   "outputs": [
    {
     "data": {
      "image/jpeg": "[encoded data removed]",
      "text/plain": [
       "<IPython.core.display.Image object>"
      ]
     },
     "metadata": {},
     "output_type": "display_data"
    }
   ],
   "source": [
    "from operator import add\n",
    "from typing import Annotated\n",
    "\n",
    "class State(TypedDict):\n",
    "    foo: Annotated[list[int], add]\n",
    "\n",
    "def node_1(state):\n",
    "    print(\"---Node 1---\")\n",
    "    return {\"foo\": [state['foo'][0] + 1]}\n",
    "\n",
    "# Construir grafo\n",
    "builder = StateGraph(State)\n",
    "builder.add_node(\"node_1\", node_1)\n",
    "\n",
    "# Logica #\n",
    "builder.add_edge(START, \"node_1\")\n",
    "builder.add_edge(\"node_1\", END)\n",
    "\n",
    "# Adicionand\n",
    "graph = builder.compile()\n",
    "\n",
    "# Visualizando\n",
    "display(Image(graph.get_graph().draw_mermaid_png()))"
   ]
  },
  {
   "cell_type": "code",
   "execution_count": 39,
   "id": "9e68cdff-f6e1-4de5-a7bf-6ca0cfee19bf",
   "metadata": {},
   "outputs": [
    {
     "name": "stdout",
     "output_type": "stream",
     "text": [
      "---Node 1---\n"
     ]
    },
    {
     "data": {
      "text/plain": [
       "{'foo': [1, 2]}"
      ]
     },
     "execution_count": 39,
     "metadata": {},
     "output_type": "execute_result"
    }
   ],
   "source": [
    "graph.invoke({\"foo\" : [1]})"
   ]
  },
  {
   "cell_type": "markdown",
   "id": "63fbd6e0-0207-4049-b86d-c006cbba630b",
   "metadata": {},
   "source": [
    "Agora, nossa chave de estado `foo` é uma lista.\n",
    "\n",
    "Esta função \"reducer `operator.add` irá anexar atualizações de cada nó a esta lista."
   ]
  },
  {
   "cell_type": "code",
   "execution_count": 40,
   "id": "768fd0ed-5e24-44a4-b14d-0e299310e105",
   "metadata": {},
   "outputs": [
    {
     "data": {
      "image/jpeg": "[encoded data removed]",
      "text/plain": [
       "<IPython.core.display.Image object>"
      ]
     },
     "metadata": {},
     "output_type": "display_data"
    }
   ],
   "source": [
    "def node_1(state):\n",
    "    print(\"---Node 1---\")\n",
    "    return {\"foo\": [state['foo'][-1] + 1]}\n",
    "\n",
    "def node_2(state):\n",
    "    print(\"---Node 2---\")\n",
    "    return {\"foo\": [state['foo'][-1] + 1]}\n",
    "\n",
    "def node_3(state):\n",
    "    print(\"---Node 3---\")\n",
    "    return {\"foo\": [state['foo'][-1] + 1]}\n",
    "\n",
    "# Construir grafo\n",
    "builder = StateGraph(State)\n",
    "builder.add_node(\"node_1\", node_1)\n",
    "builder.add_node(\"node_2\", node_2)\n",
    "builder.add_node(\"node_3\", node_3)\n",
    "\n",
    "# Logica\n",
    "builder.add_edge(START, \"node_1\")\n",
    "builder.add_edge(\"node_1\", \"node_2\")\n",
    "builder.add_edge(\"node_1\", \"node_3\")\n",
    "builder.add_edge(\"node_2\", END)\n",
    "builder.add_edge(\"node_3\", END)\n",
    "\n",
    "# Adicionar\n",
    "graph = builder.compile()\n",
    "\n",
    "# Visualizar\n",
    "display(Image(graph.get_graph().draw_mermaid_png()))"
   ]
  },
  {
   "cell_type": "markdown",
   "id": "5439baad-5a75-4188-b936-dbe74cdd9078",
   "metadata": {},
   "source": [
    "Podemos ver que as atualizações nos nós 2 e 3 são realizadas simultaneamente porque estão na mesma etapa.\n"
   ]
  },
  {
   "cell_type": "code",
   "execution_count": 41,
   "id": "44598f97-0a59-4ed4-9d9a-e15a98b3d8fb",
   "metadata": {},
   "outputs": [
    {
     "name": "stdout",
     "output_type": "stream",
     "text": [
      "---Node 1---\n",
      "---Node 2---\n",
      "---Node 3---\n"
     ]
    },
    {
     "data": {
      "text/plain": [
       "{'foo': [1, 2, 3, 3]}"
      ]
     },
     "execution_count": 41,
     "metadata": {},
     "output_type": "execute_result"
    }
   ],
   "source": [
    "graph.invoke({\"foo\" : [1]})"
   ]
  },
  {
   "cell_type": "markdown",
   "id": "87faaa07-2955-4466-9bca-4b536e05f260",
   "metadata": {},
   "source": [
    "Agora, vamos ver o que acontece se passarmos `None` para `foo`.\n",
    "\n",
    "Vemos um erro porque nosso reducer, `operator.add`, tenta concatenar `NoneType` passado como entrada para a lista em `node_1`. \n"
   ]
  },
  {
   "cell_type": "code",
   "execution_count": 42,
   "id": "7f05984b-2bc7-48d1-b070-c8a001a6b59a",
   "metadata": {},
   "outputs": [
    {
     "name": "stdout",
     "output_type": "stream",
     "text": [
      "TypeError occurred: can only concatenate list (not \"NoneType\") to list\n"
     ]
    }
   ],
   "source": [
    "try:\n",
    "    graph.invoke({\"foo\" : None})\n",
    "except TypeError as e:\n",
    "    print(f\"TypeError occurred: {e}\")"
   ]
  },
  {
   "cell_type": "markdown",
   "id": "4f9d4930-ee8f-4ffc-b9e1-3c910b2e15f6",
   "metadata": {},
   "source": [
    "## \"Reducers\" Customizados\n",
    "\n",
    "Para abordar casos como este, [podemos também definir reducers personalizados](https://langchain-ai.github.io/langgraph/how-tos/subgraph/#custom-reducer-functions-to-manage-state). \n",
    "\n",
    "Por exemplo, vamos definir a lógica de redução personalizada para combinar listas e lidar com casos onde qualquer um ou ambos dos inputs podem ser `None`."
   ]
  },
  {
   "cell_type": "code",
   "execution_count": 43,
   "id": "26f2c790",
   "metadata": {},
   "outputs": [],
   "source": [
    "def reduce_list(esquerda: list | None, direita: list | None) -> list:\n",
    "    \"\"\"Combina duas listas de forma segura, lidando com casos onde uma ou ambas as entradas podem ser None.\n",
    "\n",
    "    Args:\n",
    "        esquerda (list | None): A primeira lista a ser combinada, ou None.\n",
    "        direita (list | None): A segunda lista a ser combinada, ou None.\n",
    "\n",
    "    Returns:\n",
    "        list: Uma nova lista contendo todos os elementos de ambas as listas de entrada.\n",
    "              Se uma entrada for None, ela é tratada como uma lista vazia.\n",
    "    \"\"\"\n",
    "    if not esquerda:\n",
    "        esquerda = []\n",
    "    if not direita:\n",
    "        direita = []\n",
    "    return esquerda + direita\n",
    "\n",
    "class EstadoPadrao(TypedDict):\n",
    "    foo: Annotated[list[int], add]\n",
    "\n",
    "class EstadoRedutorPersonalizado(TypedDict):\n",
    "    foo: Annotated[list[int], reduce_list]"
   ]
  },
  {
   "cell_type": "markdown",
   "id": "dcdea26a-38d0-4faf-9bf6-cd52eb902635",
   "metadata": {},
   "source": [
    "No `node_1`, anexamos o valor 2."
   ]
  },
  {
   "cell_type": "code",
   "execution_count": 44,
   "id": "f5f270db-6eff-47c9-853b-dfb8108ff28c",
   "metadata": {},
   "outputs": [
    {
     "data": {
      "image/jpeg": "[encoded data removed]",
      "text/plain": [
       "<IPython.core.display.Image object>"
      ]
     },
     "metadata": {},
     "output_type": "display_data"
    },
    {
     "name": "stdout",
     "output_type": "stream",
     "text": [
      "TypeError occurred: can only concatenate list (not \"NoneType\") to list\n"
     ]
    }
   ],
   "source": [
    "def node_1(state):\n",
    "    print(\"---Node 1---\")\n",
    "    return {\"foo\": [2]}\n",
    "\n",
    "# Construindo  grafo\n",
    "builder = StateGraph(EstadoPadrao)\n",
    "builder.add_node(\"node_1\", node_1)\n",
    "\n",
    "# Logica\n",
    "builder.add_edge(START, \"node_1\")\n",
    "builder.add_edge(\"node_1\", END)\n",
    "\n",
    "# Adicionando\n",
    "graph = builder.compile()\n",
    "\n",
    "# Visualizando\n",
    "display(Image(graph.get_graph().draw_mermaid_png()))\n",
    "\n",
    "try:\n",
    "    print(graph.invoke({\"foo\" : None}))\n",
    "except TypeError as e:\n",
    "    print(f\"TypeError occurred: {e}\")"
   ]
  },
  {
   "cell_type": "markdown",
   "id": "fd21936b-62f1-4311-9ce5-2c7d08aa35bf",
   "metadata": {},
   "source": [
    "Agora, vamos tentar com nosso reducer personalizado. Podemos ver que nenhum erro é lançado."
   ]
  },
  {
   "cell_type": "code",
   "execution_count": 45,
   "id": "867784bc-796c-4b1e-a4d3-2810395cf5e2",
   "metadata": {},
   "outputs": [
    {
     "data": {
      "image/jpeg": "[encoded data removed]",
      "text/plain": [
       "<IPython.core.display.Image object>"
      ]
     },
     "metadata": {},
     "output_type": "display_data"
    },
    {
     "name": "stdout",
     "output_type": "stream",
     "text": [
      "---Node 1---\n",
      "{'foo': [2]}\n"
     ]
    }
   ],
   "source": [
    "# Construindo grafo\n",
    "builder = StateGraph(EstadoRedutorPersonalizado)\n",
    "builder.add_node(\"node_1\", node_1)\n",
    "\n",
    "# logica\n",
    "builder.add_edge(START, \"node_1\")\n",
    "builder.add_edge(\"node_1\", END)\n",
    "\n",
    "# AdicionaNDO\n",
    "graph = builder.compile()\n",
    "\n",
    "# Visualizando\n",
    "display(Image(graph.get_graph().draw_mermaid_png()))\n",
    "\n",
    "try:\n",
    "    print(graph.invoke({\"foo\" : None}))\n",
    "except TypeError as e:\n",
    "    print(f\"TypeError occurred: {e}\")"
   ]
  },
  {
   "cell_type": "markdown",
   "id": "b7ebc65e-c185-4981-a6e7-20fe37d2f8fe",
   "metadata": {},
   "source": [
    "## Messages\n",
    "\n",
    "No modulo 1, mostramos como usar um reducer interno, `add_messages`, para lidar com mensagens no estado.\n",
    " \n",
    "\n",
    "Nos também mostramos que [`MessagesState` é um atalho útil se você quiser trabalhar com mensagens](https://langchain-ai.github.io/langgraph/concepts/low_level/#messagesstate). \n",
    "\n",
    "* `MessagesState` tem uma chave `messages` \n",
    "* `MessagesState` tem um reducer interno `add_messages` para esta chave\n",
    "* E também tem um reducer interno `add_messages` para esta chave\n",
    "\n",
    "Esses dois são equivalentes.\n",
    "\n",
    "Vamos usar a classe `MessagesState` via `from langgraph.graph import MessagesState` para brevidade.\n"
   ]
  },
  {
   "cell_type": "code",
   "execution_count": 46,
   "id": "901e69e5-c4cb-4d58-82fb-3b7d968758e3",
   "metadata": {},
   "outputs": [],
   "source": [
    "from typing import Annotated\n",
    "from langgraph.graph import MessagesState\n",
    "from langchain_core.messages import AnyMessage\n",
    "from langgraph.graph.message import add_messages\n",
    "\n",
    "# Definindo um TypedDict customizado que inclui uma lista de mensagens com o reducer add_messages\n",
    "class CustomMessagesState(TypedDict):\n",
    "    messages: Annotated[list[AnyMessage], add_messages]\n",
    "    added_key_1: str\n",
    "    added_key_2: str\n",
    "    # etc\n",
    "\n",
    "# Usando MessagesState, que inclui a chave messages com o reducer add_messages\n",
    "class ExtendedMessagesState(MessagesState):\n",
    "    # Adicione qualquer chave necessária além de messages, que é pré-construído\n",
    "    added_key_1: str\n",
    "    added_key_2: str\n",
    "    # etc"
   ]
  },
  {
   "cell_type": "markdown",
   "id": "287805e4-722a-4428-b040-2892b29de870",
   "metadata": {},
   "source": [
    "Vamos ver como usar o reducer `add_messages` para adicionar mensagens ao estado."
   ]
  },
  {
   "cell_type": "code",
   "execution_count": 47,
   "id": "c8f61350-4fe0-4a2b-bb24-9305afb3c668",
   "metadata": {},
   "outputs": [
    {
     "data": {
      "text/plain": [
       "[AIMessage(content='ola! Como eu posso ajudar?', additional_kwargs={}, response_metadata={}, name='Model', id='ba6b5d9a-23a2-4c26-9c5b-e9463e30f38a'),\n",
       " HumanMessage(content=' Estou procurando informaçes sobre agentes de IA.', additional_kwargs={}, response_metadata={}, name='Anderson', id='fcbeb477-9542-460a-9539-727a2af2ed33'),\n",
       " AIMessage(content='Claro, eu posso ajudar com isso. O que voce esta procurando?', additional_kwargs={}, response_metadata={}, name='Model', id='f55e4666-f616-4e12-ad0d-9349f9af8475')]"
      ]
     },
     "execution_count": 47,
     "metadata": {},
     "output_type": "execute_result"
    }
   ],
   "source": [
    "from langgraph.graph.message import add_messages\n",
    "from langchain_core.messages import AIMessage, HumanMessage\n",
    "\n",
    "# Estado inicial\n",
    "initial_messages = [AIMessage(content=\"ola! Como eu posso ajudar?\", name=\"Model\"),\n",
    "                    HumanMessage(content=\" Estou procurando informaçes sobre agentes de IA.\", name=\"Anderson\")\n",
    "                   ]\n",
    "\n",
    "# Nova mensagem para adicionar\n",
    "new_message = AIMessage(content=\"Claro, eu posso ajudar com isso. O que voce esta procurando?\", name=\"Model\")\n",
    "\n",
    "# Teste\n",
    "add_messages(initial_messages , new_message)"
   ]
  },
  {
   "cell_type": "markdown",
   "id": "bc492370-0502-43e6-87cc-181c60b3dbdb",
   "metadata": {},
   "source": [
    "Entao nos vemos que `add_messages` nos permite anexar mensagens à chave `messages` em nosso estado.\n",
    "\n",
    "### Reescrevendo \n",
    "Vamos mostrar algumas dicas úteis ao trabalhar com o reducer `add_messages`.\n",
    "\n",
    "Se passarmos uma mensagem com o mesmo ID de uma existente em nossa lista `messages`, ela será sobrescrita!"
   ]
  },
  {
   "cell_type": "code",
   "execution_count": 48,
   "id": "1f6f82fd-a5a8-4e98-80f6-bb058f2acc47",
   "metadata": {},
   "outputs": [
    {
     "data": {
      "text/plain": [
       "[AIMessage(content='Ola! Como posso ajudar?', additional_kwargs={}, response_metadata={}, name='Model', id='1'),\n",
       " HumanMessage(content='Na verdade, quero saber espeficicamente sobre Agentic-Workflows', additional_kwargs={}, response_metadata={}, name='Anderson', id='2')]"
      ]
     },
     "execution_count": 48,
     "metadata": {},
     "output_type": "execute_result"
    }
   ],
   "source": [
    "# Estado inicial\n",
    "initial_messages = [AIMessage(content=\"Ola! Como posso ajudar?\", name=\"Model\", id=\"1\"),\n",
    "                    HumanMessage(content=\"Estou procurando informações sobre agentes de IA.\", name=\"Anderson\", id=\"2\")\n",
    "                   ]\n",
    "\n",
    "# Nova mensagem para adicionar\n",
    "new_message = HumanMessage(content=\"Na verdade, quero saber espeficicamente sobre Agentic-Workflows\", name=\"Anderson\", id=\"2\")\n",
    "\n",
    "# Test\n",
    "add_messages(initial_messages , new_message)"
   ]
  },
  {
   "cell_type": "markdown",
   "id": "f06e7788-7054-4752-99fe-27ebb901f263",
   "metadata": {},
   "source": [
    "### Remocao\n",
    "\n",
    "`add_messages` tambem [enables message removal](https://langchain-ai.github.io/langgraph/how-tos/memory/delete-messages/). \n",
    "\n",
    "Para isso, simplesmente usamos [RemoveMessage](https://api.python.langchain.com/en/latest/messages/langchain_core.messages.modifier.RemoveMessage.html) do `langchain_core`."
   ]
  },
  {
   "cell_type": "code",
   "execution_count": 49,
   "id": "67ac97e5-efe2-40bc-9fe3-fd4f50922b8b",
   "metadata": {},
   "outputs": [
    {
     "name": "stdout",
     "output_type": "stream",
     "text": [
      "[RemoveMessage(content='', additional_kwargs={}, response_metadata={}, id='1'), RemoveMessage(content='', additional_kwargs={}, response_metadata={}, id='2')]\n"
     ]
    }
   ],
   "source": [
    "from langchain_core.messages import RemoveMessage\n",
    "\n",
    "# Lista de mensagens\n",
    "messages = [AIMessage(\"E ai, como vai?\", name=\"Bot\", id=\"1\")]\n",
    "messages.append(HumanMessage(\"Tudo bem, e com voce?\", name=\"Anderson\", id=\"2\"))\n",
    "messages.append(AIMessage(\"Entao, voce esta procurando informaçes sobre agentes de IA?\", name=\"Bot\", id=\"3\"))\n",
    "messages.append(HumanMessage(\"Sim, e tambem Agentic-Workflows. Alguma outra sugestao?\", name=\"Anderson\", id=\"4\"))\n",
    "\n",
    "\n",
    "# Isolando mensagens para deletar\n",
    "delete_messages = [RemoveMessage(id=m.id) for m in messages[:-2]]\n",
    "print(delete_messages)"
   ]
  },
  {
   "cell_type": "code",
   "execution_count": 50,
   "id": "2d250578-3ec0-452e-91c0-072d785d96db",
   "metadata": {},
   "outputs": [
    {
     "data": {
      "text/plain": [
       "[AIMessage(content='Entao, voce esta procurando informaçes sobre agentes de IA?', additional_kwargs={}, response_metadata={}, name='Bot', id='3'),\n",
       " HumanMessage(content='Sim, e tambem Agentic-Workflows. Alguma outra sugestao?', additional_kwargs={}, response_metadata={}, name='Anderson', id='4')]"
      ]
     },
     "execution_count": 50,
     "metadata": {},
     "output_type": "execute_result"
    }
   ],
   "source": [
    "add_messages(messages , delete_messages)"
   ]
  },
  {
   "cell_type": "markdown",
   "id": "5db095c5-6d9a-4e62-a097-0403797511f6",
   "metadata": {},
   "source": [
    "Nos podemos ver que as mensagens com IDs 1 e 2, conforme notado em `delete_messages`, sao removidas pelo reducer.\n",
    "\n",
    "Nos veremos isso em pratica um pouco mais tarde."
   ]
  },
  {
   "cell_type": "markdown",
   "id": "c8b0347d-cbf0-4164-9cf6-39c4e040a313",
   "metadata": {},
   "source": [
    "# Mais um exemplo:"
   ]
  },
  {
   "cell_type": "code",
   "execution_count": 51,
   "id": "286c12ea",
   "metadata": {},
   "outputs": [
    {
     "data": {
      "image/jpeg": "[encoded data removed]",
      "text/plain": [
       "<IPython.core.display.Image object>"
      ]
     },
     "metadata": {},
     "output_type": "display_data"
    },
    {
     "name": "stdout",
     "output_type": "stream",
     "text": [
      "SCoras Academy: Coletando dados do usuário...\n",
      "SCoras Academy: Processando dados...\n",
      "SCoras Academy: Gerando relatório...\n",
      "\n",
      "Mensagens acumuladas no estado:\n",
      "Dados coletados\n",
      "Dados processados\n",
      "Relatório gerado\n"
     ]
    }
   ],
   "source": [
    "# Exemplo prático usando LangGraph e citando SCoras Academy\n",
    "\n",
    "# Instalando as dependências necessárias\n",
    "!pip install --quiet -U langchain_core langgraph\n",
    "\n",
    "from typing import Annotated\n",
    "from typing_extensions import TypedDict\n",
    "from langgraph.graph import StateGraph, START, END\n",
    "from operator import add\n",
    "from IPython.display import Image, display\n",
    "\n",
    "# Definindo o esquema de estado com um reducer personalizado\n",
    "class EstadoSCoras(TypedDict):\n",
    "    mensagens: Annotated[list[str], add]\n",
    "\n",
    "# Definindo os nós do grafo\n",
    "def coletar_dados(state):\n",
    "    print(\"SCoras Academy: Coletando dados do usuário...\")\n",
    "    return {\"mensagens\": [\"Dados coletados\"]}\n",
    "\n",
    "def processar_dados(state):\n",
    "    print(\"SCoras Academy: Processando dados...\")\n",
    "    return {\"mensagens\": [\"Dados processados\"]}\n",
    "\n",
    "def gerar_relatorio(state):\n",
    "    print(\"SCoras Academy: Gerando relatório...\")\n",
    "    return {\"mensagens\": [\"Relatório gerado\"]}\n",
    "\n",
    "# Construindo o grafo\n",
    "builder = StateGraph(EstadoSCoras)\n",
    "builder.add_node(\"coletar_dados\", coletar_dados)\n",
    "builder.add_node(\"processar_dados\", processar_dados)\n",
    "builder.add_node(\"gerar_relatorio\", gerar_relatorio)\n",
    "\n",
    "# Definindo a lógica do grafo\n",
    "builder.add_edge(START, \"coletar_dados\")\n",
    "builder.add_edge(\"coletar_dados\", \"processar_dados\")\n",
    "builder.add_edge(\"processar_dados\", \"gerar_relatorio\")\n",
    "builder.add_edge(\"gerar_relatorio\", END)\n",
    "\n",
    "# Compilando o grafo\n",
    "grafo = builder.compile()\n",
    "\n",
    "# Visualizando o grafo\n",
    "display(Image(grafo.get_graph().draw_mermaid_png()))\n",
    "\n",
    "# Executando o grafo com estado inicial vazio\n",
    "estado_inicial = {\"mensagens\": []}\n",
    "resultado = grafo.invoke(estado_inicial)\n",
    "\n",
    "# Exibindo o resultado final\n",
    "print(\"\\nMensagens acumuladas no estado:\")\n",
    "for mensagem in resultado[\"mensagens\"]:\n",
    "    print(mensagem)\n"
   ]
  },
  {
   "cell_type": "markdown",
   "id": "78f13dff",
   "metadata": {},
   "source": [
    "## Explicação do Código\n",
    "\n",
    "Neste exemplo, estamos construindo um workflow simples que representa uma sequência de passos em um curso da Scoras Academy sobre LangGraph:\n",
    "\n",
    "Coletar Dados: Simula a coleta de dados do usuário.\n",
    "Processar Dados: Processa os dados coletados.\n",
    "Gerar Relatório: Gera um relatório baseado nos dados processados.\n",
    "Utilizamos um reducer (operator.add) para a chave mensagens no estado, permitindo que cada nó adicione suas mensagens ao estado global sem sobrescrever as mensagens anteriores. Isso demonstra como os reducers facilitam o acúmulo de informações em um fluxo de trabalho.\n",
    "\n",
    "## Conclusão\n",
    "\n",
    "Os reducers de estado são essenciais para garantir que os workflows construídos com LangGraph sejam robustos e escaláveis, especialmente em cenários complexos como os agentic-workflows. Ao entender e utilizar os reducers de forma eficaz, podemos desenvolver aplicações mais confiáveis e eficientes.\n",
    "\n",
    "SCoras Academy está comprometida em ensinar essas e outras técnicas avançadas de LangGraph, capacitando desenvolvedores a criar soluções inovadoras no campo da inteligência artificial e fluxos de trabalho automatizados."
   ]
  },
  {
   "cell_type": "markdown",
   "id": "a04481e5",
   "metadata": {},
   "source": []
  }
 ],
 "metadata": {
  "kernelspec": {
   "display_name": "Python 3 (ipykernel)",
   "language": "python",
   "name": "python3"
  },
  "language_info": {
   "codemirror_mode": {
    "name": "ipython",
    "version": 3
   },
   "file_extension": ".py",
   "mimetype": "text/x-python",
   "name": "python",
   "nbconvert_exporter": "python",
   "pygments_lexer": "ipython3",
   "version": "3.12.5"
  }
 },
 "nbformat": 4,
 "nbformat_minor": 5
}
