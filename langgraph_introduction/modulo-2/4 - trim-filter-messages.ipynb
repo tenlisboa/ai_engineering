{
 "cells": [
  {
   "cell_type": "markdown",
   "id": "12dd0864",
   "metadata": {},
   "source": [
    "# Filtrando e reduzindo/cortando mensagens\n",
    "\n",
    "## Visão geral\n",
    "\n",
    "Agora, vamos nos aprofundar em  alguns conceitos:\n",
    "\n",
    "* Como personalizar o schema de estado do grafo\n",
    "* Como definir reducers de estado personalizados\n",
    "* Como usar múltiplos schemas de estado do grafo\n",
    "\n",
    "## Objetivos\n",
    "\n",
    "Agora, podemos começar a usar esses conceitos com modelos no LangGraph!\n",
    "\n",
    "Nas próximas sessões, vamos construir um chatbot que tem memória de longo prazo.\n",
    "\n",
    "Como nosso chatbot usará mensagens, vamos primeiro falar um pouco mais sobre formas avançadas de trabalhar com mensagens no estado do grafo."
   ]
  },
  {
   "cell_type": "code",
   "execution_count": 53,
   "id": "d5197aba-5d46-421b-ae3b-4e3034edcfda",
   "metadata": {},
   "outputs": [],
   "source": [
    "%%capture --no-stderr\n",
    "%pip install --quiet -U langchain_core langgraph langchain_openai"
   ]
  },
  {
   "cell_type": "code",
   "execution_count": 54,
   "id": "768dc606-d5f2-468d-96ea-910b264e0f8a",
   "metadata": {},
   "outputs": [],
   "source": [
    "import os, getpass\n",
    "\n",
    "def _set_env(var: str):\n",
    "    if not os.environ.get(var):\n",
    "        os.environ[var] = getpass.getpass(f\"{var}: \")\n",
    "\n",
    "_set_env(\"OPENAI_API_KEY\")"
   ]
  },
  {
   "cell_type": "markdown",
   "id": "ca36eff0",
   "metadata": {},
   "source": [
    "Usaremos o [LangSmith](https://docs.smith.langchain.com/) para [rastreamento](https://docs.smith.langchain.com/concepts/tracing).\n",
    "\n",
    "Faremos o registro em um projeto, `scoras-academy`."
   ]
  },
  {
   "cell_type": "code",
   "execution_count": 55,
   "id": "dd020c79",
   "metadata": {},
   "outputs": [],
   "source": [
    "_set_env(\"LANGCHAIN_API_KEY\")\n",
    "os.environ[\"LANGCHAIN_TRACING_V2\"] = \"true\"\n",
    "os.environ[\"LANGCHAIN_PROJECT\"] = \"scoras-academy\""
   ]
  },
  {
   "cell_type": "markdown",
   "id": "72f3fc90-58b6-4f7f-897e-dddf6ae532c7",
   "metadata": {},
   "source": [
    "## Mensagens como estado\n",
    "\n",
    "Primeiro, vamos definir algumas mensagens."
   ]
  },
  {
   "cell_type": "code",
   "execution_count": 70,
   "id": "cf11a463-e27a-4a05-b41d-64882e38edca",
   "metadata": {},
   "outputs": [
    {
     "name": "stdout",
     "output_type": "stream",
     "text": [
      "==================================\u001b[1m Ai Message \u001b[0m==================================\n",
      "Name: Bot\n",
      "\n",
      "Então você disse que estava pesquisando sobre agentes de IA?\n",
      "================================\u001b[1m Human Message \u001b[0m=================================\n",
      "Name: Anderson\n",
      "\n",
      "Sim, eu conheço sobre agentes conversacionais. Mas quais outros eu deveria aprender?\n"
     ]
    }
   ],
   "source": [
    "from pprint import pprint\n",
    "from langchain_core.messages import AIMessage, HumanMessage\n",
    "messages = [AIMessage(f\"Então você disse que estava pesquisando sobre agentes de IA?\", name=\"Bot\")]\n",
    "messages.append(HumanMessage(f\"Sim, eu conheço sobre agentes conversacionais. Mas quais outros eu deveria aprender?\", name=\"Anderson\"))\n",
    "\n",
    "for m in messages:\n",
    "    m.pretty_print()"
   ]
  },
  {
   "cell_type": "markdown",
   "id": "b814adcb-6bf9-4b75-be11-e59f933fbd0c",
   "metadata": {},
   "source": [
    "Lembre-se que podemos passá-las para um modelo de chat.\n"
   ]
  },
  {
   "cell_type": "code",
   "execution_count": 71,
   "id": "4712e288-e622-48a2-ad3f-a52f65f3ab08",
   "metadata": {},
   "outputs": [
    {
     "data": {
      "text/plain": [
       "AIMessage(content='Além de agentes conversacionais, existem vários outros tipos de agentes de inteligência artificial que você pode considerar explorar:\\n\\n1. **Agentes Autônomos**: Esses agentes operam de forma independente em ambientes dinâmicos, como robôs que podem navegar e tomar decisões sem intervenção humana.\\n\\n2. **Agentes de Aprendizado de Máquina**: Esses agentes utilizam algoritmos de aprendizado de máquina para melhorar seu desempenho com base em dados. Eles podem ser usados em recomendações de produtos, reconhecimento de padrões, etc.\\n\\n3. **Agentes de Planejamento**: Esses agentes são projetados para criar planos de ação para atingir objetivos específicos, levando em consideração restrições e recursos disponíveis.\\n\\n4. **Agentes de Negociação**: Esses agentes podem interagir uns com os outros para chegar a acordos, sendo úteis em vendas, logística e outras áreas onde a negociação é necessária.\\n\\n5. **Agentes de Recomendação**: Usados em plataformas como Netflix e Amazon, esses agentes analisam o comportamento do usuário para sugerir produtos, filmes ou músicas.\\n\\n6. **Agentes de Monitoramento**: Esses agentes são usados para monitorar sistemas ou processos e alertar sobre anomalias ou falhas, sendo comuns em TI e segurança.\\n\\n7. **Agentes de Simulação**: Utilizados em jogos ou treinamento, esses agentes podem simular comportamentos humanos ou de sistemas para análise e teste.\\n\\n8. **Agentes de Coleta de Dados**: Esses agentes automatizam a coleta de informações de diversas fontes, como web scraping, para análise posterior.\\n\\nExplorar esses diferentes tipos de agentes pode fornecer uma visão abrangente sobre as aplicações e potencial da inteligência artificial em diversos setores.', additional_kwargs={'refusal': None}, response_metadata={'token_usage': {'completion_tokens': 344, 'prompt_tokens': 45, 'total_tokens': 389, 'completion_tokens_details': {'accepted_prediction_tokens': 0, 'audio_tokens': 0, 'reasoning_tokens': 0, 'rejected_prediction_tokens': 0}, 'prompt_tokens_details': {'audio_tokens': 0, 'cached_tokens': 0}}, 'model_name': 'gpt-4o-mini-2024-07-18', 'system_fingerprint': 'fp_9b78b61c52', 'finish_reason': 'stop', 'logprobs': None}, id='run-f489b0a7-1102-4aea-94ba-1f932dc91604-0', usage_metadata={'input_tokens': 45, 'output_tokens': 344, 'total_tokens': 389, 'input_token_details': {'audio': 0, 'cache_read': 0}, 'output_token_details': {'audio': 0, 'reasoning': 0}})"
      ]
     },
     "execution_count": 71,
     "metadata": {},
     "output_type": "execute_result"
    }
   ],
   "source": [
    "# Importando o modelo de chat da OpenAI\n",
    "from langchain_openai import ChatOpenAI\n",
    "\n",
    "# Inicializando o modelo GPT-4 Mini\n",
    "llm = ChatOpenAI(model=\"gpt-4o-mini\")\n",
    "\n",
    "# Invocando o modelo com as mensagens definidas anteriormente\n",
    "llm.invoke(messages)"
   ]
  },
  {
   "cell_type": "markdown",
   "id": "fbd1dab8-0af8-4621-8264-ce65065f76ec",
   "metadata": {},
   "source": [
    "Podemos executar nosso modelo de chat em um grafo simples com `MessagesState`.\n"
   ]
  },
  {
   "cell_type": "code",
   "execution_count": 72,
   "id": "bbd8c39c-633b-4176-9cc6-8318e42bb5dd",
   "metadata": {},
   "outputs": [
    {
     "data": {
      "image/jpeg": "[encoded data removed]",
      "text/plain": [
       "<IPython.core.display.Image object>"
      ]
     },
     "metadata": {},
     "output_type": "display_data"
    }
   ],
   "source": [
    "# Importando bibliotecas necessárias\n",
    "from IPython.display import Image, display\n",
    "from langgraph.graph import MessagesState\n",
    "from langgraph.graph import StateGraph, START, END\n",
    "\n",
    "# Definindo o nó que processará as mensagens usando o modelo de chat\n",
    "def chat_model_node(state: MessagesState):\n",
    "    return {\"messages\": llm.invoke(state[\"messages\"])}\n",
    "\n",
    "# Construindo o grafo\n",
    "builder = StateGraph(MessagesState)\n",
    "builder.add_node(\"chat_model\", chat_model_node)  # Adicionando o nó do modelo de chat\n",
    "builder.add_edge(START, \"chat_model\")  # Conectando o início ao nó do chat\n",
    "builder.add_edge(\"chat_model\", END)  # Conectando o nó do chat ao fim\n",
    "graph = builder.compile()  # Compilando o grafo\n",
    "\n",
    "# Visualizando o grafo usando Mermaid\n",
    "display(Image(graph.get_graph().draw_mermaid_png()))"
   ]
  },
  {
   "cell_type": "code",
   "execution_count": 73,
   "id": "3a5a3e4a-ccfd-4d14-81f1-f0de6e11a1e4",
   "metadata": {},
   "outputs": [
    {
     "name": "stdout",
     "output_type": "stream",
     "text": [
      "==================================\u001b[1m Ai Message \u001b[0m==================================\n",
      "Name: Bot\n",
      "\n",
      "Então você disse que estava pesquisando sobre agentes de IA?\n",
      "================================\u001b[1m Human Message \u001b[0m=================================\n",
      "Name: Anderson\n",
      "\n",
      "Sim, eu conheço sobre agentes conversacionais. Mas quais outros eu deveria aprender?\n",
      "==================================\u001b[1m Ai Message \u001b[0m==================================\n",
      "\n",
      "Além dos agentes conversacionais, existem vários outros tipos de agentes de IA que você pode explorar:\n",
      "\n",
      "1. **Agentes de Recomendação**: Utilizados em plataformas como Netflix e Amazon, eles analisam o comportamento do usuário para sugerir filmes, músicas ou produtos.\n",
      "\n",
      "2. **Agentes de Aprendizado de Máquina**: Esses agentes usam algoritmos de aprendizado de máquina para melhorar seu desempenho em tarefas específicas com base em dados.\n",
      "\n",
      "3. **Agentes Autônomos**: Robôs ou veículos autônomos que tomam decisões em tempo real, como drones ou carros autônomos.\n",
      "\n",
      "4. **Agentes de Jogo**: Inteligências artificiais que atuam como oponentes em jogos, adaptando-se à estratégia do jogador.\n",
      "\n",
      "5. **Agentes de Simulação**: Usados em ambientes de simulação para modelar comportamentos e interações em cenários complexos, como simulações de tráfego ou de mercado.\n",
      "\n",
      "6. **Agentes de Monitoramento e Diagnóstico**: Utilizados em sistemas de TI para monitorar a saúde de sistemas e diagnosticar problemas.\n",
      "\n",
      "7. **Agentes de Processamento de Linguagem Natural (PLN)**: Além dos chatbots, esses agentes podem realizar tarefas como tradução automática, resumo de textos e análise de sentimentos.\n",
      "\n",
      "8. **Agentes de Visão Computacional**: Usados para reconhecer e interpretar informações visuais, como na identificação de objetos em imagens ou vídeos.\n",
      "\n",
      "Cada um desses tipos de agentes tem aplicações práticas em diferentes setores e podem ser interessantes para você aprender, dependendo de seus interesses específicos.\n"
     ]
    }
   ],
   "source": [
    "# Invocando o grafo com as mensagens e armazenando a saída\n",
    "output = graph.invoke({'messages': messages})\n",
    "\n",
    "# Imprimindo cada mensagem do resultado de forma formatada\n",
    "for m in output['messages']:\n",
    "    m.pretty_print()"
   ]
  },
  {
   "cell_type": "markdown",
   "id": "34c33e63-1ef4-412d-bb10-6a1b9e5b35a7",
   "metadata": {},
   "source": [
    "## Reducer\n",
    "\n",
    "Um desafio prático ao trabalhar com mensagens é gerenciar conversas longas.\n",
    "\n",
    "Conversas longas resultam em alto uso de tokens e latência se não formos cuidadosos, porque passamos uma lista crescente de mensagens para o modelo.\n",
    "\n",
    "Temos algumas maneiras de lidar com isso.\n",
    "\n",
    "Primeiro, lembre-se do truque que vimos usando `RemoveMessage` e o reducer `add_messages`."
   ]
  },
  {
   "cell_type": "code",
   "execution_count": 74,
   "id": "222c6bc5-bb0e-4a43-80f5-c8ec38d99f3a",
   "metadata": {},
   "outputs": [
    {
     "data": {
      "image/jpeg": "[encoded data removed]",
      "text/plain": [
       "<IPython.core.display.Image object>"
      ]
     },
     "metadata": {},
     "output_type": "display_data"
    }
   ],
   "source": [
    "# Importando a classe RemoveMessage\n",
    "from langchain_core.messages import RemoveMessage\n",
    "\n",
    "# Definindo os nós\n",
    "def filter_messages(state: MessagesState):\n",
    "    # Excluir todas as mensagens exceto as 2 mais recentes\n",
    "    delete_messages = [RemoveMessage(id=m.id) for m in state[\"messages\"][:-2]]\n",
    "    return {\"messages\": delete_messages}\n",
    "\n",
    "def chat_model_node(state: MessagesState):    \n",
    "    return {\"messages\": [llm.invoke(state[\"messages\"])]}\n",
    "\n",
    "# Construindo o grafo\n",
    "builder = StateGraph(MessagesState)\n",
    "builder.add_node(\"filter\", filter_messages)  # Adicionando o nó de filtro\n",
    "builder.add_node(\"chat_model\", chat_model_node)  # Adicionando o nó do modelo de chat\n",
    "builder.add_edge(START, \"filter\")  # Conectando início ao filtro\n",
    "builder.add_edge(\"filter\", \"chat_model\")  # Conectando filtro ao chat\n",
    "builder.add_edge(\"chat_model\", END)  # Conectando chat ao fim\n",
    "graph = builder.compile()  # Compilando o grafo\n",
    "\n",
    "# Visualizando o grafo\n",
    "display(Image(graph.get_graph().draw_mermaid_png()))"
   ]
  },
  {
   "cell_type": "code",
   "execution_count": 75,
   "id": "95a7c2cc-54ce-43e7-9a90-abf37827d709",
   "metadata": {},
   "outputs": [
    {
     "name": "stdout",
     "output_type": "stream",
     "text": [
      "==================================\u001b[1m Ai Message \u001b[0m==================================\n",
      "Name: Bot\n",
      "\n",
      "Então você disse que estava pesquisando sobre agentes de IA?\n",
      "================================\u001b[1m Human Message \u001b[0m=================================\n",
      "Name: Anderson\n",
      "\n",
      "Sim, eu conheço sobre agentes conversacionais. Mas quais outros eu deveria aprender?\n",
      "==================================\u001b[1m Ai Message \u001b[0m==================================\n",
      "\n",
      "Além dos agentes conversacionais, existem vários outros tipos de agentes de IA que podem ser interessantes para você explorar:\n",
      "\n",
      "1. **Agentes de Recomendação**: Esses agentes analisam o comportamento do usuário e fornecem recomendações personalizadas, como em plataformas de streaming (Netflix, Spotify) ou e-commerce (Amazon).\n",
      "\n",
      "2. **Agentes de Aprendizado de Máquina**: Esses agentes utilizam algoritmos de aprendizado de máquina para melhorar seu desempenho ao longo do tempo com base em dados de entrada.\n",
      "\n",
      "3. **Robôs Autônomos**: Esses agentes são projetados para operar em ambientes físicos, como drones, robôs de entrega ou veículos autônomos.\n",
      "\n",
      "4. **Agentes de Monitoramento**: Utilizados em redes de computadores e sistemas de segurança, esses agentes monitoram atividades e podem detectar anomalias ou intrusões.\n",
      "\n",
      "5. **Agentes de Planejamento**: Esses agentes são capazes de tomar decisões com base em objetivos predefinidos e podem ser usados em jogos, simulações e robótica.\n",
      "\n",
      "6. **Agentes de Simulação**: Utilizados para modelar comportamentos em ambientes virtuais, como em treinamentos de simulação ou jogos.\n",
      "\n",
      "7. **Agentes de Inteligência Empresarial**: Esses agentes ajudam na análise de dados e na tomada de decisões, utilizando técnicas de análise preditiva e visualização de dados.\n",
      "\n",
      "Cada um desses tipos de agentes tem suas próprias aplicações e áreas de especialização, então você pode escolher aqueles que mais lhe interessam ou que se alinham com seus objetivos de aprendizado.\n"
     ]
    }
   ],
   "source": [
    "# Lista de mensagens com um preâmbulo\n",
    "messages = [AIMessage(\"Olá.\", name=\"Bot\", id=\"1\")]\n",
    "messages.append(HumanMessage(\"Olá.\", name=\"Anderson\", id=\"2\"))\n",
    "messages.append(AIMessage(\"Então você disse que estava pesquisando sobre agentes de IA?\", name=\"Bot\", id=\"3\"))\n",
    "messages.append(HumanMessage(\"Sim, eu conheço sobre agentes conversacionais. Mas quais outros eu deveria aprender?\", name=\"Anderson\", id=\"4\"))\n",
    "\n",
    "# Invocando o grafo\n",
    "output = graph.invoke({'messages': messages})\n",
    "for m in output['messages']:\n",
    "    m.pretty_print()"
   ]
  },
  {
   "cell_type": "markdown",
   "id": "f506457d-014b-4fee-a684-e5edfb4b8f0d",
   "metadata": {},
   "source": [
    "## Filtrando mensagens\n",
    "\n",
    "Se você não precisa ou não quer modificar o estado do grafo, você pode simplesmente filtrar as mensagens que passa para o modelo de chat.\n",
    "\n",
    "Por exemplo, basta passar uma lista filtrada: `llm.invoke(messages[-1:])` para o modelo."
   ]
  },
  {
   "cell_type": "code",
   "execution_count": 76,
   "id": "22d0b904-7cd6-486b-8948-105bee3d4683",
   "metadata": {},
   "outputs": [
    {
     "data": {
      "image/jpeg": "[encoded data removed]",
      "text/plain": [
       "<IPython.core.display.Image object>"
      ]
     },
     "metadata": {},
     "output_type": "display_data"
    }
   ],
   "source": [
    "# Definindo o nó\n",
    "def chat_model_node(state: MessagesState):\n",
    "    return {\"messages\": [llm.invoke(state[\"messages\"][-1:])]}\n",
    "\n",
    "# Construindo o grafo\n",
    "builder = StateGraph(MessagesState)\n",
    "builder.add_node(\"chat_model\", chat_model_node)  # Adicionando o nó do chat\n",
    "builder.add_edge(START, \"chat_model\")  # Conectando início ao chat\n",
    "builder.add_edge(\"chat_model\", END)  # Conectando chat ao fim\n",
    "graph = builder.compile()  # Compilando o grafo\n",
    "\n",
    "# Visualizando o grafo\n",
    "display(Image(graph.get_graph().draw_mermaid_png()))"
   ]
  },
  {
   "cell_type": "markdown",
   "id": "6f58c6fc-532f-418d-b70a-cfcb3307daf5",
   "metadata": {},
   "source": [
    "Vamos pegar nossa lista existente de mensagens, adicionar a resposta do LLM acima e adicionar uma pergunta de acompanhamento"
   ]
  },
  {
   "cell_type": "code",
   "execution_count": 77,
   "id": "16956015-1dbe-4108-89b5-4209b68b51ca",
   "metadata": {},
   "outputs": [],
   "source": [
    "messages.append(output['messages'][-1])\n",
    "messages.append(HumanMessage(f\"Me fale mais sobre Agentes de Planejamento!\", name=\"Anderson\"))"
   ]
  },
  {
   "cell_type": "code",
   "execution_count": 78,
   "id": "85563415-c085-46a8-a4ac-155df798c54e",
   "metadata": {},
   "outputs": [
    {
     "name": "stdout",
     "output_type": "stream",
     "text": [
      "==================================\u001b[1m Ai Message \u001b[0m==================================\n",
      "Name: Bot\n",
      "\n",
      "Olá.\n",
      "================================\u001b[1m Human Message \u001b[0m=================================\n",
      "Name: Anderson\n",
      "\n",
      "Olá.\n",
      "==================================\u001b[1m Ai Message \u001b[0m==================================\n",
      "Name: Bot\n",
      "\n",
      "Então você disse que estava pesquisando sobre agentes de IA?\n",
      "================================\u001b[1m Human Message \u001b[0m=================================\n",
      "Name: Anderson\n",
      "\n",
      "Sim, eu conheço sobre agentes conversacionais. Mas quais outros eu deveria aprender?\n",
      "==================================\u001b[1m Ai Message \u001b[0m==================================\n",
      "\n",
      "Além dos agentes conversacionais, existem vários outros tipos de agentes de IA que podem ser interessantes para você explorar:\n",
      "\n",
      "1. **Agentes de Recomendação**: Esses agentes analisam o comportamento do usuário e fornecem recomendações personalizadas, como em plataformas de streaming (Netflix, Spotify) ou e-commerce (Amazon).\n",
      "\n",
      "2. **Agentes de Aprendizado de Máquina**: Esses agentes utilizam algoritmos de aprendizado de máquina para melhorar seu desempenho ao longo do tempo com base em dados de entrada.\n",
      "\n",
      "3. **Robôs Autônomos**: Esses agentes são projetados para operar em ambientes físicos, como drones, robôs de entrega ou veículos autônomos.\n",
      "\n",
      "4. **Agentes de Monitoramento**: Utilizados em redes de computadores e sistemas de segurança, esses agentes monitoram atividades e podem detectar anomalias ou intrusões.\n",
      "\n",
      "5. **Agentes de Planejamento**: Esses agentes são capazes de tomar decisões com base em objetivos predefinidos e podem ser usados em jogos, simulações e robótica.\n",
      "\n",
      "6. **Agentes de Simulação**: Utilizados para modelar comportamentos em ambientes virtuais, como em treinamentos de simulação ou jogos.\n",
      "\n",
      "7. **Agentes de Inteligência Empresarial**: Esses agentes ajudam na análise de dados e na tomada de decisões, utilizando técnicas de análise preditiva e visualização de dados.\n",
      "\n",
      "Cada um desses tipos de agentes tem suas próprias aplicações e áreas de especialização, então você pode escolher aqueles que mais lhe interessam ou que se alinham com seus objetivos de aprendizado.\n",
      "================================\u001b[1m Human Message \u001b[0m=================================\n",
      "Name: Anderson\n",
      "\n",
      "Me fale mais sobre Agentes de Planejamento!\n"
     ]
    }
   ],
   "source": [
    "for m in messages:\n",
    "    m.pretty_print()"
   ]
  },
  {
   "cell_type": "code",
   "execution_count": 79,
   "id": "23349705-a059-47b5-9760-d8f64e687393",
   "metadata": {},
   "outputs": [
    {
     "name": "stdout",
     "output_type": "stream",
     "text": [
      "==================================\u001b[1m Ai Message \u001b[0m==================================\n",
      "Name: Bot\n",
      "\n",
      "Olá.\n",
      "================================\u001b[1m Human Message \u001b[0m=================================\n",
      "Name: Anderson\n",
      "\n",
      "Olá.\n",
      "==================================\u001b[1m Ai Message \u001b[0m==================================\n",
      "Name: Bot\n",
      "\n",
      "Então você disse que estava pesquisando sobre agentes de IA?\n",
      "================================\u001b[1m Human Message \u001b[0m=================================\n",
      "Name: Anderson\n",
      "\n",
      "Sim, eu conheço sobre agentes conversacionais. Mas quais outros eu deveria aprender?\n",
      "==================================\u001b[1m Ai Message \u001b[0m==================================\n",
      "\n",
      "Além dos agentes conversacionais, existem vários outros tipos de agentes de IA que podem ser interessantes para você explorar:\n",
      "\n",
      "1. **Agentes de Recomendação**: Esses agentes analisam o comportamento do usuário e fornecem recomendações personalizadas, como em plataformas de streaming (Netflix, Spotify) ou e-commerce (Amazon).\n",
      "\n",
      "2. **Agentes de Aprendizado de Máquina**: Esses agentes utilizam algoritmos de aprendizado de máquina para melhorar seu desempenho ao longo do tempo com base em dados de entrada.\n",
      "\n",
      "3. **Robôs Autônomos**: Esses agentes são projetados para operar em ambientes físicos, como drones, robôs de entrega ou veículos autônomos.\n",
      "\n",
      "4. **Agentes de Monitoramento**: Utilizados em redes de computadores e sistemas de segurança, esses agentes monitoram atividades e podem detectar anomalias ou intrusões.\n",
      "\n",
      "5. **Agentes de Planejamento**: Esses agentes são capazes de tomar decisões com base em objetivos predefinidos e podem ser usados em jogos, simulações e robótica.\n",
      "\n",
      "6. **Agentes de Simulação**: Utilizados para modelar comportamentos em ambientes virtuais, como em treinamentos de simulação ou jogos.\n",
      "\n",
      "7. **Agentes de Inteligência Empresarial**: Esses agentes ajudam na análise de dados e na tomada de decisões, utilizando técnicas de análise preditiva e visualização de dados.\n",
      "\n",
      "Cada um desses tipos de agentes tem suas próprias aplicações e áreas de especialização, então você pode escolher aqueles que mais lhe interessam ou que se alinham com seus objetivos de aprendizado.\n",
      "================================\u001b[1m Human Message \u001b[0m=================================\n",
      "Name: Anderson\n",
      "\n",
      "Me fale mais sobre Agentes de Planejamento!\n",
      "==================================\u001b[1m Ai Message \u001b[0m==================================\n",
      "\n",
      "Agentes de Planejamento são entidades, que podem ser algoritmos ou sistemas, projetados para tomar decisões e realizar ações com base em um conjunto de objetivos e um ambiente específico. Esses agentes são amplamente utilizados em inteligência artificial (IA) e em sistemas de automação, onde a capacidade de planejar e executar tarefas de forma eficiente é crucial.\n",
      "\n",
      "Aqui estão alguns aspectos importantes sobre agentes de planejamento:\n",
      "\n",
      "1. **Definição de Objetivos**: Agentes de planejamento começam com um conjunto de objetivos que desejam alcançar. Esses objetivos podem ser explícitos, como completar uma tarefa específica, ou implícitos, como maximizar a eficiência.\n",
      "\n",
      "2. **Modelo do Ambiente**: Para planejar efetivamente, o agente precisa ter um modelo do ambiente em que opera. Isso pode incluir informações sobre o estado atual, as ações disponíveis e as consequências dessas ações.\n",
      "\n",
      "3. **Algoritmos de Planejamento**: Existem vários algoritmos usados para o planejamento, incluindo:\n",
      "   - **Planejamento em Tempo Real**: Onde o agente precisa tomar decisões rapidamente, dependendo das circunstâncias em constante mudança.\n",
      "   - **Planejamento Baseado em Estado**: Que envolve a análise de estados possíveis e a escolha de ações que levam ao estado desejado.\n",
      "   - **Planejamento Hierárquico**: Que divide o problema em subproblemas menores, tornando o planejamento mais gerenciável.\n",
      "\n",
      "4. **Execução e Monitoramento**: Após o planejamento, os agentes não apenas executam as ações decididas, mas também monitoram o progresso em relação aos objetivos. Se o ambiente mudar ou se as ações não tiverem o efeito desejado, o agente pode precisar reavaliar e ajustar seu plano.\n",
      "\n",
      "5. **Aplicações Práticas**: Agentes de planejamento são utilizados em várias áreas, como:\n",
      "   - Robótica, onde robôs precisam planejar suas rotas e ações.\n",
      "   - Sistemas de gerenciamento de recursos, onde é necessário otimizar a alocação de recursos.\n",
      "   - Jogos, onde personagens controlados por IA precisam planejar suas ações em tempo real.\n",
      "\n",
      "6. **Desafios**: O planejamento pode ser complexo, especialmente em ambientes dinâmicos e incertos. Desafios como a explosão combinatória (onde o número de possíveis planos cresce exponencialmente) e a necessidade de adaptação a mudanças rápidas são comuns.\n",
      "\n",
      "Esses agentes são uma parte fundamental da pesquisa em inteligência artificial e têm um impacto significativo em como as máquinas interagem com o mundo e realizam tarefas complexas.\n"
     ]
    }
   ],
   "source": [
    "# Invocando o grafo, usando filtragem de mensagens\n",
    "output = graph.invoke({'messages': messages})\n",
    "for m in output['messages']:\n",
    "    m.pretty_print()"
   ]
  },
  {
   "cell_type": "markdown",
   "id": "42e1d8d2-e297-4d78-b54c-d12b3c866745",
   "metadata": {},
   "source": [
    "O estado tem todas as mensagens.\n",
    "\n",
    "Mas, vamos olhar o rastreamento do LangSmith para ver que a invocação do modelo usa apenas a última mensagem:\n",
    "\n",
    "https://smith.langchain.com/o/1226c5ea-8147-4279-93da-5cecd121c83c/projects/p/25ad813a-7ede-456d-813f-ccc2b8b7261d?timeModel=%7B%22duration%22%3A%227d%22%7D"
   ]
  },
  {
   "cell_type": "markdown",
   "id": "fc40d930-3c1f-47fe-8d2a-ce174873353c",
   "metadata": {},
   "source": [
    "## Reduzir (Trim/ cortar) mensagens\n",
    "\n",
    "Outra abordagem é [reduzir mensagens](https://python.langchain.com/v0.2/docs/how_to/trim_messages/#getting-the-last-max_tokens-tokens), com base em um número definido de tokens.\n",
    "\n",
    "Isso restringe o histórico de mensagens a um número específico de tokens.\n",
    "\n",
    "Enquanto a filtragem apenas retorna um subconjunto pós-processado das mensagens entre agentes, a redução restringe o número de tokens que um modelo de chat pode usar para responder.\n",
    "\n",
    "Veja o `trim_messages` abaixo."
   ]
  },
  {
   "cell_type": "code",
   "execution_count": 80,
   "id": "2ff99b81-cf03-4cc2-b44f-44829a73e1fd",
   "metadata": {},
   "outputs": [
    {
     "data": {
      "image/jpeg": "[encoded data removed]",
      "text/plain": [
       "<IPython.core.display.Image object>"
      ]
     },
     "metadata": {},
     "output_type": "display_data"
    }
   ],
   "source": [
    "from langchain_core.messages import trim_messages\n",
    "\n",
    "# Definindo o nó\n",
    "def chat_model_node(state: MessagesState):\n",
    "    messages = trim_messages(\n",
    "            state[\"messages\"],\n",
    "            max_tokens=100,\n",
    "            strategy=\"last\",\n",
    "            token_counter=ChatOpenAI(model=\"gpt-4o-mini\"),\n",
    "            allow_partial=False,\n",
    "        )\n",
    "    return {\"messages\": [llm.invoke(messages)]}\n",
    "\n",
    "# Construindo o grafo\n",
    "builder = StateGraph(MessagesState)\n",
    "builder.add_node(\"chat_model\", chat_model_node)  # Adicionando o nó do chat\n",
    "builder.add_edge(START, \"chat_model\")  # Conectando início ao chat\n",
    "builder.add_edge(\"chat_model\", END)  # Conectando chat ao fim\n",
    "graph = builder.compile()  # Compilando o grafo\n",
    "\n",
    "# Visualizando o grafo\n",
    "display(Image(graph.get_graph().draw_mermaid_png()))"
   ]
  },
  {
   "cell_type": "code",
   "execution_count": 81,
   "id": "24df63ac-da29-4874-b3df-7e390e97cc8a",
   "metadata": {},
   "outputs": [],
   "source": [
    "messages.append(output['messages'][-1])\n",
    "messages.append(HumanMessage(f\"Me fale sobre os diferentes tipos de Agentes de IA!\", name=\"Anderson\"))"
   ]
  },
  {
   "cell_type": "code",
   "execution_count": 82,
   "id": "6d9d8971-c75c-43ca-a209-eb1d07b2ead0",
   "metadata": {},
   "outputs": [
    {
     "data": {
      "text/plain": [
       "[HumanMessage(content='Me fale sobre os diferentes tipos de Agentes de IA!', additional_kwargs={}, response_metadata={}, name='Anderson')]"
      ]
     },
     "execution_count": 82,
     "metadata": {},
     "output_type": "execute_result"
    }
   ],
   "source": [
    "trim_messages(\n",
    "            messages,\n",
    "            max_tokens=100,\n",
    "            strategy=\"last\",\n",
    "            token_counter=ChatOpenAI(model=\"gpt-4o\"),\n",
    "            allow_partial=False\n",
    "        )"
   ]
  },
  {
   "cell_type": "code",
   "execution_count": 83,
   "id": "ed70a269-a869-4fa0-a1df-29736a432c51",
   "metadata": {},
   "outputs": [],
   "source": [
    "# Invocando o grafo, usando redução de mensagens\n",
    "messages_out_trim = graph.invoke({'messages': messages})"
   ]
  },
  {
   "cell_type": "markdown",
   "id": "38b3db67-380e-46b5-9a6a-20100ba52008",
   "metadata": {},
   "source": [
    "Vamos olhar o rastreamento do LangSmith para ver a invocação do modelo:\n",
    "\n",
    "https://smith.langchain.com/o/1226c5ea-8147-4279-93da-5cecd121c83c/projects/p/25ad813a-7ede-456d-813f-ccc2b8b7261d?timeModel=%7B%22duration%22%3A%227d%22%7D"
   ]
  },
  {
   "cell_type": "markdown",
   "id": "8199b2a2",
   "metadata": {},
   "source": [
    "# Conceitos do LangGraph: Gerenciamento de Mensagens e Estados\n",
    "\n",
    "## Visão Geral\n",
    "Este notebook apresenta conceitos fundamentais sobre como gerenciar mensagens e estados em grafos do LangGraph, com foco especial em técnicas para otimizar conversas longas.\n",
    "\n",
    "## Conceitos Principais\n",
    "\n",
    "### 1. Estado de Mensagens\n",
    "* O LangGraph utiliza `MessagesState` para gerenciar o histórico de conversas\n",
    "* As mensagens podem ser do tipo `AIMessage` (respostas do modelo) ou `HumanMessage` (entradas do usuário)\n",
    "* O estado mantém todas as mensagens da conversa em ordem cronológica\n",
    "\n",
    "### 2. Grafo de Estados\n",
    "* Construído usando `StateGraph`\n",
    "* Possui nós (`nodes`) que processam as mensagens\n",
    "* Utiliza arestas (`edges`) para conectar os nós\n",
    "* Tem pontos definidos de `START` e `END`\n",
    "\n",
    "### 3. Técnicas de Gerenciamento de Mensagens\n",
    "\n",
    "#### a) Filtragem de Mensagens\n",
    "* Permite selecionar apenas um subconjunto das mensagens\n",
    "* Útil quando não é necessário modificar o estado do grafo\n",
    "* Exemplo: `messages[-1:]` para usar apenas a última mensagem\n",
    "* Reduz o uso de tokens e melhora a performance\n",
    "\n",
    "#### b) Redução de Mensagens (Trimming)\n",
    "* Limita o número de tokens no histórico de mensagens\n",
    "* Usa a função `trim_messages`\n",
    "* Parâmetros importantes:\n",
    "  - `max_tokens`: limite máximo de tokens\n",
    "  - `strategy`: estratégia de seleção (\"last\", etc.)\n",
    "  - `token_counter`: modelo usado para contar tokens\n",
    "  - `allow_partial`: permite ou não mensagens parciais\n",
    "\n",
    "#### c) Reducer com RemoveMessage\n",
    "* Permite remover mensagens específicas do estado\n",
    "* Útil para manter apenas as mensagens mais relevantes\n",
    "* Ajuda a controlar o tamanho do histórico de conversação\n",
    "\n",
    "## Benefícios das Técnicas de Gerenciamento\n",
    "\n",
    "1. **Otimização de Recursos**\n",
    "   * Redução no uso de tokens\n",
    "   * Menor latência nas respostas\n",
    "   * Melhor gerenciamento de memória\n",
    "\n",
    "2. **Controle de Contexto**\n",
    "   * Mantém apenas as mensagens relevantes\n",
    "   * Permite focar em partes específicas da conversa\n",
    "   * Melhora a qualidade das respostas do modelo\n",
    "\n",
    "3. **Flexibilidade**\n",
    "   * Diferentes estratégias para diferentes necessidades\n",
    "   * Possibilidade de combinar técnicas\n",
    "   * Adaptável a diversos casos de uso\n",
    "\n",
    "## Ferramentas de Monitoramento\n",
    "* Uso do LangSmith para rastreamento\n",
    "* Visualização do grafo com Mermaid\n",
    "* Monitoramento de uso de tokens e performance\n",
    "\n",
    "## Aplicações Práticas\n",
    "* Chatbots com memória de longo prazo\n",
    "* Sistemas de conversação otimizados\n",
    "* Processamento eficiente de diálogos extensos\n",
    "\n",
    "Esta estrutura do LangGraph fornece uma base sólida para construir aplicações de conversação complexas e eficientes, com controle granular sobre o gerenciamento de mensagens e estados."
   ]
  },
  {
   "cell_type": "markdown",
   "id": "e8b90687",
   "metadata": {},
   "source": []
  }
 ],
 "metadata": {
  "kernelspec": {
   "display_name": "Python 3 (ipykernel)",
   "language": "python",
   "name": "python3"
  },
  "language_info": {
   "codemirror_mode": {
    "name": "ipython",
    "version": 3
   },
   "file_extension": ".py",
   "mimetype": "text/x-python",
   "name": "python",
   "nbconvert_exporter": "python",
   "pygments_lexer": "ipython3",
   "version": "3.12.5"
  }
 },
 "nbformat": 4,
 "nbformat_minor": 5
}
