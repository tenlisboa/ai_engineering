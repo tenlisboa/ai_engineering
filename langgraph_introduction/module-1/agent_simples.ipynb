{
 "cells": [
  {
   "cell_type": "markdown",
   "id": "a0485c2e",
   "metadata": {},
   "source": [
    "# Agente Simples com Roteamento\n",
    "\n",
    "## Visão Gerão\n",
    "\n",
    "\n",
    "* Nosso modelo de chat decidirá fazer ou não uma chamada de ferramenta com base na entrada do usuário\n",
    "* Usamos uma aresta condicional para rotear para um nó que chamará nossa ferramenta ou simplesmente terminará\n",
    "\n",
    "![Screenshot 2024-08-21 at 12.44.33 PM.png](https://cdn.prod.website-files.com/65b8cd72835ceeacd4449a53/66dbac0ba0bd34b541c448cc_agent1.png)\n",
    "\n",
    "## Objetivos\n",
    "\n",
    "Agora, podemos estender isso para uma arquitetura de agente genérica.\n",
    "\n",
    "No roteador acima, invocamos o modelo e, se ele escolheu chamar uma ferramenta, retornamos uma `ToolMessage` para o usuário.\n",
    " \n",
    "Mas, e se simplesmente passarmos essa `ToolMessage` *de volta para o modelo*?\n",
    "\n",
    "Podemos deixá-lo (1) chamar outra ferramenta ou (2) responder diretamente.\n",
    "\n",
    "Esta é a intuição por trás do [ReAct](https://react-lm.github.io/), uma arquitetura de agente geral.\n",
    "  \n",
    "* `act` - deixe o modelo chamar ferramentas específicas \n",
    "* `observe` - passe a saída da ferramenta de volta para o modelo \n",
    "* `reason` - deixe o modelo raciocinar sobre a saída da ferramenta para decidir o que fazer a seguir (por exemplo, chamar outra ferramenta ou apenas responder diretamente)\n",
    "\n",
    "Esta [arquitetura de propósito geral](https://blog.langchain.dev/planning-for-agents/) pode ser aplicada a muitos tipos de ferramentas. \n",
    "\n",
    "![Screenshot 2024-08-21 at 12.45.43 PM.png](https://cdn.prod.website-files.com/65b8cd72835ceeacd4449a53/66dbac0b4a2c1e5e02f3e78b_agent2.png)"
   ]
  },
  {
   "cell_type": "code",
   "execution_count": 14,
   "id": "63edff5a-724b-474d-9db8-37f0ae936c76",
   "metadata": {},
   "outputs": [],
   "source": [
    "\n",
    "%%capture --no-stderr\n",
    "%pip install --quiet -U langchain_openai langchain_core langgraph"
   ]
  },
  {
   "cell_type": "code",
   "execution_count": 7,
   "id": "356a6482",
   "metadata": {},
   "outputs": [],
   "source": [
    "# Configuração de variáveis de ambiente\n",
    "import os, getpass\n",
    "\n",
    "def _set_env(var: str):\n",
    "    if not os.environ.get(var):\n",
    "        os.environ[var] = getpass.getpass(f\"{var}: \")\n",
    "\n",
    "_set_env(\"OPENAI_API_KEY\")"
   ]
  },
  {
   "cell_type": "markdown",
   "id": "dba35a12",
   "metadata": {},
   "source": [
    "Vamos usar o conhecido Langsmith para [tracing](https://docs.smith.langchain.com/concepts/tracing).\n",
    "# \n",
    "Agora vamos logar no LangSmith, `scoras-academy`. "
   ]
  },
  {
   "cell_type": "code",
   "execution_count": 8,
   "id": "60e6f1eb",
   "metadata": {},
   "outputs": [],
   "source": [
    "_set_env(\"LANGCHAIN_API_KEY\")\n",
    "os.environ[\"LANGCHAIN_TRACING_V2\"] = \"true\"\n",
    "os.environ[\"LANGCHAIN_PROJECT\"] = \"scoras-academy\""
   ]
  },
  {
   "cell_type": "code",
   "execution_count": 9,
   "id": "71795ff1-d6a7-448d-8b55-88bbd1ed3dbe",
   "metadata": {},
   "outputs": [],
   "source": [
    "from langchain_openai import ChatOpenAI\n",
    "\n",
    "def multiply(a: int, b: int) -> int:\n",
    "    \"\"\"Multiplica a e b.\n",
    "\n",
    "    Args:\n",
    "        a: primeiro int\n",
    "        b: segundo int\n",
    "    \"\"\"\n",
    "    return a * b\n",
    "\n",
    "\n",
    "# Essa função será uma ferramenta\n",
    "def add(a: int, b: int) -> int:\n",
    "    \"\"\"Soma a e b.\n",
    "\n",
    "    Args:\n",
    "        a: primeiro int\n",
    "        b: segundo int\n",
    "    \"\"\"\n",
    "    return a + b\n",
    "\n",
    "def divide(a: int, b: int) -> float:\n",
    "    \"\"\"Divide a por b.\n",
    "\n",
    "    Args:\n",
    "        a: primeiro int\n",
    "        b: segundo int\n",
    "    \"\"\"\n",
    "    return a / b\n",
    "\n",
    "tools = [add, multiply, divide]\n",
    "llm = ChatOpenAI(model=\"gpt-4o\")\n",
    "llm_with_tools = llm.bind_tools(tools)"
   ]
  },
  {
   "cell_type": "markdown",
   "id": "a2cec014-3023-405c-be79-de8fc7adb346",
   "metadata": {},
   "source": [
    "Vamos criar nosso LLM e pedir para ele se comportar como um agente.\n"
   ]
  },
  {
   "cell_type": "code",
   "execution_count": 10,
   "id": "d061813f-ebc0-432c-91ec-3b42b15c30b6",
   "metadata": {},
   "outputs": [],
   "source": [
    "from langgraph.graph import MessagesState\n",
    "from langchain_core.messages import HumanMessage, SystemMessage\n",
    "\n",
    "\n",
    "   # Mensagem de sistema\n",
    "sys_msg = SystemMessage(content=\"Você é um assistente solicito e gentil que faz contas.\")\n",
    "\n",
    "# Nó\n",
    "def assistant(state: MessagesState):\n",
    "   return {\"messages\": [llm_with_tools.invoke([sys_msg] + state[\"messages\"])]}"
   ]
  },
  {
   "cell_type": "markdown",
   "id": "4eb43343-9a6f-42cb-86e6-4380f928633c",
   "metadata": {},
   "source": [
    "Como antes, usamos `MessagesState` e definimos um nó `Tools` com nossa lista de ferramentas.\n",
    "\n",
    "O nó `Assistant` é apenas nosso modelo com as ferramentas vinculadas.\n",
    "\n",
    "Criamos um grafo com os nós `Assistant` e `Tools`.\n",
    "\n",
    "Adicionamos a aresta `tools_condition`, que direciona para `End` ou para `Tools` com base em se o `Assistant` chama uma ferramenta ou não.\n",
    "\n",
    "Agora, adicionamos uma nova etapa:\n",
    "\n",
    "Conectamos o nó `Tools` *de volta* ao `Assistant`, formando um loop.\n",
    "\n",
    "* Após a execução do nó `assistant`, `tools_condition` verifica se a saída do modelo é uma chamada de ferramenta.\n",
    "* Se for uma chamada de ferramenta, o fluxo é direcionado para o nó `tools`.\n",
    "* O nó `tools` se conecta de volta ao `assistant`.\n",
    "* Este loop continua enquanto o modelo decidir chamar ferramentas.\n",
    "* Se a resposta do modelo não for uma chamada de ferramenta, o fluxo é direcionado para END, terminando o processo."
   ]
  },
  {
   "cell_type": "code",
   "execution_count": 11,
   "id": "aef13cd4-05a6-4084-a620-2e7b91d9a72f",
   "metadata": {},
   "outputs": [
    {
     "data": {
      "image/jpeg": "[encoded data removed]",
      "text/plain": [
       "<IPython.core.display.Image object>"
      ]
     },
     "metadata": {},
     "output_type": "display_data"
    }
   ],
   "source": [
    "from langgraph.graph import START, StateGraph\n",
    "from langgraph.prebuilt import tools_condition\n",
    "from langgraph.prebuilt import ToolNode\n",
    "from IPython.display import Image, display\n",
    "\n",
    "\n",
    "# Todos os nós precisam estar definidos antes de criar o grafo\n",
    "tools = [add, multiply, divide]  \n",
    "\n",
    "# Criando o grafo\n",
    "builder = StateGraph(MessagesState)\n",
    "\n",
    "# Adicionando nós\n",
    "builder.add_node(\"assistant\", assistant)\n",
    "builder.add_node(\"tools\", ToolNode(tools))\n",
    "\n",
    "# Adicionando arestas: essas determinam como o fluxo de controle se move\n",
    "builder.add_edge(START, \"assistant\")\n",
    "builder.add_conditional_edges(\n",
    "    \"assistant\",\n",
    "    # Se a última mensagem (resultado) do assistente é uma chamada de ferramenta -> tools_condition roteia para ferramentas\n",
    "    # Se a última mensagem (resultado) do assistente não é uma chamada de ferramenta -> tools_condition roteia para END\n",
    "    tools_condition,\n",
    ")\n",
    "builder.add_edge(\"tools\", \"assistant\")\n",
    "react_graph = builder.compile()\n",
    "\n",
    "# Mostrando o grafo\n",
    "display(Image(react_graph.get_graph(xray=True).draw_mermaid_png()))"
   ]
  },
  {
   "cell_type": "code",
   "execution_count": 12,
   "id": "75602459-d8ca-47b4-9518-3f38343ebfe4",
   "metadata": {},
   "outputs": [],
   "source": [
    "messages = [HumanMessage(content=\"Soma 3 e 4, depois multiplica por 2, e finalmente divide por 5\")]\n",
    "messages = react_graph.invoke({\"messages\": messages})"
   ]
  },
  {
   "cell_type": "code",
   "execution_count": 13,
   "id": "b517142d-c40c-48bf-a5b8-c8409427aa79",
   "metadata": {},
   "outputs": [
    {
     "name": "stdout",
     "output_type": "stream",
     "text": [
      "================================\u001b[1m Human Message \u001b[0m=================================\n",
      "\n",
      "Soma 3 e 4, depois multiplica por 2, e finalmente divide por 5\n",
      "==================================\u001b[1m Ai Message \u001b[0m==================================\n",
      "Tool Calls:\n",
      "  add (call_sPVog4J2N2oOImrIuqC5ZfG2)\n",
      " Call ID: call_sPVog4J2N2oOImrIuqC5ZfG2\n",
      "  Args:\n",
      "    a: 3\n",
      "    b: 4\n",
      "  multiply (call_MFVQDgnYGjfG6g5oZuEM8I04)\n",
      " Call ID: call_MFVQDgnYGjfG6g5oZuEM8I04\n",
      "  Args:\n",
      "    a: 2\n",
      "    b: 2\n",
      "=================================\u001b[1m Tool Message \u001b[0m=================================\n",
      "Name: add\n",
      "\n",
      "7\n",
      "=================================\u001b[1m Tool Message \u001b[0m=================================\n",
      "Name: multiply\n",
      "\n",
      "4\n",
      "==================================\u001b[1m Ai Message \u001b[0m==================================\n",
      "Tool Calls:\n",
      "  multiply (call_q8lOXNsW5EHgcXU8GFJSS39T)\n",
      " Call ID: call_q8lOXNsW5EHgcXU8GFJSS39T\n",
      "  Args:\n",
      "    a: 7\n",
      "    b: 2\n",
      "=================================\u001b[1m Tool Message \u001b[0m=================================\n",
      "Name: multiply\n",
      "\n",
      "14\n",
      "==================================\u001b[1m Ai Message \u001b[0m==================================\n",
      "Tool Calls:\n",
      "  divide (call_KKHEihf9YJ2CeqjoC6snzQj4)\n",
      " Call ID: call_KKHEihf9YJ2CeqjoC6snzQj4\n",
      "  Args:\n",
      "    a: 14\n",
      "    b: 5\n",
      "=================================\u001b[1m Tool Message \u001b[0m=================================\n",
      "Name: divide\n",
      "\n",
      "2.8\n",
      "==================================\u001b[1m Ai Message \u001b[0m==================================\n",
      "\n",
      "A soma de 3 e 4 é 7. Multiplicando 7 por 2, obtemos 14. Finalmente, dividindo 14 por 5, temos 2,8.\n"
     ]
    }
   ],
   "source": [
    "for m in messages['messages']:\n",
    "    m.pretty_print()"
   ]
  },
  {
   "cell_type": "markdown",
   "id": "ad869f22-9bfb-4cbe-9f30-8a307c5cdda2",
   "metadata": {},
   "source": [
    "## LangSmith\n",
    "\n",
    "Podemos olhar os traces no LangSmith."
   ]
  },
  {
   "cell_type": "markdown",
   "id": "1de5e68e",
   "metadata": {},
   "source": []
  },
  {
   "cell_type": "markdown",
   "id": "faea12f9",
   "metadata": {},
   "source": []
  },
  {
   "cell_type": "markdown",
   "id": "2ce0e39f",
   "metadata": {},
   "source": []
  },
  {
   "cell_type": "markdown",
   "id": "d000023e",
   "metadata": {},
   "source": []
  },
  {
   "cell_type": "markdown",
   "id": "da5af592",
   "metadata": {},
   "source": []
  }
 ],
 "metadata": {
  "kernelspec": {
   "display_name": "Python 3 (ipykernel)",
   "language": "python",
   "name": "python3"
  },
  "language_info": {
   "codemirror_mode": {
    "name": "ipython",
    "version": 3
   },
   "file_extension": ".py",
   "mimetype": "text/x-python",
   "name": "python",
   "nbconvert_exporter": "python",
   "pygments_lexer": "ipython3",
   "version": "3.12.5"
  }
 },
 "nbformat": 4,
 "nbformat_minor": 5
}
