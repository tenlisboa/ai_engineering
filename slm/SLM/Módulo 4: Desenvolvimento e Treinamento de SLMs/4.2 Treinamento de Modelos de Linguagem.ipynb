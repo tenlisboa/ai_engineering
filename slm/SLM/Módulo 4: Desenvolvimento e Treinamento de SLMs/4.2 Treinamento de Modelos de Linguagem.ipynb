{
 "cells": [
  {
   "cell_type": "markdown",
   "metadata": {},
   "source": [
    "\n",
    "# Bibliotecas Necessárias para o Jupyter Notebook\n",
    "\n",
    "Para rodar este Jupyter Notebook com sucesso, você precisa instalar as seguintes bibliotecas:\n",
    "\n",
    "1. transformers\n",
    "2. scikit-learn\n",
    "3. torch (PyTorch)\n",
    "4. accelerate\n",
    "\n",
    "## Instalação\n",
    "\n",
    "Você pode instalar todas essas bibliotecas com um único comando pip:\n"
   ]
  },
  {
   "cell_type": "code",
   "execution_count": 6,
   "metadata": {},
   "outputs": [],
   "source": [
    "\n",
    "#Descomente para instalar as bibliotecas pela primeira vez\n",
    "#!pip install transformers[torch] scikit-learn accelerate"
   ]
  },
  {
   "cell_type": "markdown",
   "metadata": {},
   "source": [
    "\n",
    "Este comando fará o seguinte:\n",
    "\n",
    "- Instala a biblioteca `transformers` com suporte para PyTorch\n",
    "- Instala o PyTorch (`torch`)\n",
    "- Instala o `scikit-learn` para funções de divisão de dados\n",
    "- Instala o `accelerate`, necessário para usar o `Trainer` com PyTorch\n",
    "\n",
    "## Importante\n",
    "\n",
    "Após executar este comando de instalação, você deve reiniciar o kernel do Jupyter Notebook para garantir que todas as bibliotecas sejam carregadas corretamente.\n",
    "\n",
    "## Funcionalidades Habilitadas\n",
    "\n",
    "Com estas bibliotecas instaladas, você será capaz de:\n",
    "\n",
    "- Carregar e usar modelos e tokenizadores do DistilBERT\n",
    "- Realizar a divisão de dados de treino e teste\n",
    "- Criar e treinar o modelo usando o `Trainer` do Hugging Face\n",
    "- Avaliar o modelo treinado\n",
    "\n",
    "## Nota\n",
    "\n",
    "Se você estiver usando um ambiente virtual ou conda, certifique-se de ativá-lo antes de instalar estas bibliotecas e executar o notebook."
   ]
  },
  {
   "cell_type": "markdown",
   "metadata": {},
   "source": []
  },
  {
   "cell_type": "code",
   "execution_count": null,
   "metadata": {},
   "outputs": [],
   "source": [
    "#!pip install transformers[torch] scikit-learn accelerate"
   ]
  },
  {
   "cell_type": "markdown",
   "metadata": {},
   "source": [
    "\n",
    "Este comando fará o seguinte:\n",
    "\n",
    "- Instala a biblioteca `transformers` com suporte para PyTorch\n",
    "- Instala o PyTorch (`torch`)\n",
    "- Instala o `scikit-learn` para funções de divisão de dados\n",
    "- Instala o `accelerate`, necessário para usar o `Trainer` com PyTorch\n",
    "\n",
    "## Importante\n",
    "\n",
    "Após executar este comando de instalação, você deve reiniciar o kernel do Jupyter Notebook para garantir que todas as bibliotecas sejam carregadas corretamente.\n",
    "\n",
    "## Funcionalidades Habilitadas\n",
    "\n",
    "Com estas bibliotecas instaladas, você será capaz de:\n",
    "\n",
    "- Carregar e usar modelos e tokenizadores do DistilBERT\n",
    "- Realizar a divisão de dados de treino e teste\n",
    "- Criar e treinar o modelo usando o `Trainer` do Hugging Face\n",
    "- Avaliar o modelo treinado\n",
    "\n",
    "## Nota\n",
    "\n",
    "Se você estiver usando um ambiente virtual ou conda (como estamos usanbdo nessa aula), certifique-se de ativá-lo antes de instalar estas bibliotecas e executar o notebook."
   ]
  },
  {
   "cell_type": "code",
   "execution_count": 7,
   "metadata": {},
   "outputs": [
    {
     "name": "stdout",
     "output_type": "stream",
     "text": [
      "2.4.1+cu121\n"
     ]
    }
   ],
   "source": [
    "import torch\n",
    "print(torch.__version__)"
   ]
  },
  {
   "cell_type": "code",
   "execution_count": 3,
   "metadata": {},
   "outputs": [
    {
     "name": "stderr",
     "output_type": "stream",
     "text": [
      "/home/anderson/miniconda3/envs/scoras_academy/lib/python3.12/site-packages/tqdm/auto.py:21: TqdmWarning: IProgress not found. Please update jupyter and ipywidgets. See https://ipywidgets.readthedocs.io/en/stable/user_install.html\n",
      "  from .autonotebook import tqdm as notebook_tqdm\n",
      "Some weights of DistilBertForSequenceClassification were not initialized from the model checkpoint at distilbert-base-uncased and are newly initialized: ['classifier.bias', 'classifier.weight', 'pre_classifier.bias', 'pre_classifier.weight']\n",
      "You should probably TRAIN this model on a down-stream task to be able to use it for predictions and inference.\n",
      "/home/anderson/miniconda3/envs/scoras_academy/lib/python3.12/site-packages/transformers/training_args.py:1545: FutureWarning: `evaluation_strategy` is deprecated and will be removed in version 4.46 of 🤗 Transformers. Use `eval_strategy` instead\n",
      "  warnings.warn(\n",
      "                                             \n",
      "100%|██████████| 4/4 [00:00<00:00,  7.93it/s]"
     ]
    },
    {
     "name": "stdout",
     "output_type": "stream",
     "text": [
      "{'eval_loss': 0.6393745541572571, 'eval_runtime': 0.0532, 'eval_samples_per_second': 18.808, 'eval_steps_per_second': 18.808, 'epoch': 1.0}\n"
     ]
    },
    {
     "name": "stderr",
     "output_type": "stream",
     "text": [
      "                                             \n",
      "100%|██████████| 4/4 [00:01<00:00,  2.35it/s]\n"
     ]
    },
    {
     "name": "stdout",
     "output_type": "stream",
     "text": [
      "{'eval_loss': 0.6681358218193054, 'eval_runtime': 0.0064, 'eval_samples_per_second': 155.685, 'eval_steps_per_second': 155.685, 'epoch': 2.0}\n",
      "{'train_runtime': 1.7034, 'train_samples_per_second': 4.697, 'train_steps_per_second': 2.348, 'train_loss': 0.7418535351753235, 'epoch': 2.0}\n"
     ]
    },
    {
     "name": "stderr",
     "output_type": "stream",
     "text": [
      "100%|██████████| 1/1 [00:00<00:00, 2396.75it/s]\n"
     ]
    },
    {
     "data": {
      "text/plain": [
       "{'eval_loss': 0.6681358218193054,\n",
       " 'eval_runtime': 0.0066,\n",
       " 'eval_samples_per_second': 151.244,\n",
       " 'eval_steps_per_second': 151.244,\n",
       " 'epoch': 2.0}"
      ]
     },
     "execution_count": 3,
     "metadata": {},
     "output_type": "execute_result"
    }
   ],
   "source": [
    "# Importar bibliotecas necessárias\n",
    "from transformers import DistilBertForSequenceClassification, DistilBertTokenizerFast, Trainer, TrainingArguments\n",
    "from sklearn.model_selection import train_test_split\n",
    "import torch\n",
    "\n",
    "# Dados de exemplo\n",
    "textos = [\n",
    "    \"Eu adorei este filme!\",\n",
    "    \"O produto é péssimo, não recomendo.\",\n",
    "    \"Excelente qualidade e ótimo atendimento.\",\n",
    "    \"Não gostei, esperava mais.\",\n",
    "    \"Maravilhoso, superou minhas expectativas!\"\n",
    "]\n",
    "labels = [1, 0, 1, 0, 1]  # 1 = Positivo, 0 = Negativo\n",
    "\n",
    "# Dividir os dados em treino e validação\n",
    "train_texts, val_texts, train_labels, val_labels = train_test_split(textos, labels, test_size=0.2)\n",
    "\n",
    "# Carregar tokenizer e modelo pré-treinado\n",
    "tokenizer = DistilBertTokenizerFast.from_pretrained('distilbert-base-uncased')\n",
    "model = DistilBertForSequenceClassification.from_pretrained('distilbert-base-uncased')\n",
    "\n",
    "# Tokenização\n",
    "train_encodings = tokenizer(train_texts, truncation=True, padding=True)\n",
    "val_encodings = tokenizer(val_texts, truncation=True, padding=True)\n",
    "\n",
    "# Criar Dataset\n",
    "class SentimentDataset(torch.utils.data.Dataset):\n",
    "    def __init__(self, encodings, labels):\n",
    "        self.encodings = encodings\n",
    "        self.labels = labels\n",
    "    def __getitem__(self, idx):\n",
    "        item = {key: torch.tensor(val[idx]) for key, val in self.encodings.items()}\n",
    "        item['labels'] = torch.tensor(self.labels[idx])\n",
    "        return item\n",
    "    def __len__(self):\n",
    "        return len(self.labels)\n",
    "\n",
    "train_dataset = SentimentDataset(train_encodings, train_labels)\n",
    "val_dataset = SentimentDataset(val_encodings, val_labels)\n",
    "\n",
    "# Configurações de treinamento\n",
    "training_args = TrainingArguments(\n",
    "    output_dir='./results',\n",
    "    num_train_epochs=2,\n",
    "    per_device_train_batch_size=2,\n",
    "    per_device_eval_batch_size=2,\n",
    "    evaluation_strategy='epoch',\n",
    "    logging_dir='./logs',\n",
    "    logging_steps=10,\n",
    ")\n",
    "\n",
    "# Criar trainer\n",
    "trainer = Trainer(\n",
    "    model=model,\n",
    "    args=training_args,\n",
    "    train_dataset=train_dataset,\n",
    "    eval_dataset=val_dataset,\n",
    ")\n",
    "\n",
    "# Treinar o modelo\n",
    "trainer.train()\n",
    "\n",
    "# Avaliar o modelo\n",
    "trainer.evaluate()\n"
   ]
  },
  {
   "cell_type": "markdown",
   "metadata": {},
   "source": [
    "# Análise dos Resultados do Treinamento\n",
    "\n",
    "Após o treinamento do modelo, obtivemos os seguintes resultados:\n",
    "\n",
    "1. **eval_loss: 0.6681358218193054**\n",
    "   - Este é o valor da função de perda (loss) na avaliação final do modelo.\n",
    "   - A perda indica o quão bem o modelo está performando. Quanto menor, melhor.\n",
    "   - Um valor de 0.668 é moderado, sugerindo que o modelo aprendeu algo, mas ainda há espaço para melhorias.\n",
    "\n",
    "2. **eval_runtime: 0.0066**\n",
    "   - Este é o tempo total, em segundos, que levou para avaliar o modelo.\n",
    "   - Um tempo de 0.0066 segundos é muito rápido, indicando que a avaliação foi feita em uma pequena quantidade de dados.\n",
    "\n",
    "3. **eval_samples_per_second: 151.244**\n",
    "   - Indica quantas amostras o modelo pode processar por segundo durante a avaliação.\n",
    "   - Um valor de 151.244 significa que o modelo é capaz de avaliar aproximadamente 151 amostras por segundo.\n",
    "\n",
    "4. **eval_steps_per_second: 151.244**\n",
    "   - Similar ao anterior, mas mede os passos de avaliação por segundo.\n",
    "   - Neste caso, é igual ao número de amostras por segundo, sugerindo que cada passo processa uma amostra.\n",
    "\n",
    "5. **epoch: 2.0**\n",
    "   - Indica que o modelo completou 2 épocas de treinamento.\n",
    "   - Uma época é uma passagem completa por todos os dados de treinamento.\n",
    "\n",
    "## Interpretação Geral\n",
    "\n",
    "- O modelo foi treinado por 2 épocas completas.\n",
    "- A avaliação foi rápida (0.0066 segundos), sugerindo um conjunto de dados pequeno.\n",
    "- A perda de 0.668 indica que o modelo aprendeu padrões nos dados, mas ainda há margem para melhorias.\n",
    "- O modelo é capaz de processar cerca de 151 amostras por segundo durante a avaliação, o que é uma velocidade razoável.\n",
    "\n",
    "Para melhorar o desempenho, você poderia considerar:\n",
    "1. Aumentar o número de épocas de treinamento.\n",
    "2. Usar um conjunto de dados maior.\n",
    "3. Ajustar os hiperparâmetros do modelo.\n",
    "4. Experimentar técnicas de regularização para reduzir o overfitting, se necessário."
   ]
  },
  {
   "cell_type": "markdown",
   "metadata": {},
   "source": [
    "# 5 Tarefas Potenciais para o Modelo DistilBERT Treinado\n",
    "\n",
    "1. **Análise de Sentimentos em Redes Sociais**\n",
    "   - Classificar tweets, posts do Facebook ou comentários do Instagram como positivos, negativos ou neutros.\n",
    "   - Útil para empresas monitorarem a percepção da marca online.\n",
    "\n",
    "2. **Classificação de Feedback de Clientes**\n",
    "   - Categorizar automaticamente avaliações de produtos ou serviços.\n",
    "   - Ajuda empresas a identificar rapidamente áreas de satisfação ou insatisfação dos clientes.\n",
    "\n",
    "3. **Triagem de E-mails**\n",
    "   - Classificar e-mails como spam, importantes, promocionais, etc.\n",
    "   - Pode melhorar a eficiência na gestão de caixas de entrada corporativas.\n",
    "\n",
    "4. **Análise de Títulos de Notícias**\n",
    "   - Categorizar manchetes de notícias por tópico (política, esportes, tecnologia, etc.).\n",
    "   - Útil para agregadores de notícias ou para análise de tendências na mídia.\n",
    "\n",
    "5. **Detecção de Intenção em Chatbots**\n",
    "   - Identificar a intenção do usuário em consultas de chatbot (por exemplo, fazer uma pergunta, solicitar suporte, fazer uma reclamação).\n",
    "   - Melhora a resposta automatizada em sistemas de atendimento ao cliente."
   ]
  },
  {
   "cell_type": "markdown",
   "metadata": {},
   "source": []
  }
 ],
 "metadata": {
  "kernelspec": {
   "display_name": "scoras_academy",
   "language": "python",
   "name": "python3"
  },
  "language_info": {
   "codemirror_mode": {
    "name": "ipython",
    "version": 3
   },
   "file_extension": ".py",
   "mimetype": "text/x-python",
   "name": "python",
   "nbconvert_exporter": "python",
   "pygments_lexer": "ipython3",
   "version": "3.12.5"
  }
 },
 "nbformat": 4,
 "nbformat_minor": 2
}
