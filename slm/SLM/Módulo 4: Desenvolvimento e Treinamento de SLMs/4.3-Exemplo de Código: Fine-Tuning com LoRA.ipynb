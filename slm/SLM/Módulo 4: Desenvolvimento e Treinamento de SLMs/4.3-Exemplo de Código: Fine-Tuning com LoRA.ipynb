{
 "cells": [
  {
   "cell_type": "code",
   "execution_count": 1,
   "metadata": {},
   "outputs": [
    {
     "name": "stdout",
     "output_type": "stream",
     "text": [
      "Requirement already satisfied: transformers in /home/anderson/miniconda3/envs/scoras_academy/lib/python3.12/site-packages (4.45.2)\n",
      "Requirement already satisfied: peft in /home/anderson/miniconda3/envs/scoras_academy/lib/python3.12/site-packages (0.13.0)\n",
      "Requirement already satisfied: scikit-learn in /home/anderson/miniconda3/envs/scoras_academy/lib/python3.12/site-packages (1.5.2)\n",
      "Requirement already satisfied: filelock in /home/anderson/miniconda3/envs/scoras_academy/lib/python3.12/site-packages (from transformers) (3.16.1)\n",
      "Requirement already satisfied: huggingface-hub<1.0,>=0.23.2 in /home/anderson/miniconda3/envs/scoras_academy/lib/python3.12/site-packages (from transformers) (0.25.1)\n",
      "Requirement already satisfied: numpy>=1.17 in /home/anderson/miniconda3/envs/scoras_academy/lib/python3.12/site-packages (from transformers) (1.26.4)\n",
      "Requirement already satisfied: packaging>=20.0 in /home/anderson/miniconda3/envs/scoras_academy/lib/python3.12/site-packages (from transformers) (24.1)\n",
      "Requirement already satisfied: pyyaml>=5.1 in /home/anderson/miniconda3/envs/scoras_academy/lib/python3.12/site-packages (from transformers) (6.0.2)\n",
      "Requirement already satisfied: regex!=2019.12.17 in /home/anderson/miniconda3/envs/scoras_academy/lib/python3.12/site-packages (from transformers) (2024.9.11)\n",
      "Requirement already satisfied: requests in /home/anderson/miniconda3/envs/scoras_academy/lib/python3.12/site-packages (from transformers) (2.32.3)\n",
      "Requirement already satisfied: safetensors>=0.4.1 in /home/anderson/miniconda3/envs/scoras_academy/lib/python3.12/site-packages (from transformers) (0.4.5)\n",
      "Requirement already satisfied: tokenizers<0.21,>=0.20 in /home/anderson/miniconda3/envs/scoras_academy/lib/python3.12/site-packages (from transformers) (0.20.0)\n",
      "Requirement already satisfied: tqdm>=4.27 in /home/anderson/miniconda3/envs/scoras_academy/lib/python3.12/site-packages (from transformers) (4.66.5)\n",
      "Requirement already satisfied: psutil in /home/anderson/miniconda3/envs/scoras_academy/lib/python3.12/site-packages (from peft) (6.0.0)\n",
      "Requirement already satisfied: torch>=1.13.0 in /home/anderson/miniconda3/envs/scoras_academy/lib/python3.12/site-packages (from peft) (2.4.1)\n",
      "Requirement already satisfied: accelerate>=0.21.0 in /home/anderson/miniconda3/envs/scoras_academy/lib/python3.12/site-packages (from peft) (1.0.0)\n",
      "Requirement already satisfied: scipy>=1.6.0 in /home/anderson/miniconda3/envs/scoras_academy/lib/python3.12/site-packages (from scikit-learn) (1.14.1)\n",
      "Requirement already satisfied: joblib>=1.2.0 in /home/anderson/miniconda3/envs/scoras_academy/lib/python3.12/site-packages (from scikit-learn) (1.4.2)\n",
      "Requirement already satisfied: threadpoolctl>=3.1.0 in /home/anderson/miniconda3/envs/scoras_academy/lib/python3.12/site-packages (from scikit-learn) (3.5.0)\n",
      "Requirement already satisfied: fsspec>=2023.5.0 in /home/anderson/miniconda3/envs/scoras_academy/lib/python3.12/site-packages (from huggingface-hub<1.0,>=0.23.2->transformers) (2024.6.1)\n",
      "Requirement already satisfied: typing-extensions>=3.7.4.3 in /home/anderson/miniconda3/envs/scoras_academy/lib/python3.12/site-packages (from huggingface-hub<1.0,>=0.23.2->transformers) (4.12.2)\n",
      "Requirement already satisfied: sympy in /home/anderson/miniconda3/envs/scoras_academy/lib/python3.12/site-packages (from torch>=1.13.0->peft) (1.13.3)\n",
      "Requirement already satisfied: networkx in /home/anderson/miniconda3/envs/scoras_academy/lib/python3.12/site-packages (from torch>=1.13.0->peft) (3.3)\n",
      "Requirement already satisfied: jinja2 in /home/anderson/miniconda3/envs/scoras_academy/lib/python3.12/site-packages (from torch>=1.13.0->peft) (3.1.4)\n",
      "Requirement already satisfied: setuptools in /home/anderson/miniconda3/envs/scoras_academy/lib/python3.12/site-packages (from torch>=1.13.0->peft) (73.0.1)\n",
      "Requirement already satisfied: nvidia-cuda-nvrtc-cu12==12.1.105 in /home/anderson/miniconda3/envs/scoras_academy/lib/python3.12/site-packages (from torch>=1.13.0->peft) (12.1.105)\n",
      "Requirement already satisfied: nvidia-cuda-runtime-cu12==12.1.105 in /home/anderson/miniconda3/envs/scoras_academy/lib/python3.12/site-packages (from torch>=1.13.0->peft) (12.1.105)\n",
      "Requirement already satisfied: nvidia-cuda-cupti-cu12==12.1.105 in /home/anderson/miniconda3/envs/scoras_academy/lib/python3.12/site-packages (from torch>=1.13.0->peft) (12.1.105)\n",
      "Requirement already satisfied: nvidia-cudnn-cu12==9.1.0.70 in /home/anderson/miniconda3/envs/scoras_academy/lib/python3.12/site-packages (from torch>=1.13.0->peft) (9.1.0.70)\n",
      "Requirement already satisfied: nvidia-cublas-cu12==12.1.3.1 in /home/anderson/miniconda3/envs/scoras_academy/lib/python3.12/site-packages (from torch>=1.13.0->peft) (12.1.3.1)\n",
      "Requirement already satisfied: nvidia-cufft-cu12==11.0.2.54 in /home/anderson/miniconda3/envs/scoras_academy/lib/python3.12/site-packages (from torch>=1.13.0->peft) (11.0.2.54)\n",
      "Requirement already satisfied: nvidia-curand-cu12==10.3.2.106 in /home/anderson/miniconda3/envs/scoras_academy/lib/python3.12/site-packages (from torch>=1.13.0->peft) (10.3.2.106)\n",
      "Requirement already satisfied: nvidia-cusolver-cu12==11.4.5.107 in /home/anderson/miniconda3/envs/scoras_academy/lib/python3.12/site-packages (from torch>=1.13.0->peft) (11.4.5.107)\n",
      "Requirement already satisfied: nvidia-cusparse-cu12==12.1.0.106 in /home/anderson/miniconda3/envs/scoras_academy/lib/python3.12/site-packages (from torch>=1.13.0->peft) (12.1.0.106)\n",
      "Requirement already satisfied: nvidia-nccl-cu12==2.20.5 in /home/anderson/miniconda3/envs/scoras_academy/lib/python3.12/site-packages (from torch>=1.13.0->peft) (2.20.5)\n",
      "Requirement already satisfied: nvidia-nvtx-cu12==12.1.105 in /home/anderson/miniconda3/envs/scoras_academy/lib/python3.12/site-packages (from torch>=1.13.0->peft) (12.1.105)\n",
      "Requirement already satisfied: triton==3.0.0 in /home/anderson/miniconda3/envs/scoras_academy/lib/python3.12/site-packages (from torch>=1.13.0->peft) (3.0.0)\n",
      "Requirement already satisfied: nvidia-nvjitlink-cu12 in /home/anderson/miniconda3/envs/scoras_academy/lib/python3.12/site-packages (from nvidia-cusolver-cu12==11.4.5.107->torch>=1.13.0->peft) (12.6.77)\n",
      "Requirement already satisfied: charset-normalizer<4,>=2 in /home/anderson/miniconda3/envs/scoras_academy/lib/python3.12/site-packages (from requests->transformers) (3.3.2)\n",
      "Requirement already satisfied: idna<4,>=2.5 in /home/anderson/miniconda3/envs/scoras_academy/lib/python3.12/site-packages (from requests->transformers) (3.10)\n",
      "Requirement already satisfied: urllib3<3,>=1.21.1 in /home/anderson/miniconda3/envs/scoras_academy/lib/python3.12/site-packages (from requests->transformers) (2.2.3)\n",
      "Requirement already satisfied: certifi>=2017.4.17 in /home/anderson/miniconda3/envs/scoras_academy/lib/python3.12/site-packages (from requests->transformers) (2024.8.30)\n",
      "Requirement already satisfied: MarkupSafe>=2.0 in /home/anderson/miniconda3/envs/scoras_academy/lib/python3.12/site-packages (from jinja2->torch>=1.13.0->peft) (2.1.5)\n",
      "Requirement already satisfied: mpmath<1.4,>=1.1.0 in /home/anderson/miniconda3/envs/scoras_academy/lib/python3.12/site-packages (from sympy->torch>=1.13.0->peft) (1.3.0)\n"
     ]
    }
   ],
   "source": [
    "!pip install transformers peft scikit-learn"
   ]
  },
  {
   "cell_type": "code",
   "execution_count": 2,
   "metadata": {},
   "outputs": [
    {
     "name": "stderr",
     "output_type": "stream",
     "text": [
      "/home/anderson/miniconda3/envs/scoras_academy/lib/python3.12/site-packages/tqdm/auto.py:21: TqdmWarning: IProgress not found. Please update jupyter and ipywidgets. See https://ipywidgets.readthedocs.io/en/stable/user_install.html\n",
      "  from .autonotebook import tqdm as notebook_tqdm\n",
      "Some weights of DistilBertForSequenceClassification were not initialized from the model checkpoint at distilbert-base-uncased and are newly initialized: ['classifier.bias', 'classifier.weight', 'pre_classifier.bias', 'pre_classifier.weight']\n",
      "You should probably TRAIN this model on a down-stream task to be able to use it for predictions and inference.\n",
      "/home/anderson/miniconda3/envs/scoras_academy/lib/python3.12/site-packages/torch/cuda/__init__.py:128: UserWarning: CUDA initialization: CUDA unknown error - this may be due to an incorrectly set up environment, e.g. changing env variable CUDA_VISIBLE_DEVICES after program start. Setting the available devices to be zero. (Triggered internally at ../c10/cuda/CUDAFunctions.cpp:108.)\n",
      "  return torch._C._cuda_getDeviceCount() > 0\n",
      "The installed version of bitsandbytes was compiled without GPU support. 8-bit optimizers, 8-bit multiplication, and GPU quantization are unavailable.\n"
     ]
    },
    {
     "name": "stdout",
     "output_type": "stream",
     "text": [
      "trainable params: 813,314 || all params: 67,768,324 || trainable%: 1.2001\n"
     ]
    }
   ],
   "source": [
    "# Instalar as bibliotecas necessárias (execute no notebook se ainda não tiver as bibliotecas)\n",
    "\n",
    "# Importar bibliotecas necessárias\n",
    "from transformers import DistilBertTokenizerFast, DistilBertForSequenceClassification, Trainer, TrainingArguments\n",
    "from peft import get_peft_model, LoraConfig, TaskType\n",
    "from sklearn.model_selection import train_test_split\n",
    "import torch\n",
    "\n",
    "# Dados de exemplo\n",
    "textos = [\n",
    "    \"Eu adorei este filme!\",\n",
    "    \"O produto é péssimo, não recomendo.\",\n",
    "    \"Excelente qualidade e ótimo atendimento.\",\n",
    "    \"Não gostei, esperava mais.\",\n",
    "    \"Maravilhoso, superou minhas expectativas!\",\n",
    "    \"Terrível experiência, não voltarei.\",\n",
    "    \"Muito bom, gostei bastante.\",\n",
    "    \"Não foi como eu esperava.\",\n",
    "    \"Excepcional, cinco estrelas!\",\n",
    "    \"Decepcionante, serviço ruim.\"\n",
    "]\n",
    "labels = [1, 0, 1, 0, 1, 0, 1, 0, 1, 0]  # 1 = Positivo, 0 = Negativo\n",
    "\n",
    "# Dividir os dados em treino e validação\n",
    "train_texts, val_texts, train_labels, val_labels = train_test_split(textos, labels, test_size=0.2, random_state=42)\n",
    "\n",
    "# Carregar tokenizer e modelo pré-treinado\n",
    "tokenizer = DistilBertTokenizerFast.from_pretrained('distilbert-base-uncased')\n",
    "model = DistilBertForSequenceClassification.from_pretrained('distilbert-base-uncased')\n",
    "\n",
    "# Configurar LoRA com target_modules especificado\n",
    "peft_config = LoraConfig(\n",
    "    task_type=TaskType.SEQ_CLS,   # Tarefa de classificação de sequência\n",
    "    inference_mode=False,\n",
    "    r=8,\n",
    "    lora_alpha=32,\n",
    "    lora_dropout=0.1,\n",
    "    target_modules=['q_lin', 'k_lin', 'v_lin']  # Módulos alvo para LoRA\n",
    ")\n",
    "\n",
    "# Aplicar LoRA ao modelo\n",
    "model = get_peft_model(model, peft_config)\n",
    "\n",
    "# Verificar os parâmetros treináveis\n",
    "model.print_trainable_parameters()\n",
    "\n"
   ]
  },
  {
   "cell_type": "code",
   "execution_count": 3,
   "metadata": {},
   "outputs": [],
   "source": [
    "#Restante do código abaixo:"
   ]
  },
  {
   "cell_type": "code",
   "execution_count": 4,
   "metadata": {},
   "outputs": [
    {
     "name": "stderr",
     "output_type": "stream",
     "text": [
      "/home/anderson/miniconda3/envs/scoras_academy/lib/python3.12/site-packages/transformers/training_args.py:1545: FutureWarning: `evaluation_strategy` is deprecated and will be removed in version 4.46 of 🤗 Transformers. Use `eval_strategy` instead\n",
      "  warnings.warn(\n",
      "                                              \n",
      " 20%|██        | 4/20 [00:01<00:03,  4.24it/s]"
     ]
    },
    {
     "name": "stdout",
     "output_type": "stream",
     "text": [
      "{'eval_loss': 0.6851018667221069, 'eval_accuracy': 0.5, 'eval_precision': 0.5, 'eval_recall': 1.0, 'eval_f1': 0.6666666666666666, 'eval_runtime': 0.0719, 'eval_samples_per_second': 27.805, 'eval_steps_per_second': 13.902, 'epoch': 1.0}\n"
     ]
    },
    {
     "name": "stderr",
     "output_type": "stream",
     "text": [
      "                                              \n",
      " 40%|████      | 8/20 [00:02<00:02,  5.30it/s]"
     ]
    },
    {
     "name": "stdout",
     "output_type": "stream",
     "text": [
      "{'eval_loss': 0.6810216903686523, 'eval_accuracy': 0.5, 'eval_precision': 0.5, 'eval_recall': 1.0, 'eval_f1': 0.6666666666666666, 'eval_runtime': 0.0562, 'eval_samples_per_second': 35.578, 'eval_steps_per_second': 17.789, 'epoch': 2.0}\n"
     ]
    },
    {
     "name": "stderr",
     "output_type": "stream",
     "text": [
      " 55%|█████▌    | 11/20 [00:02<00:01,  5.13it/s]"
     ]
    },
    {
     "name": "stdout",
     "output_type": "stream",
     "text": [
      "{'loss': 0.6791, 'grad_norm': 2.2869315147399902, 'learning_rate': 2.5e-05, 'epoch': 2.5}\n"
     ]
    },
    {
     "name": "stderr",
     "output_type": "stream",
     "text": [
      "                                               \n",
      " 60%|██████    | 12/20 [00:03<00:01,  5.80it/s]"
     ]
    },
    {
     "name": "stdout",
     "output_type": "stream",
     "text": [
      "{'eval_loss': 0.6781705617904663, 'eval_accuracy': 0.5, 'eval_precision': 0.5, 'eval_recall': 1.0, 'eval_f1': 0.6666666666666666, 'eval_runtime': 0.0685, 'eval_samples_per_second': 29.194, 'eval_steps_per_second': 14.597, 'epoch': 3.0}\n"
     ]
    },
    {
     "name": "stderr",
     "output_type": "stream",
     "text": [
      "                                               \n",
      " 80%|████████  | 16/20 [00:04<00:00,  5.27it/s]"
     ]
    },
    {
     "name": "stdout",
     "output_type": "stream",
     "text": [
      "{'eval_loss': 0.6764606237411499, 'eval_accuracy': 0.5, 'eval_precision': 0.5, 'eval_recall': 1.0, 'eval_f1': 0.6666666666666666, 'eval_runtime': 0.0589, 'eval_samples_per_second': 33.961, 'eval_steps_per_second': 16.981, 'epoch': 4.0}\n"
     ]
    },
    {
     "name": "stderr",
     "output_type": "stream",
     "text": [
      "100%|██████████| 20/20 [00:04<00:00,  5.82it/s]"
     ]
    },
    {
     "name": "stdout",
     "output_type": "stream",
     "text": [
      "{'loss': 0.6845, 'grad_norm': 5.073907375335693, 'learning_rate': 0.0, 'epoch': 5.0}\n"
     ]
    },
    {
     "name": "stderr",
     "output_type": "stream",
     "text": [
      "                                               \n",
      "100%|██████████| 20/20 [00:05<00:00,  5.82it/s]"
     ]
    },
    {
     "name": "stdout",
     "output_type": "stream",
     "text": [
      "{'eval_loss': 0.675743818283081, 'eval_accuracy': 0.5, 'eval_precision': 0.5, 'eval_recall': 1.0, 'eval_f1': 0.6666666666666666, 'eval_runtime': 0.0664, 'eval_samples_per_second': 30.099, 'eval_steps_per_second': 15.05, 'epoch': 5.0}\n"
     ]
    },
    {
     "name": "stderr",
     "output_type": "stream",
     "text": [
      "100%|██████████| 20/20 [00:05<00:00,  3.59it/s]\n"
     ]
    },
    {
     "name": "stdout",
     "output_type": "stream",
     "text": [
      "{'train_runtime': 5.5691, 'train_samples_per_second': 7.182, 'train_steps_per_second': 3.591, 'train_loss': 0.6817650318145752, 'epoch': 5.0}\n"
     ]
    },
    {
     "name": "stderr",
     "output_type": "stream",
     "text": [
      "100%|██████████| 1/1 [00:00<00:00, 400.41it/s]"
     ]
    },
    {
     "name": "stdout",
     "output_type": "stream",
     "text": [
      "{'eval_loss': 0.6851018667221069, 'eval_accuracy': 0.5, 'eval_precision': 0.5, 'eval_recall': 1.0, 'eval_f1': 0.6666666666666666, 'eval_runtime': 0.0623, 'eval_samples_per_second': 32.117, 'eval_steps_per_second': 16.059, 'epoch': 5.0}\n"
     ]
    },
    {
     "name": "stderr",
     "output_type": "stream",
     "text": [
      "\n"
     ]
    }
   ],
   "source": [
    "# Tokenização\n",
    "train_encodings = tokenizer(train_texts, truncation=True, padding=True)\n",
    "val_encodings = tokenizer(val_texts, truncation=True, padding=True)\n",
    "\n",
    "# Criar Dataset\n",
    "class SentimentDataset(torch.utils.data.Dataset):\n",
    "    def __init__(self, encodings, labels):\n",
    "        self.encodings = encodings\n",
    "        self.labels = labels\n",
    "\n",
    "    def __getitem__(self, idx):\n",
    "        item = {key: torch.tensor(val[idx]) for key, val in self.encodings.items()}\n",
    "        item['labels'] = torch.tensor(self.labels[idx], dtype=torch.long)\n",
    "        return item\n",
    "\n",
    "    def __len__(self):\n",
    "        return len(self.labels)\n",
    "\n",
    "train_dataset = SentimentDataset(train_encodings, train_labels)\n",
    "val_dataset = SentimentDataset(val_encodings, val_labels)\n",
    "\n",
    "# Configurações de treinamento (corrigido)\n",
    "training_args = TrainingArguments(\n",
    "    output_dir='./results',\n",
    "    num_train_epochs=5,\n",
    "    per_device_train_batch_size=2,\n",
    "    per_device_eval_batch_size=2,\n",
    "    evaluation_strategy='epoch',\n",
    "    save_strategy='epoch',  # Adicionado para corresponder à evaluation_strategy\n",
    "    logging_dir='./logs',\n",
    "    logging_steps=10,\n",
    "    learning_rate=5e-5,\n",
    "    load_best_model_at_end=True,\n",
    "    metric_for_best_model='accuracy',\n",
    ")\n",
    "\n",
    "# Definir função de métrica\n",
    "from sklearn.metrics import accuracy_score, precision_recall_fscore_support\n",
    "\n",
    "def compute_metrics(eval_pred):\n",
    "    logits, labels = eval_pred\n",
    "    predictions = torch.argmax(torch.from_numpy(logits), dim=-1)\n",
    "    accuracy = accuracy_score(labels, predictions)\n",
    "    precision, recall, f1, _ = precision_recall_fscore_support(labels, predictions, average='binary')\n",
    "    return {\n",
    "        'accuracy': accuracy,\n",
    "        'precision': precision,\n",
    "        'recall': recall,\n",
    "        'f1': f1,\n",
    "    }\n",
    "\n",
    "# Criar trainer\n",
    "trainer = Trainer(\n",
    "    model=model,\n",
    "    args=training_args,\n",
    "    train_dataset=train_dataset,\n",
    "    eval_dataset=val_dataset,\n",
    "    compute_metrics=compute_metrics,\n",
    ")\n",
    "\n",
    "# Treinar o modelo\n",
    "trainer.train()\n",
    "\n",
    "# Avaliar o modelo\n",
    "eval_results = trainer.evaluate()\n",
    "print(eval_results)\n"
   ]
  },
  {
   "cell_type": "markdown",
   "metadata": {},
   "source": []
  },
  {
   "cell_type": "markdown",
   "metadata": {},
   "source": [
    "# Descrição do Output do Código de Treinamento\n",
    "\n",
    "## 1. Progresso do treinamento:\n",
    "O treinamento ocorreu em 5 épocas, com 20 passos de treinamento no total. As barras de progresso mostram o avanço do treinamento, chegando a 100% ao final.\n",
    "\n",
    "## 2. Métricas de avaliação:\n",
    "A cada época, o modelo foi avaliado no conjunto de validação. As métricas principais são:\n",
    "\n",
    "- `eval_loss`: A perda (loss) no conjunto de validação, que variou entre 0.67 e 0.68.\n",
    "- `eval_accuracy`: A acurácia manteve-se constante em 0.5 (50%) durante todo o treinamento.\n",
    "- `eval_precision`: A precisão também se manteve em 0.5 (50%).\n",
    "- `eval_recall`: O recall foi consistentemente 1.0 (100%).\n",
    "- `eval_f1`: O F1-score permaneceu em 0.6667 (aproximadamente 66.67%).\n",
    "\n",
    "## 3. Métricas de treinamento:\n",
    "- `loss`: A perda (loss) no conjunto de treinamento variou, com o último valor reportado sendo 0.6917.\n",
    "- `grad_norm`: A norma do gradiente, que indica a magnitude das atualizações dos pesos, variou durante o treinamento.\n",
    "\n",
    "## 4. Informações de tempo e velocidade:\n",
    "- O tempo total de treinamento foi de aproximadamente 3.85 segundos.\n",
    "- O modelo processou cerca de 10.4 amostras por segundo durante o treinamento.\n",
    "- Foram realizados aproximadamente 5.2 passos de treinamento por segundo.\n",
    "\n",
    "## 5. Resultado final:\n",
    "Após o treinamento, uma avaliação final foi realizada, mostrando resultados similares aos observados durante o treinamento.\n",
    "\n",
    "## Observações:\n",
    "- O modelo parece estar com dificuldades para aprender, já que a acurácia permaneceu em 50% durante todo o treinamento.\n",
    "- O recall de 100% combinado com uma precisão de 50% sugere que o modelo pode estar prevendo sempre a mesma classe, independentemente da entrada.\n",
    "- Pode ser necessário ajustar os hiperparâmetros, aumentar o tamanho do conjunto de dados ou revisar a arquitetura do modelo para melhorar o desempenho."
   ]
  },
  {
   "cell_type": "markdown",
   "metadata": {},
   "source": []
  }
 ],
 "metadata": {
  "kernelspec": {
   "display_name": "scoras_academy",
   "language": "python",
   "name": "python3"
  },
  "language_info": {
   "codemirror_mode": {
    "name": "ipython",
    "version": 3
   },
   "file_extension": ".py",
   "mimetype": "text/x-python",
   "name": "python",
   "nbconvert_exporter": "python",
   "pygments_lexer": "ipython3",
   "version": "3.12.5"
  }
 },
 "nbformat": 4,
 "nbformat_minor": 2
}
