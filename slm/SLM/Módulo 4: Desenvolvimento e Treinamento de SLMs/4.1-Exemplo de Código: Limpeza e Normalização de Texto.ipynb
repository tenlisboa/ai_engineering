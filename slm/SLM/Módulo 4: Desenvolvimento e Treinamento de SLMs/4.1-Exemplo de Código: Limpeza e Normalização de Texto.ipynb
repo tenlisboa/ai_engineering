{
 "cells": [
  {
   "cell_type": "code",
   "execution_count": 5,
   "metadata": {},
   "outputs": [
    {
     "name": "stdout",
     "output_type": "stream",
     "text": [
      "Textos Limpos:\n",
      "olá mundo texto exemplo\n",
      "texto contém erros ortografico gramaticais\n",
      "dados irrelevantes\n"
     ]
    },
    {
     "name": "stderr",
     "output_type": "stream",
     "text": [
      "[nltk_data] Downloading package stopwords to\n",
      "[nltk_data]     /home/anderson/nltk_data...\n",
      "[nltk_data]   Package stopwords is already up-to-date!\n",
      "[nltk_data] Downloading package punkt to /home/anderson/nltk_data...\n",
      "[nltk_data]   Package punkt is already up-to-date!\n",
      "[nltk_data] Downloading package punkt_tab to\n",
      "[nltk_data]     /home/anderson/nltk_data...\n",
      "[nltk_data]   Package punkt_tab is already up-to-date!\n"
     ]
    }
   ],
   "source": [
    "# Importar as bibliotecas necessárias\n",
    "#!pip install nltk\n",
    "import nltk\n",
    "import string\n",
    "\n",
    "# Baixar os recursos necessários do NLTK\n",
    "nltk.download('stopwords')\n",
    "nltk.download('punkt')\n",
    "\n",
    "# Baixar especificamente o recurso para português\n",
    "nltk.download('punkt_tab')\n",
    "\n",
    "from nltk.corpus import stopwords\n",
    "from nltk.tokenize import word_tokenize\n",
    "\n",
    "# Texto de exemplo\n",
    "textos = [\n",
    "    \"Olá, mundo! Este é um texto de exemplo.\",\n",
    "    \"Este texto contém erros ortografico e gramaticais!!!\",\n",
    "    \"Dados irrelevantes??? $$$\"\n",
    "]\n",
    "\n",
    "# Função de limpeza\n",
    "def limpar_texto(texto):\n",
    "    # Converter para minúsculas\n",
    "    texto = texto.lower()\n",
    "    # Remover pontuação\n",
    "    texto = texto.translate(str.maketrans('', '', string.punctuation))\n",
    "    # Tokenização\n",
    "    tokens = word_tokenize(texto, language='portuguese')\n",
    "    # Remover stopwords\n",
    "    stop_words = set(stopwords.words('portuguese'))\n",
    "    tokens_limpos = [word for word in tokens if word not in stop_words]\n",
    "    # Reunir tokens\n",
    "    texto_limpo = ' '.join(tokens_limpos)\n",
    "    return texto_limpo\n",
    "\n",
    "# Aplicar limpeza aos textos\n",
    "textos_limpos = [limpar_texto(texto) for texto in textos]\n",
    "\n",
    "print(\"Textos Limpos:\")\n",
    "for texto in textos_limpos:\n",
    "    print(texto)\n"
   ]
  },
  {
   "cell_type": "code",
   "execution_count": null,
   "metadata": {},
   "outputs": [],
   "source": []
  }
 ],
 "metadata": {
  "kernelspec": {
   "display_name": "scoras_academy",
   "language": "python",
   "name": "python3"
  },
  "language_info": {
   "codemirror_mode": {
    "name": "ipython",
    "version": 3
   },
   "file_extension": ".py",
   "mimetype": "text/x-python",
   "name": "python",
   "nbconvert_exporter": "python",
   "pygments_lexer": "ipython3",
   "version": "3.12.5"
  }
 },
 "nbformat": 4,
 "nbformat_minor": 2
}
