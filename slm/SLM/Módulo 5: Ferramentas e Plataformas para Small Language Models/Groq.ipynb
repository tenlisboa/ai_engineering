{
 "cells": [
  {
   "cell_type": "code",
   "execution_count": 10,
   "metadata": {},
   "outputs": [
    {
     "name": "stdout",
     "output_type": "stream",
     "text": [
      "Requirement already satisfied: groq in /home/anderson/miniconda3/envs/scoras_academy/lib/python3.12/site-packages (0.11.0)\n",
      "Requirement already satisfied: anyio<5,>=3.5.0 in /home/anderson/miniconda3/envs/scoras_academy/lib/python3.12/site-packages (from groq) (4.4.0)\n",
      "Requirement already satisfied: distro<2,>=1.7.0 in /home/anderson/miniconda3/envs/scoras_academy/lib/python3.12/site-packages (from groq) (1.9.0)\n",
      "Requirement already satisfied: httpx<1,>=0.23.0 in /home/anderson/miniconda3/envs/scoras_academy/lib/python3.12/site-packages (from groq) (0.27.2)\n",
      "Requirement already satisfied: pydantic<3,>=1.9.0 in /home/anderson/miniconda3/envs/scoras_academy/lib/python3.12/site-packages (from groq) (2.9.1)\n",
      "Requirement already satisfied: sniffio in /home/anderson/miniconda3/envs/scoras_academy/lib/python3.12/site-packages (from groq) (1.3.1)\n",
      "Requirement already satisfied: typing-extensions<5,>=4.7 in /home/anderson/miniconda3/envs/scoras_academy/lib/python3.12/site-packages (from groq) (4.12.2)\n",
      "Requirement already satisfied: idna>=2.8 in /home/anderson/miniconda3/envs/scoras_academy/lib/python3.12/site-packages (from anyio<5,>=3.5.0->groq) (3.10)\n",
      "Requirement already satisfied: certifi in /home/anderson/miniconda3/envs/scoras_academy/lib/python3.12/site-packages (from httpx<1,>=0.23.0->groq) (2024.8.30)\n",
      "Requirement already satisfied: httpcore==1.* in /home/anderson/miniconda3/envs/scoras_academy/lib/python3.12/site-packages (from httpx<1,>=0.23.0->groq) (1.0.5)\n",
      "Requirement already satisfied: h11<0.15,>=0.13 in /home/anderson/miniconda3/envs/scoras_academy/lib/python3.12/site-packages (from httpcore==1.*->httpx<1,>=0.23.0->groq) (0.14.0)\n",
      "Requirement already satisfied: annotated-types>=0.6.0 in /home/anderson/miniconda3/envs/scoras_academy/lib/python3.12/site-packages (from pydantic<3,>=1.9.0->groq) (0.7.0)\n",
      "Requirement already satisfied: pydantic-core==2.23.3 in /home/anderson/miniconda3/envs/scoras_academy/lib/python3.12/site-packages (from pydantic<3,>=1.9.0->groq) (2.23.3)\n"
     ]
    }
   ],
   "source": [
    "!pip install groq"
   ]
  },
  {
   "cell_type": "code",
   "execution_count": 11,
   "metadata": {},
   "outputs": [],
   "source": [
    "# Opção 1: Configurar como variável de ambiente\n",
    "import os\n",
    "os.environ[\"GROQ_API_KEY\"] = \"coloque aqui sua chave\"\n",
    "\n",
    "from groq import Groq\n",
    "client = Groq()  # Vai pegar automaticamente a variável de ambiente\n",
    "\n",
    "# OU Opção 2: Passar diretamente ao cliente\n",
    "from groq import Groq\n",
    "client = Groq(\n",
    "    api_key=\"coloque aqui sua chave\"\n",
    ")"
   ]
  },
  {
   "cell_type": "code",
   "execution_count": 13,
   "metadata": {},
   "outputs": [
    {
     "name": "stdout",
     "output_type": "stream",
     "text": [
      "A unidade fundamental em matemática, especialmente em análise!\n",
      "\n",
      "A derivação (ou primeira derivada) e a integração são dois operadores matemáticos que se contradizem, mas são estreitamente relacionados. Aqui, vamos esboçar a diferença entre eles:\n",
      "\n",
      "**Derivação (Primeira Derivada)**\n",
      "\n",
      "A derivação de uma função f(x) é um outro valor, també se denominado a velocidade instantânea da função em um ponto específico x. Em outras palavras, é um valor que representa a mudança instantânea da função em relação ao seu argumento x.\n",
      "\n",
      "Mathématicamente, a derivação é definida como:\n",
      "\n",
      "f'(x) = lim(h → 0) [f(x + h) - f(x)]/h\n",
      "\n",
      "Ou, mais simplesmente:\n",
      "\n",
      "f'(x) = d/dx f(x)\n",
      "\n",
      "A derivação é utilizada em muitos contextos, como:\n",
      "\n",
      "* Encontrar a taxa de mudança de uma grandeza que depende de outro valor.\n",
      "* Descrever processos que envolvem mudanças, como movimento, crescimento etc.\n",
      "* Resolver problemas de óptimos, como minimizar ou maximizar uma quantidade.\n",
      "\n",
      "**Integração**\n",
      "\n",
      "A integração de uma função f(x) é um valor que representa a área sob a curva da função entre dois pontos específicos x1 e x2.\n",
      "\n",
      "Mathématicamente, a integração é definida como:\n",
      "\n",
      "∫f(x)dx = ∫[f(x + h) - f(x)]/h dh\n",
      "\n",
      "Ou, mais simplesmente:\n",
      "\n",
      "∫f(x)dx = F(x) + C\n",
      "\n",
      "onde F(x) é a função antecessora da integração e C é uma constante de integração.\n",
      "\n",
      "A integração é utilizada em muitos contextos, como:\n",
      "\n",
      "* Encontrar áreas, volumes e superfícies dos objetos.\n",
      "* Resolver problemas de acumulação, como encontrar a soma de uma sequência de valores.\n",
      "* Descrever processos que envolvem acúmulo, como fluxo de problemas etc.\n",
      "\n",
      "**Diferença entre Derivação e Integração**\n",
      "\n",
      "A principal diferença entre derivação e integração é o que eles representam:\n",
      "\n",
      "* A derivação representa a mudança instantânea da função, enquanto a integração representa a área sob a curva da função.\n",
      "* A derivação é utilizada para encontrar a taxa de mudança, enquanto a integração é utilizada para encontrar o acúmulo.\n",
      "* A derivação é uma relação entre a função e a mudança do argumento, enquanto a integração é uma relação entre a função e a área sob a curva.\n",
      "\n",
      "Em resumo, a derivação é um operador que procura ouvir a função em um ponto específico, enquanto a integração é um operador que procura a função em todos os pontos entre dois pontos específicos.\n"
     ]
    }
   ],
   "source": [
    "chat_completion = client.chat.completions.create(\n",
    "    messages=[\n",
    "        {\n",
    "            \"role\": \"user\",\n",
    "            \"content\": \"Explique a dirence entre derivada e integral\",\n",
    "        }\n",
    "    ],\n",
    "    model=\"llama3-8b-8192\",\n",
    ")\n",
    "\n",
    "print(chat_completion.choices[0].message.content)"
   ]
  },
  {
   "cell_type": "code",
   "execution_count": null,
   "metadata": {},
   "outputs": [],
   "source": []
  }
 ],
 "metadata": {
  "kernelspec": {
   "display_name": "scoras_academy",
   "language": "python",
   "name": "python3"
  },
  "language_info": {
   "codemirror_mode": {
    "name": "ipython",
    "version": 3
   },
   "file_extension": ".py",
   "mimetype": "text/x-python",
   "name": "python",
   "nbconvert_exporter": "python",
   "pygments_lexer": "ipython3",
   "version": "3.12.5"
  }
 },
 "nbformat": 4,
 "nbformat_minor": 2
}
