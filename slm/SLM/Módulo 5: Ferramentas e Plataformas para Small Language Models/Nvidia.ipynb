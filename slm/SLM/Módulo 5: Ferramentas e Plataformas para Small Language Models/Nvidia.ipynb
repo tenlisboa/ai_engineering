{
 "cells": [
  {
   "cell_type": "code",
   "execution_count": 24,
   "metadata": {},
   "outputs": [
    {
     "name": "stdout",
     "output_type": "stream",
     "text": [
      "Wed Oct 30 19:11:48 2024       \n",
      "+---------------------------------------------------------------------------------------+\n",
      "| NVIDIA-SMI 535.183.01             Driver Version: 535.183.01   CUDA Version: 12.2     |\n",
      "|-----------------------------------------+----------------------+----------------------+\n",
      "| GPU  Name                 Persistence-M | Bus-Id        Disp.A | Volatile Uncorr. ECC |\n",
      "| Fan  Temp   Perf          Pwr:Usage/Cap |         Memory-Usage | GPU-Util  Compute M. |\n",
      "|                                         |                      |               MIG M. |\n",
      "|=========================================+======================+======================|\n",
      "|   0  NVIDIA GeForce RTX 3050 ...    Off | 00000000:01:00.0 Off |                  N/A |\n",
      "| N/A   58C    P8               4W /  60W |      9MiB /  4096MiB |      0%      Default |\n",
      "|                                         |                      |                  N/A |\n",
      "+-----------------------------------------+----------------------+----------------------+\n",
      "                                                                                         \n",
      "+---------------------------------------------------------------------------------------+\n",
      "| Processes:                                                                            |\n",
      "|  GPU   GI   CI        PID   Type   Process name                            GPU Memory |\n",
      "|        ID   ID                                                             Usage      |\n",
      "|=======================================================================================|\n",
      "|    0   N/A  N/A      3344      G   /usr/lib/xorg/Xorg                            4MiB |\n",
      "+---------------------------------------------------------------------------------------+\n",
      "nvidia-tensorrt           99.0.0\n",
      "tensorrt                  10.5.0\n",
      "tensorrt-cu12             10.5.0\n",
      "tensorrt-cu12-bindings    10.5.0\n",
      "tensorrt-cu12-libs        10.5.0\n"
     ]
    }
   ],
   "source": [
    "!nvidia-smi  # Verifica se GPU está sendo reconhecida\n",
    "!pip list | grep tensorrt  # Verifica a instalação do TensorRT"
   ]
  },
  {
   "cell_type": "code",
   "execution_count": 19,
   "metadata": {},
   "outputs": [],
   "source": [
    "import torch.nn as nn\n",
    "\n",
    "class YourModel(nn.Module):\n",
    "    def __init__(self):\n",
    "        super(YourModel, self).__init__()\n",
    "        self.conv1 = nn.Conv2d(3, 64, kernel_size=3)\n",
    "        self.relu = nn.ReLU()\n",
    "        self.pool = nn.MaxPool2d(2)\n",
    "        self.fc = nn.Linear(64 * 111 * 111, 10)  # ajuste os números conforme necessário\n",
    "        \n",
    "    def forward(self, x):\n",
    "        x = self.pool(self.relu(self.conv1(x)))\n",
    "        x = x.view(x.size(0), -1)\n",
    "        x = self.fc(x)\n",
    "        return x"
   ]
  },
  {
   "cell_type": "code",
   "execution_count": 20,
   "metadata": {},
   "outputs": [
    {
     "name": "stdout",
     "output_type": "stream",
     "text": [
      "Requirement already satisfied: torch in /home/anderson/miniconda3/envs/scoras_academy/lib/python3.12/site-packages (2.4.1)\n",
      "Requirement already satisfied: torchvision in /home/anderson/miniconda3/envs/scoras_academy/lib/python3.12/site-packages (0.19.1+cpu)\n",
      "Requirement already satisfied: matplotlib in /home/anderson/miniconda3/envs/scoras_academy/lib/python3.12/site-packages (3.9.2)\n",
      "Requirement already satisfied: numpy in /home/anderson/miniconda3/envs/scoras_academy/lib/python3.12/site-packages (1.26.4)\n",
      "Requirement already satisfied: filelock in /home/anderson/miniconda3/envs/scoras_academy/lib/python3.12/site-packages (from torch) (3.16.1)\n",
      "Requirement already satisfied: typing-extensions>=4.8.0 in /home/anderson/miniconda3/envs/scoras_academy/lib/python3.12/site-packages (from torch) (4.12.2)\n",
      "Requirement already satisfied: sympy in /home/anderson/miniconda3/envs/scoras_academy/lib/python3.12/site-packages (from torch) (1.13.3)\n",
      "Requirement already satisfied: networkx in /home/anderson/miniconda3/envs/scoras_academy/lib/python3.12/site-packages (from torch) (3.3)\n",
      "Requirement already satisfied: jinja2 in /home/anderson/miniconda3/envs/scoras_academy/lib/python3.12/site-packages (from torch) (3.1.4)\n",
      "Requirement already satisfied: fsspec in /home/anderson/miniconda3/envs/scoras_academy/lib/python3.12/site-packages (from torch) (2024.6.1)\n",
      "Requirement already satisfied: setuptools in /home/anderson/miniconda3/envs/scoras_academy/lib/python3.12/site-packages (from torch) (73.0.1)\n",
      "Requirement already satisfied: nvidia-cuda-nvrtc-cu12==12.1.105 in /home/anderson/miniconda3/envs/scoras_academy/lib/python3.12/site-packages (from torch) (12.1.105)\n",
      "Requirement already satisfied: nvidia-cuda-runtime-cu12==12.1.105 in /home/anderson/miniconda3/envs/scoras_academy/lib/python3.12/site-packages (from torch) (12.1.105)\n",
      "Requirement already satisfied: nvidia-cuda-cupti-cu12==12.1.105 in /home/anderson/miniconda3/envs/scoras_academy/lib/python3.12/site-packages (from torch) (12.1.105)\n",
      "Requirement already satisfied: nvidia-cudnn-cu12==9.1.0.70 in /home/anderson/miniconda3/envs/scoras_academy/lib/python3.12/site-packages (from torch) (9.1.0.70)\n",
      "Requirement already satisfied: nvidia-cublas-cu12==12.1.3.1 in /home/anderson/miniconda3/envs/scoras_academy/lib/python3.12/site-packages (from torch) (12.1.3.1)\n",
      "Requirement already satisfied: nvidia-cufft-cu12==11.0.2.54 in /home/anderson/miniconda3/envs/scoras_academy/lib/python3.12/site-packages (from torch) (11.0.2.54)\n",
      "Requirement already satisfied: nvidia-curand-cu12==10.3.2.106 in /home/anderson/miniconda3/envs/scoras_academy/lib/python3.12/site-packages (from torch) (10.3.2.106)\n",
      "Requirement already satisfied: nvidia-cusolver-cu12==11.4.5.107 in /home/anderson/miniconda3/envs/scoras_academy/lib/python3.12/site-packages (from torch) (11.4.5.107)\n",
      "Requirement already satisfied: nvidia-cusparse-cu12==12.1.0.106 in /home/anderson/miniconda3/envs/scoras_academy/lib/python3.12/site-packages (from torch) (12.1.0.106)\n",
      "Requirement already satisfied: nvidia-nccl-cu12==2.20.5 in /home/anderson/miniconda3/envs/scoras_academy/lib/python3.12/site-packages (from torch) (2.20.5)\n",
      "Requirement already satisfied: nvidia-nvtx-cu12==12.1.105 in /home/anderson/miniconda3/envs/scoras_academy/lib/python3.12/site-packages (from torch) (12.1.105)\n",
      "Requirement already satisfied: triton==3.0.0 in /home/anderson/miniconda3/envs/scoras_academy/lib/python3.12/site-packages (from torch) (3.0.0)\n",
      "Requirement already satisfied: nvidia-nvjitlink-cu12 in /home/anderson/miniconda3/envs/scoras_academy/lib/python3.12/site-packages (from nvidia-cusolver-cu12==11.4.5.107->torch) (12.6.77)\n",
      "Requirement already satisfied: pillow!=8.3.*,>=5.3.0 in /home/anderson/miniconda3/envs/scoras_academy/lib/python3.12/site-packages (from torchvision) (10.2.0)\n",
      "Requirement already satisfied: contourpy>=1.0.1 in /home/anderson/miniconda3/envs/scoras_academy/lib/python3.12/site-packages (from matplotlib) (1.3.0)\n",
      "Requirement already satisfied: cycler>=0.10 in /home/anderson/miniconda3/envs/scoras_academy/lib/python3.12/site-packages (from matplotlib) (0.12.1)\n",
      "Requirement already satisfied: fonttools>=4.22.0 in /home/anderson/miniconda3/envs/scoras_academy/lib/python3.12/site-packages (from matplotlib) (4.54.1)\n",
      "Requirement already satisfied: kiwisolver>=1.3.1 in /home/anderson/miniconda3/envs/scoras_academy/lib/python3.12/site-packages (from matplotlib) (1.4.7)\n",
      "Requirement already satisfied: packaging>=20.0 in /home/anderson/miniconda3/envs/scoras_academy/lib/python3.12/site-packages (from matplotlib) (24.1)\n",
      "Requirement already satisfied: pyparsing>=2.3.1 in /home/anderson/miniconda3/envs/scoras_academy/lib/python3.12/site-packages (from matplotlib) (3.1.4)\n",
      "Requirement already satisfied: python-dateutil>=2.7 in /home/anderson/miniconda3/envs/scoras_academy/lib/python3.12/site-packages (from matplotlib) (2.9.0)\n",
      "Requirement already satisfied: six>=1.5 in /home/anderson/miniconda3/envs/scoras_academy/lib/python3.12/site-packages (from python-dateutil>=2.7->matplotlib) (1.16.0)\n",
      "Requirement already satisfied: MarkupSafe>=2.0 in /home/anderson/miniconda3/envs/scoras_academy/lib/python3.12/site-packages (from jinja2->torch) (2.1.5)\n",
      "Requirement already satisfied: mpmath<1.4,>=1.1.0 in /home/anderson/miniconda3/envs/scoras_academy/lib/python3.12/site-packages (from sympy->torch) (1.3.0)\n",
      "Requirement already satisfied: onnx in /home/anderson/miniconda3/envs/scoras_academy/lib/python3.12/site-packages (1.17.0)\n",
      "Requirement already satisfied: numpy>=1.20 in /home/anderson/miniconda3/envs/scoras_academy/lib/python3.12/site-packages (from onnx) (1.26.4)\n",
      "Requirement already satisfied: protobuf>=3.20.2 in /home/anderson/miniconda3/envs/scoras_academy/lib/python3.12/site-packages (from onnx) (5.28.3)\n"
     ]
    }
   ],
   "source": [
    "!pip install torch torchvision matplotlib numpy\n",
    "!pip install onnx  # necessário para exportação ONNX\n"
   ]
  },
  {
   "cell_type": "code",
   "execution_count": 21,
   "metadata": {},
   "outputs": [
    {
     "name": "stdout",
     "output_type": "stream",
     "text": [
      "onnx                      1.17.0\n"
     ]
    }
   ],
   "source": [
    "!pip list | grep onnx"
   ]
  },
  {
   "cell_type": "code",
   "execution_count": 22,
   "metadata": {},
   "outputs": [
    {
     "name": "stdout",
     "output_type": "stream",
     "text": [
      "CUDA disponível: False\n",
      "Dispositivo atual: CPU\n"
     ]
    }
   ],
   "source": [
    "import torch\n",
    "print(f\"CUDA disponível: {torch.cuda.is_available()}\")\n",
    "print(f\"Dispositivo atual: {torch.cuda.get_device_name(0) if torch.cuda.is_available() else 'CPU'}\")"
   ]
  },
  {
   "cell_type": "code",
   "execution_count": 23,
   "metadata": {},
   "outputs": [
    {
     "name": "stdout",
     "output_type": "stream",
     "text": [
      "Requirement already satisfied: nvidia-tensorrt in /home/anderson/miniconda3/envs/scoras_academy/lib/python3.12/site-packages (99.0.0)\n",
      "Requirement already satisfied: tensorrt in /home/anderson/miniconda3/envs/scoras_academy/lib/python3.12/site-packages (from nvidia-tensorrt) (10.5.0)\n",
      "Requirement already satisfied: tensorrt-cu12==10.5.0 in /home/anderson/miniconda3/envs/scoras_academy/lib/python3.12/site-packages (from tensorrt->nvidia-tensorrt) (10.5.0)\n",
      "Python versão: 3.12.5 | packaged by conda-forge | (main, Aug  8 2024, 18:36:51) [GCC 12.4.0]\n",
      "PyTorch versão: 2.4.1+cu121\n",
      "Torchvision versão: 0.19.1+cpu\n"
     ]
    }
   ],
   "source": [
    "!pip install nvidia-tensorrt\n",
    "import sys\n",
    "import torch\n",
    "import torchvision\n",
    "\n",
    "print(f\"Python versão: {sys.version}\")\n",
    "print(f\"PyTorch versão: {torch.__version__}\")\n",
    "print(f\"Torchvision versão: {torchvision.__version__}\")"
   ]
  },
  {
   "cell_type": "code",
   "execution_count": 7,
   "metadata": {},
   "outputs": [
    {
     "name": "stdout",
     "output_type": "stream",
     "text": [
      "Downloading https://www.cs.toronto.edu/~kriz/cifar-10-python.tar.gz to ./data/cifar-10-python.tar.gz\n"
     ]
    },
    {
     "name": "stderr",
     "output_type": "stream",
     "text": [
      "100%|██████████| 170498071/170498071 [02:00<00:00, 1411976.32it/s]\n"
     ]
    },
    {
     "name": "stdout",
     "output_type": "stream",
     "text": [
      "Extracting ./data/cifar-10-python.tar.gz to ./data\n",
      "Files already downloaded and verified\n"
     ]
    }
   ],
   "source": [
    "import torch\n",
    "import torch.nn as nn\n",
    "import torch.optim as optim\n",
    "import torchvision\n",
    "import torchvision.transforms as transforms\n",
    "import matplotlib.pyplot as plt\n",
    "import numpy as np\n",
    "\n",
    "# Definir transformações para as imagens\n",
    "transform = transforms.Compose([\n",
    "    transforms.ToTensor(),\n",
    "    transforms.Normalize((0.5, 0.5, 0.5), (0.5, 0.5, 0.5))\n",
    "])\n",
    "\n",
    "# Carregar o dataset CIFAR-10\n",
    "trainset = torchvision.datasets.CIFAR10(root='./data', train=True,\n",
    "                                      download=True, transform=transform)\n",
    "trainloader = torch.utils.data.DataLoader(trainset, batch_size=4,\n",
    "                                        shuffle=True, num_workers=2)\n",
    "\n",
    "testset = torchvision.datasets.CIFAR10(root='./data', train=False,\n",
    "                                     download=True, transform=transform)\n",
    "testloader = torch.utils.data.DataLoader(testset, batch_size=4,\n",
    "                                       shuffle=False, num_workers=2)\n",
    "\n",
    "# Classes do CIFAR-10\n",
    "classes = ('plane', 'car', 'bird', 'cat', 'deer',\n",
    "           'dog', 'frog', 'horse', 'ship', 'truck')"
   ]
  },
  {
   "cell_type": "code",
   "execution_count": 8,
   "metadata": {},
   "outputs": [
    {
     "name": "stderr",
     "output_type": "stream",
     "text": [
      "/home/anderson/miniconda3/envs/scoras_academy/lib/python3.12/site-packages/torch/cuda/__init__.py:128: UserWarning: CUDA initialization: CUDA unknown error - this may be due to an incorrectly set up environment, e.g. changing env variable CUDA_VISIBLE_DEVICES after program start. Setting the available devices to be zero. (Triggered internally at ../c10/cuda/CUDAFunctions.cpp:108.)\n",
      "  return torch._C._cuda_getDeviceCount() > 0\n"
     ]
    },
    {
     "data": {
      "text/plain": [
       "SimpleConvNet(\n",
       "  (conv1): Conv2d(3, 6, kernel_size=(5, 5), stride=(1, 1))\n",
       "  (pool): MaxPool2d(kernel_size=2, stride=2, padding=0, dilation=1, ceil_mode=False)\n",
       "  (conv2): Conv2d(6, 16, kernel_size=(5, 5), stride=(1, 1))\n",
       "  (fc1): Linear(in_features=400, out_features=120, bias=True)\n",
       "  (fc2): Linear(in_features=120, out_features=84, bias=True)\n",
       "  (fc3): Linear(in_features=84, out_features=10, bias=True)\n",
       "  (relu): ReLU()\n",
       ")"
      ]
     },
     "execution_count": 8,
     "metadata": {},
     "output_type": "execute_result"
    }
   ],
   "source": [
    "class SimpleConvNet(nn.Module):\n",
    "    def __init__(self):\n",
    "        super(SimpleConvNet, self).__init__()\n",
    "        self.conv1 = nn.Conv2d(3, 6, 5)\n",
    "        self.pool = nn.MaxPool2d(2, 2)\n",
    "        self.conv2 = nn.Conv2d(6, 16, 5)\n",
    "        self.fc1 = nn.Linear(16 * 5 * 5, 120)\n",
    "        self.fc2 = nn.Linear(120, 84)\n",
    "        self.fc3 = nn.Linear(84, 10)\n",
    "        self.relu = nn.ReLU()\n",
    "\n",
    "    def forward(self, x):\n",
    "        x = self.pool(self.relu(self.conv1(x)))\n",
    "        x = self.pool(self.relu(self.conv2(x)))\n",
    "        x = x.view(-1, 16 * 5 * 5)\n",
    "        x = self.relu(self.fc1(x))\n",
    "        x = self.relu(self.fc2(x))\n",
    "        x = self.fc3(x)\n",
    "        return x\n",
    "\n",
    "# Criar o modelo\n",
    "model = SimpleConvNet()\n",
    "\n",
    "# Verificar se GPU está disponível\n",
    "device = torch.device(\"cuda:0\" if torch.cuda.is_available() else \"cpu\")\n",
    "model.to(device)"
   ]
  },
  {
   "cell_type": "code",
   "execution_count": 9,
   "metadata": {},
   "outputs": [],
   "source": [
    "def train_model(model, epochs=5):\n",
    "    criterion = nn.CrossEntropyLoss()\n",
    "    optimizer = optim.SGD(model.parameters(), lr=0.001, momentum=0.9)\n",
    "    \n",
    "    print(\"Iniciando treinamento...\")\n",
    "    for epoch in range(epochs):\n",
    "        running_loss = 0.0\n",
    "        for i, data in enumerate(trainloader, 0):\n",
    "            inputs, labels = data[0].to(device), data[1].to(device)\n",
    "            \n",
    "            optimizer.zero_grad()\n",
    "            outputs = model(inputs)\n",
    "            loss = criterion(outputs, labels)\n",
    "            loss.backward()\n",
    "            optimizer.step()\n",
    "            \n",
    "            running_loss += loss.item()\n",
    "            if i % 2000 == 1999:\n",
    "                print(f'[{epoch + 1}, {i + 1:5d}] loss: {running_loss / 2000:.3f}')\n",
    "                running_loss = 0.0\n",
    "    \n",
    "    print('Treinamento finalizado!')\n",
    "    \n",
    "    # Salvar o modelo\n",
    "    torch.save(model.state_dict(), 'cifar_net.pth')"
   ]
  },
  {
   "cell_type": "code",
   "execution_count": 14,
   "metadata": {},
   "outputs": [
    {
     "name": "stdout",
     "output_type": "stream",
     "text": [
      "Iniciando treinamento...\n",
      "[1,  2000] loss: 0.978\n",
      "[1,  4000] loss: 0.960\n",
      "[1,  6000] loss: 1.008\n",
      "[1,  8000] loss: 0.990\n",
      "[1, 10000] loss: 1.011\n",
      "[1, 12000] loss: 1.004\n",
      "[2,  2000] loss: 0.910\n",
      "[2,  4000] loss: 0.928\n",
      "[2,  6000] loss: 0.950\n",
      "[2,  8000] loss: 0.956\n",
      "[2, 10000] loss: 0.967\n",
      "[2, 12000] loss: 0.967\n",
      "[3,  2000] loss: 0.873\n",
      "[3,  4000] loss: 0.879\n",
      "[3,  6000] loss: 0.887\n",
      "[3,  8000] loss: 0.938\n",
      "[3, 10000] loss: 0.933\n",
      "[3, 12000] loss: 0.923\n",
      "[4,  2000] loss: 0.809\n",
      "[4,  4000] loss: 0.850\n",
      "[4,  6000] loss: 0.865\n",
      "[4,  8000] loss: 0.886\n",
      "[4, 10000] loss: 0.881\n",
      "[4, 12000] loss: 0.908\n",
      "[5,  2000] loss: 0.794\n",
      "[5,  4000] loss: 0.817\n",
      "[5,  6000] loss: 0.853\n",
      "[5,  8000] loss: 0.865\n",
      "[5, 10000] loss: 0.857\n",
      "[5, 12000] loss: 0.849\n",
      "Treinamento finalizado!\n",
      "Modelo exportado para ONNX com sucesso!\n"
     ]
    }
   ],
   "source": [
    "# Treinar o modelo\n",
    "train_model(model)\n",
    "\n",
    "# Exportar para ONNX\n",
    "model.eval()\n",
    "dummy_input = torch.randn(1, 3, 32, 32).to(device)\n",
    "torch.onnx.export(model,\n",
    "                 dummy_input,\n",
    "                 \"meu_modelo.onnx\",\n",
    "                 export_params=True,\n",
    "                 opset_version=11,\n",
    "                 do_constant_folding=True,\n",
    "                 input_names=['input'],\n",
    "                 output_names=['output'])\n",
    "\n",
    "print(\"Modelo exportado para ONNX com sucesso!\")"
   ]
  },
  {
   "cell_type": "code",
   "execution_count": 15,
   "metadata": {},
   "outputs": [
    {
     "name": "stdout",
     "output_type": "stream",
     "text": [
      "Acurácia na base de teste: 62.67%\n"
     ]
    }
   ],
   "source": [
    "def test_model():\n",
    "    correct = 0\n",
    "    total = 0\n",
    "    with torch.no_grad():\n",
    "        for data in testloader:\n",
    "            images, labels = data[0].to(device), data[1].to(device)\n",
    "            outputs = model(images)\n",
    "            _, predicted = torch.max(outputs.data, 1)\n",
    "            total += labels.size(0)\n",
    "            correct += (predicted == labels).sum().item()\n",
    "\n",
    "    print(f'Acurácia na base de teste: {100 * correct / total}%')\n",
    "\n",
    "# Testar o modelo\n",
    "test_model()"
   ]
  },
  {
   "cell_type": "markdown",
   "metadata": {},
   "source": [
    "# Análise Detalhada do Notebook: Treinamento de CNN com NVIDIA/CUDA\n",
    "\n",
    "## 1. Verificação e Setup do Ambiente\n",
    "\n",
    "### Verificação de Hardware e Dependências\n",
    "* O notebook começa verificando a disponibilidade de GPU NVIDIA através do comando `nvidia-smi`\n",
    "* Verifica a instalação do TensorRT (framework de otimização da NVIDIA)\n",
    "* Instalação das dependências necessárias:\n",
    "  - PyTorch\n",
    "  - Torchvision\n",
    "  - Matplotlib\n",
    "  - NumPy\n",
    "  - ONNX (para exportação do modelo)\n",
    "\n",
    "### Status do Ambiente\n",
    "* Python versão: 3.12.5\n",
    "* PyTorch versão: 2.4.1+cu121 (compilado com suporte CUDA 12.1)\n",
    "* Torchvision versão: 0.19.1+cpu\n",
    "\n",
    "⚠️ **Observação Importante**: Foi detectado um erro na inicialização do CUDA:\n",
    "```\n",
    "CUDA initialization: CUDA unknown error - this may be due to an incorrectly set up environment\n",
    "```\n",
    "Isto indica que, apesar do PyTorch ter sido instalado com suporte a CUDA, o treinamento acabou sendo executado na CPU.\n",
    "\n",
    "## 2. Arquitetura do Modelo\n",
    "\n",
    "### SimpleConvNet\n",
    "Uma Rede Neural Convolucional (CNN) foi implementada com a seguinte arquitetura:\n",
    "\n",
    "1. **Camadas Convolucionais**:\n",
    "   * `conv1`: Conv2d(3, 6, kernel_size=5) - Entrada RGB (3 canais) → 6 filtros\n",
    "   * `conv2`: Conv2d(6, 16, kernel_size=5) - 6 canais → 16 filtros\n",
    "\n",
    "2. **Camadas Fully Connected**:\n",
    "   * `fc1`: Linear(400, 120)\n",
    "   * `fc2`: Linear(120, 84)\n",
    "   * `fc3`: Linear(84, 10) - Saída para as 10 classes do CIFAR-10\n",
    "\n",
    "3. **Camadas de Ativação e Pooling**:\n",
    "   * ReLU como função de ativação\n",
    "   * MaxPool2d(2, 2) para redução de dimensionalidade\n",
    "\n",
    "## 3. Dataset e Preparação dos Dados\n",
    "\n",
    "* Utilização do dataset CIFAR-10:\n",
    "  - 10 classes diferentes\n",
    "  - Imagens RGB 32x32 pixels\n",
    "  - 50.000 imagens para treino\n",
    "  - 10.000 imagens para teste\n",
    "\n",
    "* **Transformações aplicadas**:\n",
    "  - Conversão para tensor\n",
    "  - Normalização com média (0.5) e desvio padrão (0.5)\n",
    "\n",
    "* **DataLoader Configuration**:\n",
    "  - Batch size: 4\n",
    "  - Shuffle: True (para treino)\n",
    "  - num_workers: 2 (paralelização do carregamento)\n",
    "\n",
    "## 4. Processo de Treinamento\n",
    "\n",
    "### Configurações:\n",
    "* Otimizador: SGD (Stochastic Gradient Descent)\n",
    "  - Learning rate: 0.001\n",
    "  - Momentum: 0.9\n",
    "* Loss Function: CrossEntropyLoss\n",
    "* Epochs: 5\n",
    "\n",
    "### Análise do Treinamento:\n",
    "* O loss diminuiu consistentemente ao longo das épocas:\n",
    "  - Época 1: ~1.0\n",
    "  - Época 5: ~0.85\n",
    "* Isto indica que o modelo estava aprendendo, mas ainda havia espaço para melhorias\n",
    "\n",
    "## 5. Resultados e Performance\n",
    "\n",
    "* **Acurácia Final**: 62.67% no conjunto de teste\n",
    "* Esta performance é razoável para um modelo básico em CIFAR-10, considerando:\n",
    "  - Arquitetura relativamente simples\n",
    "  - Poucas épocas de treinamento\n",
    "  - Batch size pequeno\n",
    "  - Execução em CPU ao invés de GPU\n",
    "\n",
    "## 6. Exportação do Modelo\n",
    "\n",
    "* O modelo foi exportado para formato ONNX\n",
    "* Benefícios do formato ONNX:\n",
    "  - Interoperabilidade entre frameworks\n",
    "  - Otimizações específicas para hardware\n",
    "  - Compatibilidade com ferramentas de inferência\n",
    "\n",
    "## 7. Importância da NVIDIA em Small Language Models\n",
    "\n",
    "### Hardware Acceleration\n",
    "* GPUs NVIDIA fornecem aceleração significativa para:\n",
    "  - Treinamento de modelos\n",
    "  - Inferência em produção\n",
    "  - Otimização de performance\n",
    "\n",
    "### Frameworks e Ferramentas\n",
    "* **CUDA**: Framework para computação paralela\n",
    "* **TensorRT**: Engine de inferência que otimiza modelos para hardware NVIDIA\n",
    "* **Benefícios**:\n",
    "  - Redução no tempo de treinamento\n",
    "  - Menor latência na inferência\n",
    "  - Melhor eficiência energética\n",
    "  - Custos operacionais reduzidos\n",
    "\n",
    "### Ecossistema para SLMs\n",
    "* Suporte para quantização\n",
    "* Otimização de memória\n",
    "* Ferramentas de profiling e debugging\n",
    "* Integração com frameworks populares\n",
    "\n",
    "## 8. Oportunidades de Melhoria\n",
    "\n",
    "1. **Hardware**:\n",
    "   * Corrigir a configuração do CUDA para utilizar GPU\n",
    "   * Aumentar o batch size com GPU disponível\n",
    "\n",
    "2. **Modelo**:\n",
    "   * Adicionar regularização (dropout, batch normalization)\n",
    "   * Experimentar arquiteturas mais profundas\n",
    "   * Implementar data augmentation\n",
    "\n",
    "3. **Treinamento**:\n",
    "   * Aumentar número de épocas\n",
    "   * Implementar learning rate scheduling\n",
    "   * Adicionar early stopping\n",
    "\n",
    "4. **Otimização**:\n",
    "   * Utilizar TensorRT para otimização do modelo\n",
    "   * Implementar técnicas de quantização\n",
    "   * Explorar pruning para redução do modelo\n",
    "\n",
    "Este notebook demonstra o processo completo de desenvolvimento de um modelo de deep learning, desde a preparação dos dados até a exportação do modelo treinado, destacando a importância do ecossistema NVIDIA no desenvolvimento e otimização de Small Language Models."
   ]
  },
  {
   "cell_type": "markdown",
   "metadata": {},
   "source": [
    "Sobre o resultado: A acurácia de 62.67% no conjunto de teste significa que:\n",
    "\n",
    "1. **Interpretação Básica**:\n",
    "   * De todas as imagens no conjunto de teste, o modelo classificou corretamente 62.67% delas\n",
    "   * Em outras palavras, para cada 100 imagens, aproximadamente 63 foram classificadas na categoria correta\n",
    "\n",
    "2. **Contexto do CIFAR-10**:\n",
    "   * Para o dataset CIFAR-10, que tem 10 classes diferentes, este resultado é:\n",
    "     - Melhor que classificação aleatória (que seria 10%)\n",
    "     - Razoável para um modelo básico sem otimizações\n",
    "     - Abaixo do estado da arte (que alcança >95%)\n",
    "\n",
    "3. **Fatores que Influenciaram este Resultado**:\n",
    "   * Treinamento em CPU ao invés de GPU\n",
    "   * Arquitetura relativamente simples\n",
    "   * Apenas 5 épocas de treinamento\n",
    "   * Batch size pequeno (4)\n",
    "   * Sem técnicas de regularização ou data augmentation\n",
    "\n",
    "4. **Comparação**:\n",
    "   * Modelos mais sofisticados no CIFAR-10 alcançam:\n",
    "     - ResNet: ~93-95%\n",
    "     - DenseNet: ~94-96%\n",
    "     - EfficientNet: ~98%\n",
    "\n",
    "5. **Possíveis Melhorias**:\n",
    "   * Aumentar o número de épocas\n",
    "   * Implementar data augmentation\n",
    "   * Usar arquitetura mais complexa\n",
    "   * Adicionar regularização\n",
    "   * Utilizar GPU para permitir mais experimentação\n",
    "\n",
    "Este resultado serve como um bom baseline e demonstra que o modelo aprendeu padrões úteis, mas há bastante espaço para melhorias."
   ]
  },
  {
   "cell_type": "markdown",
   "metadata": {},
   "source": []
  }
 ],
 "metadata": {
  "kernelspec": {
   "display_name": "scoras_academy",
   "language": "python",
   "name": "python3"
  },
  "language_info": {
   "codemirror_mode": {
    "name": "ipython",
    "version": 3
   },
   "file_extension": ".py",
   "mimetype": "text/x-python",
   "name": "python",
   "nbconvert_exporter": "python",
   "pygments_lexer": "ipython3",
   "version": "3.12.5"
  }
 },
 "nbformat": 4,
 "nbformat_minor": 2
}
