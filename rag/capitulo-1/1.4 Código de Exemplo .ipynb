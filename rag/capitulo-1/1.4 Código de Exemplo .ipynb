{
 "cells": [
  {
   "cell_type": "code",
   "execution_count": 1,
   "metadata": {},
   "outputs": [
    {
     "name": "stdout",
     "output_type": "stream",
     "text": [
      "Requirement already satisfied: transformers in /home/anderson/miniconda3/envs/RAG/lib/python3.12/site-packages (4.45.1)\n",
      "Requirement already satisfied: faiss-cpu in /home/anderson/miniconda3/envs/RAG/lib/python3.12/site-packages (1.8.0.post1)\n",
      "Requirement already satisfied: torch in /home/anderson/miniconda3/envs/RAG/lib/python3.12/site-packages (2.4.1)\n",
      "Requirement already satisfied: scikit-learn in /home/anderson/miniconda3/envs/RAG/lib/python3.12/site-packages (1.5.2)\n",
      "Requirement already satisfied: filelock in /home/anderson/miniconda3/envs/RAG/lib/python3.12/site-packages (from transformers) (3.16.1)\n",
      "Requirement already satisfied: huggingface-hub<1.0,>=0.23.2 in /home/anderson/miniconda3/envs/RAG/lib/python3.12/site-packages (from transformers) (0.25.1)\n",
      "Requirement already satisfied: numpy>=1.17 in /home/anderson/miniconda3/envs/RAG/lib/python3.12/site-packages (from transformers) (1.26.4)\n",
      "Requirement already satisfied: packaging>=20.0 in /home/anderson/miniconda3/envs/RAG/lib/python3.12/site-packages (from transformers) (24.1)\n",
      "Requirement already satisfied: pyyaml>=5.1 in /home/anderson/miniconda3/envs/RAG/lib/python3.12/site-packages (from transformers) (6.0.2)\n",
      "Requirement already satisfied: regex!=2019.12.17 in /home/anderson/miniconda3/envs/RAG/lib/python3.12/site-packages (from transformers) (2024.9.11)\n",
      "Requirement already satisfied: requests in /home/anderson/miniconda3/envs/RAG/lib/python3.12/site-packages (from transformers) (2.32.3)\n",
      "Requirement already satisfied: safetensors>=0.4.1 in /home/anderson/miniconda3/envs/RAG/lib/python3.12/site-packages (from transformers) (0.4.5)\n",
      "Requirement already satisfied: tokenizers<0.21,>=0.20 in /home/anderson/miniconda3/envs/RAG/lib/python3.12/site-packages (from transformers) (0.20.0)\n",
      "Requirement already satisfied: tqdm>=4.27 in /home/anderson/miniconda3/envs/RAG/lib/python3.12/site-packages (from transformers) (4.66.5)\n",
      "Requirement already satisfied: typing-extensions>=4.8.0 in /home/anderson/miniconda3/envs/RAG/lib/python3.12/site-packages (from torch) (4.12.2)\n",
      "Requirement already satisfied: sympy in /home/anderson/miniconda3/envs/RAG/lib/python3.12/site-packages (from torch) (1.13.3)\n",
      "Requirement already satisfied: networkx in /home/anderson/miniconda3/envs/RAG/lib/python3.12/site-packages (from torch) (3.3)\n",
      "Requirement already satisfied: jinja2 in /home/anderson/miniconda3/envs/RAG/lib/python3.12/site-packages (from torch) (3.1.4)\n",
      "Requirement already satisfied: fsspec in /home/anderson/miniconda3/envs/RAG/lib/python3.12/site-packages (from torch) (2024.9.0)\n",
      "Requirement already satisfied: setuptools in /home/anderson/miniconda3/envs/RAG/lib/python3.12/site-packages (from torch) (75.1.0)\n",
      "Requirement already satisfied: nvidia-cuda-nvrtc-cu12==12.1.105 in /home/anderson/miniconda3/envs/RAG/lib/python3.12/site-packages (from torch) (12.1.105)\n",
      "Requirement already satisfied: nvidia-cuda-runtime-cu12==12.1.105 in /home/anderson/miniconda3/envs/RAG/lib/python3.12/site-packages (from torch) (12.1.105)\n",
      "Requirement already satisfied: nvidia-cuda-cupti-cu12==12.1.105 in /home/anderson/miniconda3/envs/RAG/lib/python3.12/site-packages (from torch) (12.1.105)\n",
      "Requirement already satisfied: nvidia-cudnn-cu12==9.1.0.70 in /home/anderson/miniconda3/envs/RAG/lib/python3.12/site-packages (from torch) (9.1.0.70)\n",
      "Requirement already satisfied: nvidia-cublas-cu12==12.1.3.1 in /home/anderson/miniconda3/envs/RAG/lib/python3.12/site-packages (from torch) (12.1.3.1)\n",
      "Requirement already satisfied: nvidia-cufft-cu12==11.0.2.54 in /home/anderson/miniconda3/envs/RAG/lib/python3.12/site-packages (from torch) (11.0.2.54)\n",
      "Requirement already satisfied: nvidia-curand-cu12==10.3.2.106 in /home/anderson/miniconda3/envs/RAG/lib/python3.12/site-packages (from torch) (10.3.2.106)\n",
      "Requirement already satisfied: nvidia-cusolver-cu12==11.4.5.107 in /home/anderson/miniconda3/envs/RAG/lib/python3.12/site-packages (from torch) (11.4.5.107)\n",
      "Requirement already satisfied: nvidia-cusparse-cu12==12.1.0.106 in /home/anderson/miniconda3/envs/RAG/lib/python3.12/site-packages (from torch) (12.1.0.106)\n",
      "Requirement already satisfied: nvidia-nccl-cu12==2.20.5 in /home/anderson/miniconda3/envs/RAG/lib/python3.12/site-packages (from torch) (2.20.5)\n",
      "Requirement already satisfied: nvidia-nvtx-cu12==12.1.105 in /home/anderson/miniconda3/envs/RAG/lib/python3.12/site-packages (from torch) (12.1.105)\n",
      "Requirement already satisfied: triton==3.0.0 in /home/anderson/miniconda3/envs/RAG/lib/python3.12/site-packages (from torch) (3.0.0)\n",
      "Requirement already satisfied: nvidia-nvjitlink-cu12 in /home/anderson/miniconda3/envs/RAG/lib/python3.12/site-packages (from nvidia-cusolver-cu12==11.4.5.107->torch) (12.6.77)\n",
      "Requirement already satisfied: scipy>=1.6.0 in /home/anderson/miniconda3/envs/RAG/lib/python3.12/site-packages (from scikit-learn) (1.14.1)\n",
      "Requirement already satisfied: joblib>=1.2.0 in /home/anderson/miniconda3/envs/RAG/lib/python3.12/site-packages (from scikit-learn) (1.4.2)\n",
      "Requirement already satisfied: threadpoolctl>=3.1.0 in /home/anderson/miniconda3/envs/RAG/lib/python3.12/site-packages (from scikit-learn) (3.5.0)\n",
      "Requirement already satisfied: MarkupSafe>=2.0 in /home/anderson/miniconda3/envs/RAG/lib/python3.12/site-packages (from jinja2->torch) (2.1.5)\n",
      "Requirement already satisfied: charset-normalizer<4,>=2 in /home/anderson/miniconda3/envs/RAG/lib/python3.12/site-packages (from requests->transformers) (3.3.2)\n",
      "Requirement already satisfied: idna<4,>=2.5 in /home/anderson/miniconda3/envs/RAG/lib/python3.12/site-packages (from requests->transformers) (3.10)\n",
      "Requirement already satisfied: urllib3<3,>=1.21.1 in /home/anderson/miniconda3/envs/RAG/lib/python3.12/site-packages (from requests->transformers) (2.2.3)\n",
      "Requirement already satisfied: certifi>=2017.4.17 in /home/anderson/miniconda3/envs/RAG/lib/python3.12/site-packages (from requests->transformers) (2024.8.30)\n",
      "Requirement already satisfied: mpmath<1.4,>=1.1.0 in /home/anderson/miniconda3/envs/RAG/lib/python3.12/site-packages (from sympy->torch) (1.3.0)\n"
     ]
    }
   ],
   "source": [
    "!pip install transformers faiss-cpu torch scikit-learn"
   ]
  },
  {
   "cell_type": "code",
   "execution_count": 3,
   "metadata": {},
   "outputs": [
    {
     "name": "stdout",
     "output_type": "stream",
     "text": [
      "Onde fica a Estátua da Liberdade fica em Nova York.\n"
     ]
    }
   ],
   "source": [
    "from transformers import AutoTokenizer, AutoModelForSeq2SeqLM, AutoModel\n",
    "import faiss\n",
    "import torch\n",
    "import warnings\n",
    "warnings.filterwarnings(\"ignore\")\n",
    "from sklearn.feature_extraction.text import TfidfVectorizer\n",
    "\n",
    "# Dados de exemplo\n",
    "documents = [\n",
    "    \"A Torre Eiffel tem 324 metros de altura.\",\n",
    "    \"A Estátua da Liberdade fica em Nova York.\",\n",
    "    \"O Monte Everest é a montanha mais alta do mundo.\",\n",
    "]\n",
    "\n",
    "# Vetorização dos documentos\n",
    "tokenizer = AutoTokenizer.from_pretrained(\"sentence-transformers/all-MiniLM-L6-v2\")\n",
    "model = AutoModel.from_pretrained(\"sentence-transformers/all-MiniLM-L6-v2\")\n",
    "\n",
    "def embed(texts):\n",
    "    inputs = tokenizer(texts, padding=True, truncation=True, return_tensors=\"pt\")\n",
    "    with torch.no_grad():\n",
    "        embeddings = model(**inputs).last_hidden_state.mean(dim=1)\n",
    "    return embeddings.numpy()\n",
    "\n",
    "document_embeddings = embed(documents)\n",
    "\n",
    "# Indexação com FAISS\n",
    "index = faiss.IndexFlatL2(document_embeddings.shape[1])\n",
    "index.add(document_embeddings)\n",
    "\n",
    "# Modelo Gerador\n",
    "generator_tokenizer = AutoTokenizer.from_pretrained(\"t5-small\")\n",
    "generator_model = AutoModelForSeq2SeqLM.from_pretrained(\"t5-small\")\n",
    "\n",
    "# Função de busca e geração\n",
    "def rag(question, top_k=1):\n",
    "    # Embedding da pergunta\n",
    "    question_embedding = embed([question])\n",
    "    # Recuperação dos documentos mais similares\n",
    "    distances, indices = index.search(question_embedding, top_k)\n",
    "    retrieved_docs = [documents[idx] for idx in indices[0]]\n",
    "    # Concatenar documentos recuperados ao prompt\n",
    "    input_text = \" \".join(retrieved_docs) + \" \" + question\n",
    "    inputs = generator_tokenizer.encode(input_text, return_tensors=\"pt\", truncation=True)\n",
    "    with warnings.catch_warnings():\n",
    "        warnings.simplefilter(\"ignore\")\n",
    "    outputs = generator_model.generate(inputs, max_length=50, num_beams=2)\n",
    "    answer = generator_tokenizer.decode(outputs[0], skip_special_tokens=True)\n",
    "    return answer\n",
    "\n",
    "# Exemplo de uso\n",
    "question = \"Onde fica a Estátua da Liberdade?\"\n",
    "print(rag(question))\n"
   ]
  },
  {
   "cell_type": "markdown",
   "metadata": {},
   "source": [
    "# Explicação do Código\n",
    "\n",
    "## 1. Embeddings dos Documentos\n",
    "- Utilizamos um modelo de embeddings para converter os documentos em vetores numéricos.\n",
    "\n",
    "## 2. Indexação com FAISS\n",
    "- Criamos um índice para busca eficiente de vetores similares.\n",
    "\n",
    "## 3. Modelo Gerador\n",
    "- Carregamos um modelo de geração de texto (T5 pequeno).\n",
    "\n",
    "## 4. Função RAG\n",
    "A função RAG realiza as seguintes etapas:\n",
    "1. Recupera os documentos mais relevantes para a pergunta.\n",
    "2. Combina os documentos recuperados com a pergunta.\n",
    "3. Gera a resposta usando o modelo gerador.\n",
    "\n",
    "## 5. Exemplo de Uso\n",
    "- Perguntamos sobre a altura da Torre Eiffel e o modelo gera a resposta."
   ]
  },
  {
   "cell_type": "markdown",
   "metadata": {},
   "source": []
  }
 ],
 "metadata": {
  "kernelspec": {
   "display_name": "RAG",
   "language": "python",
   "name": "python3"
  },
  "language_info": {
   "codemirror_mode": {
    "name": "ipython",
    "version": 3
   },
   "file_extension": ".py",
   "mimetype": "text/x-python",
   "name": "python",
   "nbconvert_exporter": "python",
   "pygments_lexer": "ipython3",
   "version": "3.12.6"
  }
 },
 "nbformat": 4,
 "nbformat_minor": 2
}
